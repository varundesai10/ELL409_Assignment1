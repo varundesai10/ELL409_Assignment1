{
 "cells": [
  {
   "cell_type": "code",
   "execution_count": 1,
   "metadata": {},
   "outputs": [],
   "source": [
    "import numpy as np\n",
    "import pandas as pd\n",
    "import matplotlib.pyplot as plt"
   ]
  },
  {
   "cell_type": "code",
   "execution_count": 2,
   "metadata": {},
   "outputs": [
    {
     "data": {
      "text/html": [
       "<div>\n",
       "<style scoped>\n",
       "    .dataframe tbody tr th:only-of-type {\n",
       "        vertical-align: middle;\n",
       "    }\n",
       "\n",
       "    .dataframe tbody tr th {\n",
       "        vertical-align: top;\n",
       "    }\n",
       "\n",
       "    .dataframe thead th {\n",
       "        text-align: right;\n",
       "    }\n",
       "</style>\n",
       "<table border=\"1\" class=\"dataframe\">\n",
       "  <thead>\n",
       "    <tr style=\"text-align: right;\">\n",
       "      <th></th>\n",
       "      <th>age</th>\n",
       "      <th>restbps</th>\n",
       "      <th>chol</th>\n",
       "      <th>category</th>\n",
       "    </tr>\n",
       "  </thead>\n",
       "  <tbody>\n",
       "    <tr>\n",
       "      <th>0</th>\n",
       "      <td>26</td>\n",
       "      <td>109</td>\n",
       "      <td>243</td>\n",
       "      <td>0</td>\n",
       "    </tr>\n",
       "    <tr>\n",
       "      <th>1</th>\n",
       "      <td>27</td>\n",
       "      <td>106</td>\n",
       "      <td>156</td>\n",
       "      <td>0</td>\n",
       "    </tr>\n",
       "    <tr>\n",
       "      <th>2</th>\n",
       "      <td>28</td>\n",
       "      <td>107</td>\n",
       "      <td>225</td>\n",
       "      <td>0</td>\n",
       "    </tr>\n",
       "    <tr>\n",
       "      <th>3</th>\n",
       "      <td>27</td>\n",
       "      <td>105</td>\n",
       "      <td>277</td>\n",
       "      <td>0</td>\n",
       "    </tr>\n",
       "    <tr>\n",
       "      <th>4</th>\n",
       "      <td>30</td>\n",
       "      <td>96</td>\n",
       "      <td>221</td>\n",
       "      <td>0</td>\n",
       "    </tr>\n",
       "  </tbody>\n",
       "</table>\n",
       "</div>"
      ],
      "text/plain": [
       "   age  restbps  chol  category\n",
       "0   26      109   243         0\n",
       "1   27      106   156         0\n",
       "2   28      107   225         0\n",
       "3   27      105   277         0\n",
       "4   30       96   221         0"
      ]
     },
     "execution_count": 2,
     "metadata": {},
     "output_type": "execute_result"
    }
   ],
   "source": [
    "data = pd.read_csv(\"health_data.csv\")\n",
    "data.head()"
   ]
  },
  {
   "cell_type": "code",
   "execution_count": 3,
   "metadata": {},
   "outputs": [
    {
     "name": "stdout",
     "output_type": "stream",
     "text": [
      "[[0 1 1 0 1 0 0 0 0 0 1 0 1 0 1 1 1 1 0 1 0 1 1 1 0 1 1 0 0 0 0 0 0 0 1 0\n",
      "  1 0 1 1 0 1 1 0 0 1 1 1 1 0 0 0 1 0 1 0 0 1 0 0 0 0 0 0 1 0 0 0 0 1 1 0\n",
      "  1 0 1 1 1 1 0 0 1 0 0 0 1 0 0 0 0 0 1 1 1 0 0 0 0 0 1 1 0 0 0 0 1 1 0 0\n",
      "  0 0 0 0 0 0 0 1 1 0 0 0 0 1 0 0 0 0 0 0 0 1 1 1 0 1 0 1 1 0 0 0 1 1 0 0\n",
      "  1 0 1 0 0 1 0 0 0 1 0 1 0 0 0 0 0 0 1 1 1 0 0 0 0 0 0 0 0 0 0 1 0 0 0 1\n",
      "  1 0 0 0 0 1 0 0 1 1 0 0 0 1 0 0 0 0 1 1 1 1 1 0 0 1 1 0 1 0 0 1 0 1 1 1\n",
      "  0 0 1 0 1 1 0 1 1 1 0 1 0 0 0 1 1 0 0 0 1 1 1 1 1 0 1 0 0 1 0 0 0 0 1 0\n",
      "  0 0 1 0 1 0 0 0 1 1 0 0 0 1 0 1 0 0 0 0 0 0 1 0 1 1 0 0 1 0 0 1 1 0 0 0\n",
      "  1 0 0 0 1 0 1 0 0 0 0 0 1 0 0 1 0 1 0 1 0 0 1 1 0 0 0 0 0 1 0 1 1 1 0 1\n",
      "  1 0 0 0 1 0 1 1 0 0 0 1 0 1 0 1 1 1 0 0 0 0 0 1 1 0 1 0 0 1 1 1 1 0 1 1\n",
      "  0 0 1 1 0 0 0 1 0 0 0 0 0 0 1 0 1 1 1 0 0 1 0 1 0 0 0 0 0 1 0 1 1 0 0 1\n",
      "  0 0 1 1 0 0 0 0 0 0 0 0 0 0 0 1 0 0 1 1 0 1 0 1 0 1 0 0 0 0 0 1 0 0 0 0\n",
      "  1 0 0 0 0 1 0 0 0 1 0 0 0 1 0 1 1 1 1 0 1 0 1 1 0 1 1 1 0 0 0 0 1 0 0 0\n",
      "  0 1 1 1 1 1 1 0 1 0 0 0 0 0 0 0 0 0 1 1 0 0 0 0 0 1 1 0 1 0 1 1 1 0 0 0\n",
      "  0 0 1 1 0 1 1 0 1 0 0 1 1 0 1 1 0 0 1 0 0 1 0 1 0 0 0 0 0 1 0 1 1 0 0 0\n",
      "  0 1 1 0 0 0 0 1 1 1 0 0 0 0 0 0 0 1 0 0]]\n"
     ]
    },
    {
     "name": "stderr",
     "output_type": "stream",
     "text": [
      "E:\\Anaconda\\lib\\site-packages\\ipykernel_launcher.py:7: FutureWarning: Using a non-tuple sequence for multidimensional indexing is deprecated; use `arr[tuple(seq)]` instead of `arr[seq]`. In the future this will be interpreted as an array index, `arr[np.array(seq)]`, which will result either in an error or a different result.\n",
      "  import sys\n",
      "E:\\Anaconda\\lib\\site-packages\\ipykernel_launcher.py:8: FutureWarning: Using a non-tuple sequence for multidimensional indexing is deprecated; use `arr[tuple(seq)]` instead of `arr[seq]`. In the future this will be interpreted as an array index, `arr[np.array(seq)]`, which will result either in an error or a different result.\n",
      "  \n",
      "E:\\Anaconda\\lib\\site-packages\\ipykernel_launcher.py:11: FutureWarning: Using a non-tuple sequence for multidimensional indexing is deprecated; use `arr[tuple(seq)]` instead of `arr[seq]`. In the future this will be interpreted as an array index, `arr[np.array(seq)]`, which will result either in an error or a different result.\n",
      "  # This is added back by InteractiveShellApp.init_path()\n",
      "E:\\Anaconda\\lib\\site-packages\\ipykernel_launcher.py:12: FutureWarning: Using a non-tuple sequence for multidimensional indexing is deprecated; use `arr[tuple(seq)]` instead of `arr[seq]`. In the future this will be interpreted as an array index, `arr[np.array(seq)]`, which will result either in an error or a different result.\n",
      "  if sys.path[0] == '':\n"
     ]
    }
   ],
   "source": [
    "X = data.to_numpy()[:, :3]\n",
    "Y = data.to_numpy()[:, 3]\n",
    "split = 0.8 #using 70:30 split, random each time\n",
    "train_samples = np.random.choice(X.shape[0], int(split*X.shape[0]))\n",
    "test_samples = np.array([i for i in range(X.shape[0]) if i not in list(train_samples)])\n",
    "\n",
    "X_train = X[[train_samples]]\n",
    "Y_train = Y[[train_samples]].reshape((1,train_samples.shape[0]))\n",
    "print(Y_train)\n",
    "\n",
    "X_test = X[[test_samples]]\n",
    "Y_test = Y[[test_samples]].reshape((1,test_samples.shape[0]))"
   ]
  },
  {
   "cell_type": "code",
   "execution_count": 4,
   "metadata": {},
   "outputs": [],
   "source": [
    "#the number of classes\n",
    "no_of_classes = 2"
   ]
  },
  {
   "cell_type": "code",
   "execution_count": 5,
   "metadata": {},
   "outputs": [],
   "source": [
    "#define sigmoid function:\n",
    "def sigmoid(z):\n",
    "    return 1/(np.exp(-1*z)+1)"
   ]
  },
  {
   "cell_type": "code",
   "execution_count": 6,
   "metadata": {},
   "outputs": [],
   "source": [
    "def cost_function_cross_entropy(logit, Y):\n",
    "    m = Y.shape[1]\n",
    "    return -np.sum((Y*np.log(logit)+(1-Y)*np.log(1-logit)))/m"
   ]
  },
  {
   "cell_type": "code",
   "execution_count": 8,
   "metadata": {},
   "outputs": [],
   "source": [
    "def gradient(w,b,X,Y,X_t,Y_t ,reg_const = 1e-2):\n",
    "    \n",
    "    m = X.shape[1]\n",
    "    logit = sigmoid(np.dot(w.T,X) + b)\n",
    "    logit_t = sigmoid(np.dot(w.T,X_t) + b)\n",
    "    cost = cost_function_cross_entropy(logit, Y)\n",
    "    cost_test = cost_function_cross_entropy(logit_t, Y_t)\n",
    "    dw = np.dot(X, (logit - Y).T)/m\n",
    "    db = np.sum(logit - Y , axis = 1, keepdims = True)/m\n",
    "    \n",
    "    assert(dw.shape == w.shape)\n",
    "    assert(db.dtype == float)\n",
    "    \n",
    "    gradient = {\"dw\" : dw, \"db\" : db}\n",
    "    return gradient, cost, cost_test\n",
    "    "
   ]
  },
  {
   "cell_type": "code",
   "execution_count": 9,
   "metadata": {},
   "outputs": [],
   "source": [
    "#optimize:\n",
    "def optimization(w,b,X,Y,X_t,Y_t ,epoches, lr_alpha, algorithm, reg_const = 1e-2):\n",
    "    costs = []\n",
    "    costs_test = []\n",
    "    for i in range(epoches):\n",
    "        gradients, cost, cost_test = algorithm(w,b,X,Y, X_t,Y_t, reg_const)\n",
    "        \n",
    "        dw = gradients[\"dw\"]\n",
    "        db = gradients[\"db\"]\n",
    "        \n",
    "        w = w - lr_alpha*dw\n",
    "        b = b - lr_alpha*db\n",
    "        if i % 100 == 0:\n",
    "            costs.append(cost)\n",
    "            costs_test.append(cost_test)\n",
    "        params = {\"w\" : w, \"b\" : b}\n",
    "    return params, costs, costs_test"
   ]
  },
  {
   "cell_type": "code",
   "execution_count": 10,
   "metadata": {},
   "outputs": [],
   "source": [
    "def prediction(w,b,X):\n",
    "    m = X.shape[1] #no of data points\n",
    "    Y_prediction = np.zeros((1, m))#prediciton will be one hot encoding for each data\n",
    "    w = w.reshape(X.shape[0], 1)\n",
    "    \n",
    "    logit = sigmoid(np.dot(w.T, X) + b)\n",
    "    #print(logit)\n",
    "    for i in range(logit.shape[1]):\n",
    "        if(logit[0,i] <= 0.5):\n",
    "            Y_prediction[0,i] = 0\n",
    "        else:\n",
    "            Y_prediction[0,i] = 1\n",
    "    assert(Y_prediction.shape ==(1, m))\n",
    "    return Y_prediction"
   ]
  },
  {
   "cell_type": "code",
   "execution_count": 13,
   "metadata": {},
   "outputs": [],
   "source": [
    "def model(X_train, Y_train, X_test, Y_test,algorithm, epoches = 2000, learning_rate = 0.5, reg_const = 1e-2):\n",
    "    w = np.zeros((X_train.shape[0],1))\n",
    "    b = 0\n",
    "    parameters, costs, costs_test = optimization(w, b, X_train, Y_train,X_test, Y_test, epoches, learning_rate, algorithm, reg_const)\n",
    "    w = parameters[\"w\"]\n",
    "    b = parameters[\"b\"]\n",
    "    Y_prediction_test = prediction(w, b, X_test)\n",
    "    Y_prediction_train = prediction(w, b, X_train)\n",
    "    print(Y_prediction_train.shape)\n",
    "    print(Y_prediction_test.shape)\n",
    "    print(\"train accuracy: {} %\".format(100 - np.mean(np.abs(Y_prediction_train[0,:] - Y_train[0,:])) * 100))\n",
    "    print(\"test accuracy: {} %\".format(100 - np.mean(np.abs(Y_prediction_test[0,:] - Y_test[0,:])) * 100))\n",
    "    \n",
    "    \n",
    "    d = {\"costs\": costs,\n",
    "         \"costs_test\": costs_test,\n",
    "         \"Y_prediction_test\": Y_prediction_test, \n",
    "         \"Y_prediction_train\" : Y_prediction_train, \n",
    "         \"w\" : w, \n",
    "         \"b\" : b,\n",
    "         \"learning_rate\" : learning_rate,\n",
    "         \"num_iterations\": epoches}\n",
    "    \n",
    "    return d"
   ]
  },
  {
   "cell_type": "markdown",
   "metadata": {},
   "source": [
    "# without_regulerizer"
   ]
  },
  {
   "cell_type": "code",
   "execution_count": 37,
   "metadata": {},
   "outputs": [
    {
     "name": "stdout",
     "output_type": "stream",
     "text": [
      "(1, 560)\n",
      "(1, 320)\n",
      "train accuracy: 82.32142857142857 %\n",
      "test accuracy: 80.0 %\n"
     ]
    }
   ],
   "source": [
    "d0 = model(X_train.T, Y_train, X_test.T, Y_test, gradient, epoches = 200000, learning_rate = 0.00005, reg_const = 1e-2)"
   ]
  },
  {
   "cell_type": "code",
   "execution_count": 63,
   "metadata": {},
   "outputs": [
    {
     "name": "stdout",
     "output_type": "stream",
     "text": [
      "[[151.  44.]\n",
      " [ 20. 105.]]\n"
     ]
    }
   ],
   "source": [
    "Y_pred = np.array(d0[\"Y_prediction_test\"])\n",
    "C = np.zeros((no_of_classes, no_of_classes))\n",
    "#print(Y_test.shape)\n",
    "#print(Y_test)\n",
    "#print(Y_pred)\n",
    "j = 0\n",
    "for i in range(Y_test.shape[1]):\n",
    "    index1 = int(Y_pred[0,i])\n",
    "    index2 = int(Y_test[0,i])\n",
    "    #print(index1)\n",
    "    #print(index2)\n",
    "    if index1 == index2:\n",
    "        j = j+1\n",
    "    C[index1 , index2] +=1\n",
    "print(C)"
   ]
  },
  {
   "cell_type": "code",
   "execution_count": 65,
   "metadata": {},
   "outputs": [
    {
     "data": {
      "image/png": "[encoded data removed]",
      "text/plain": [
       "<Figure size 432x288 with 1 Axes>"
      ]
     },
     "metadata": {
      "needs_background": "light"
     },
     "output_type": "display_data"
    }
   ],
   "source": [
    "costs01 = np.squeeze(d0['costs'])\n",
    "costs02 = np.squeeze(d0['costs_test'])\n",
    "plt.plot(costs01)\n",
    "plt.plot(costs02)\n",
    "plt.legend([\"test\", \"train\"])\n",
    "plt.xlabel('Iteration'); plt.ylabel('error'); plt.title('error VS iteration curve');"
   ]
  },
  {
   "cell_type": "code",
   "execution_count": 39,
   "metadata": {},
   "outputs": [
    {
     "data": {
      "text/plain": [
       "[<matplotlib.lines.Line2D at 0x1da09193248>]"
      ]
     },
     "execution_count": 39,
     "metadata": {},
     "output_type": "execute_result"
    },
    {
     "data": {
      "image/png": "[encoded data removed]",
      "text/plain": [
       "<Figure size 432x288 with 1 Axes>"
      ]
     },
     "metadata": {
      "needs_background": "light"
     },
     "output_type": "display_data"
    }
   ],
   "source": [
    "costs02 = np.squeeze(d0['costs_test'])\n",
    "plt.plot(costs02)"
   ]
  },
  {
   "cell_type": "markdown",
   "metadata": {},
   "source": [
    "# L1"
   ]
  },
  {
   "cell_type": "code",
   "execution_count": 40,
   "metadata": {},
   "outputs": [
    {
     "name": "stdout",
     "output_type": "stream",
     "text": [
      "(1, 560)\n",
      "(1, 320)\n",
      "train accuracy: 82.32142857142857 %\n",
      "test accuracy: 80.0 %\n"
     ]
    }
   ],
   "source": [
    "d1 = model(X_train.T, Y_train, X_test.T, Y_test, gradient_L1, epoches = 200000, learning_rate = 0.00005, reg_const = 1e-2)"
   ]
  },
  {
   "cell_type": "code",
   "execution_count": 69,
   "metadata": {},
   "outputs": [
    {
     "name": "stdout",
     "output_type": "stream",
     "text": [
      "[[151.  44.]\n",
      " [ 20. 105.]]\n"
     ]
    }
   ],
   "source": [
    "Y_pred = np.array(d1[\"Y_prediction_test\"])\n",
    "C = np.zeros((no_of_classes, no_of_classes))\n",
    "#print(Y_test.shape)\n",
    "#print(Y_test)\n",
    "#print(Y_pred)\n",
    "j = 0\n",
    "for i in range(Y_test.shape[1]):\n",
    "    index1 = int(Y_pred[0,i])\n",
    "    index2 = int(Y_test[0,i])\n",
    "    #print(index1)\n",
    "    #print(index2)\n",
    "    if index1 == index2:\n",
    "        j = j+1\n",
    "    C[index1 , index2] +=1\n",
    "print(C)"
   ]
  },
  {
   "cell_type": "code",
   "execution_count": 41,
   "metadata": {},
   "outputs": [
    {
     "data": {
      "text/plain": [
       "[<matplotlib.lines.Line2D at 0x1da0920cbc8>]"
      ]
     },
     "execution_count": 41,
     "metadata": {},
     "output_type": "execute_result"
    },
    {
     "data": {
      "image/png": "[encoded data removed]",
      "text/plain": [
       "<Figure size 432x288 with 1 Axes>"
      ]
     },
     "metadata": {
      "needs_background": "light"
     },
     "output_type": "display_data"
    }
   ],
   "source": [
    "costs11 = np.squeeze(d1['costs'])\n",
    "plt.plot(costs11)"
   ]
  },
  {
   "cell_type": "code",
   "execution_count": 66,
   "metadata": {},
   "outputs": [
    {
     "data": {
      "image/png": "[encoded data removed]",
      "text/plain": [
       "<Figure size 432x288 with 1 Axes>"
      ]
     },
     "metadata": {
      "needs_background": "light"
     },
     "output_type": "display_data"
    }
   ],
   "source": [
    "costs11 = np.squeeze(d1['costs'])\n",
    "costs12 = np.squeeze(d1['costs_test'])\n",
    "plt.plot(costs11)\n",
    "plt.plot(costs12)\n",
    "plt.legend([\"test\", \"train\"])\n",
    "plt.xlabel('Iteration'); plt.ylabel('error'); plt.title('error VS iteration curve for L1');"
   ]
  },
  {
   "cell_type": "code",
   "execution_count": 42,
   "metadata": {},
   "outputs": [
    {
     "data": {
      "text/plain": [
       "[<matplotlib.lines.Line2D at 0x1da09263c08>]"
      ]
     },
     "execution_count": 42,
     "metadata": {},
     "output_type": "execute_result"
    },
    {
     "data": {
      "image/png": "[encoded data removed]",
      "text/plain": [
       "<Figure size 432x288 with 1 Axes>"
      ]
     },
     "metadata": {
      "needs_background": "light"
     },
     "output_type": "display_data"
    }
   ],
   "source": [
    "costs12 = np.squeeze(d1['costs_test'])\n",
    "plt.plot(costs12)"
   ]
  },
  {
   "cell_type": "markdown",
   "metadata": {},
   "source": [
    "# L2"
   ]
  },
  {
   "cell_type": "code",
   "execution_count": 43,
   "metadata": {},
   "outputs": [
    {
     "name": "stdout",
     "output_type": "stream",
     "text": [
      "(1, 560)\n",
      "(1, 320)\n",
      "train accuracy: 82.32142857142857 %\n",
      "test accuracy: 80.0 %\n"
     ]
    }
   ],
   "source": [
    "d2 = model(X_train.T, Y_train, X_test.T, Y_test, gradient_L2, epoches = 200000, learning_rate = 0.00005, reg_const = 1e-2)"
   ]
  },
  {
   "cell_type": "code",
   "execution_count": 44,
   "metadata": {},
   "outputs": [
    {
     "data": {
      "text/plain": [
       "[<matplotlib.lines.Line2D at 0x1da092f07c8>]"
      ]
     },
     "execution_count": 44,
     "metadata": {},
     "output_type": "execute_result"
    },
    {
     "data": {
      "image/png": "[encoded data removed]",
      "text/plain": [
       "<Figure size 432x288 with 1 Axes>"
      ]
     },
     "metadata": {
      "needs_background": "light"
     },
     "output_type": "display_data"
    }
   ],
   "source": [
    "costs21 = np.squeeze(d2['costs'])\n",
    "plt.plot(costs21)"
   ]
  },
  {
   "cell_type": "code",
   "execution_count": 70,
   "metadata": {},
   "outputs": [
    {
     "name": "stdout",
     "output_type": "stream",
     "text": [
      "[[151.  44.]\n",
      " [ 20. 105.]]\n"
     ]
    }
   ],
   "source": [
    "Y_pred = np.array(d2[\"Y_prediction_test\"])\n",
    "C = np.zeros((no_of_classes, no_of_classes))\n",
    "#print(Y_test.shape)\n",
    "#print(Y_test)\n",
    "#print(Y_pred)\n",
    "j = 0\n",
    "for i in range(Y_test.shape[1]):\n",
    "    index1 = int(Y_pred[0,i])\n",
    "    index2 = int(Y_test[0,i])\n",
    "    #print(index1)\n",
    "    #print(index2)\n",
    "    if index1 == index2:\n",
    "        j = j+1\n",
    "    C[index1 , index2] +=1\n",
    "print(C)"
   ]
  },
  {
   "cell_type": "code",
   "execution_count": 67,
   "metadata": {},
   "outputs": [
    {
     "data": {
      "image/png": "[encoded data removed]",
      "text/plain": [
       "<Figure size 432x288 with 1 Axes>"
      ]
     },
     "metadata": {
      "needs_background": "light"
     },
     "output_type": "display_data"
    }
   ],
   "source": [
    "costs21 = np.squeeze(d2['costs'])\n",
    "costs22 = np.squeeze(d2['costs_test'])\n",
    "plt.plot(costs21)\n",
    "plt.plot(costs22)\n",
    "plt.legend([\"test\", \"train\"])\n",
    "plt.xlabel('Iteration'); plt.ylabel('error'); plt.title('error VS iteration curve for L2');"
   ]
  },
  {
   "cell_type": "code",
   "execution_count": 45,
   "metadata": {},
   "outputs": [
    {
     "data": {
      "text/plain": [
       "[<matplotlib.lines.Line2D at 0x1da09379948>]"
      ]
     },
     "execution_count": 45,
     "metadata": {},
     "output_type": "execute_result"
    },
    {
     "data": {
      "image/png": "[encoded data removed]",
      "text/plain": [
       "<Figure size 432x288 with 1 Axes>"
      ]
     },
     "metadata": {
      "needs_background": "light"
     },
     "output_type": "display_data"
    }
   ],
   "source": [
    "costs22 = np.squeeze(d2['costs_test'])\n",
    "plt.plot(costs22)"
   ]
  },
  {
   "cell_type": "markdown",
   "metadata": {},
   "source": [
    "# elastic"
   ]
  },
  {
   "cell_type": "code",
   "execution_count": 46,
   "metadata": {},
   "outputs": [
    {
     "name": "stdout",
     "output_type": "stream",
     "text": [
      "(1, 560)\n",
      "(1, 320)\n",
      "train accuracy: 82.32142857142857 %\n",
      "test accuracy: 80.0 %\n"
     ]
    }
   ],
   "source": [
    "d3 = model(X_train.T, Y_train, X_test.T, Y_test, gradient_elastic, epoches = 200000, learning_rate = 0.00005, reg_const = 1e-2)"
   ]
  },
  {
   "cell_type": "code",
   "execution_count": 47,
   "metadata": {},
   "outputs": [
    {
     "data": {
      "text/plain": [
       "[<matplotlib.lines.Line2D at 0x1da093f4ac8>]"
      ]
     },
     "execution_count": 47,
     "metadata": {},
     "output_type": "execute_result"
    },
    {
     "data": {
      "image/png": "[encoded data removed]",
      "text/plain": [
       "<Figure size 432x288 with 1 Axes>"
      ]
     },
     "metadata": {
      "needs_background": "light"
     },
     "output_type": "display_data"
    }
   ],
   "source": [
    "costs31 = np.squeeze(d3['costs'])\n",
    "plt.plot(costs31)"
   ]
  },
  {
   "cell_type": "code",
   "execution_count": 71,
   "metadata": {},
   "outputs": [
    {
     "name": "stdout",
     "output_type": "stream",
     "text": [
      "[[151.  44.]\n",
      " [ 20. 105.]]\n"
     ]
    }
   ],
   "source": [
    "Y_pred = np.array(d3[\"Y_prediction_test\"])\n",
    "C = np.zeros((no_of_classes, no_of_classes))\n",
    "#print(Y_test.shape)\n",
    "#print(Y_test)\n",
    "#print(Y_pred)\n",
    "j = 0\n",
    "for i in range(Y_test.shape[1]):\n",
    "    index1 = int(Y_pred[0,i])\n",
    "    index2 = int(Y_test[0,i])\n",
    "    #print(index1)\n",
    "    #print(index2)\n",
    "    if index1 == index2:\n",
    "        j = j+1\n",
    "    C[index1 , index2] +=1\n",
    "print(C)"
   ]
  },
  {
   "cell_type": "code",
   "execution_count": 68,
   "metadata": {},
   "outputs": [
    {
     "data": {
      "image/png": "[encoded data removed]",
      "text/plain": [
       "<Figure size 432x288 with 1 Axes>"
      ]
     },
     "metadata": {
      "needs_background": "light"
     },
     "output_type": "display_data"
    }
   ],
   "source": [
    "costs31 = np.squeeze(d3['costs'])\n",
    "costs32 = np.squeeze(d3['costs_test'])\n",
    "plt.plot(costs31)\n",
    "plt.plot(costs32)\n",
    "plt.legend([\"test\", \"train\"])\n",
    "plt.xlabel('Iteration'); plt.ylabel('error'); plt.title('error VS iteration curve for ELASTIC');"
   ]
  },
  {
   "cell_type": "code",
   "execution_count": 48,
   "metadata": {},
   "outputs": [
    {
     "data": {
      "text/plain": [
       "[<matplotlib.lines.Line2D at 0x1da0948a6c8>]"
      ]
     },
     "execution_count": 48,
     "metadata": {},
     "output_type": "execute_result"
    },
    {
     "data": {
      "image/png": "[encoded data removed]",
      "text/plain": [
       "<Figure size 432x288 with 1 Axes>"
      ]
     },
     "metadata": {
      "needs_background": "light"
     },
     "output_type": "display_data"
    }
   ],
   "source": [
    "costs32= np.squeeze(d3['costs_test'])\n",
    "plt.plot(costs32)"
   ]
  },
  {
   "cell_type": "markdown",
   "metadata": {},
   "source": [
    "# L1 regulerizer"
   ]
  },
  {
   "cell_type": "code",
   "execution_count": 34,
   "metadata": {},
   "outputs": [],
   "source": [
    "def gradient_L1(w,b,X,Y,X_t,Y_t, reg_const =1e-2):\n",
    "    \n",
    "    m = X.shape[1]\n",
    "    logit = sigmoid(np.dot(w.T,X) + b)\n",
    "    logit_t = sigmoid(np.dot(w.T,X_t) + b)\n",
    "    cost = cost_function_cross_entropy(logit, Y)\n",
    "    cost_test = cost_function_cross_entropy(logit_t, Y_t)\n",
    "    dw = np.dot(X, (logit - Y).T)/m + reg_const*np.sign(w)\n",
    "    db = np.sum(logit - Y , axis = 1, keepdims = True)/m\n",
    "    \n",
    "    assert(dw.shape == w.shape)\n",
    "    assert(db.dtype == float)\n",
    "    \n",
    "    gradient = {\"dw\" : dw, \"db\" : db}\n",
    "    return gradient, cost, cost_test"
   ]
  },
  {
   "cell_type": "markdown",
   "metadata": {},
   "source": [
    "# L2 regulerizer"
   ]
  },
  {
   "cell_type": "code",
   "execution_count": 35,
   "metadata": {},
   "outputs": [],
   "source": [
    "def gradient_L2(w,b,X,Y,X_t,Y_t, reg_const =1e-2):\n",
    "    \n",
    "    m = X.shape[1]\n",
    "    logit = sigmoid(np.dot(w.T,X) + b)\n",
    "    logit_t = sigmoid(np.dot(w.T,X_t) + b)\n",
    "    cost = cost_function_cross_entropy(logit, Y)\n",
    "    cost_test = cost_function_cross_entropy(logit_t, Y_t)\n",
    "    dw = np.dot(X, (logit - Y).T)/m + reg_const*w\n",
    "    db = np.sum(logit - Y , axis = 1, keepdims = True)/m\n",
    "    \n",
    "    assert(dw.shape == w.shape)\n",
    "    assert(db.dtype == float)\n",
    "    \n",
    "    gradient = {\"dw\" : dw, \"db\" : db}\n",
    "    return gradient, cost, cost_test"
   ]
  },
  {
   "cell_type": "markdown",
   "metadata": {},
   "source": [
    "# Elastic"
   ]
  },
  {
   "cell_type": "code",
   "execution_count": 36,
   "metadata": {},
   "outputs": [],
   "source": [
    "def gradient_elastic(w,b,X,Y,X_t,Y_t, reg_const =1e-2):\n",
    "    \n",
    "    m = X.shape[1]\n",
    "    logit = sigmoid(np.dot(w.T,X) + b)\n",
    "    logit_t = sigmoid(np.dot(w.T,X_t) + b)\n",
    "    cost = cost_function_cross_entropy(logit, Y)\n",
    "    cost_test = cost_function_cross_entropy(logit_t, Y_t)\n",
    "    dw = np.dot(X, (logit - Y).T)/m + reg_const*w + reg_const*np.sign(w)\n",
    "    db = np.sum(logit - Y , axis = 1, keepdims = True)/m\n",
    "    \n",
    "    assert(dw.shape == w.shape)\n",
    "    assert(db.dtype == float)\n",
    "    \n",
    "    gradient = {\"dw\" : dw, \"db\" : db}\n",
    "    return gradient, cost, cost_test"
   ]
  },
  {
   "cell_type": "code",
   "execution_count": null,
   "metadata": {},
   "outputs": [],
   "source": []
  }
 ],
 "metadata": {
  "coursera": {
   "course_slug": "neural-networks-deep-learning",
   "graded_item_id": "XaIWT",
   "launcher_item_id": "zAgPl"
  },
  "kernelspec": {
   "display_name": "Python 3",
   "language": "python",
   "name": "python3"
  },
  "language_info": {
   "codemirror_mode": {
    "name": "ipython",
    "version": 3
   },
   "file_extension": ".py",
   "mimetype": "text/x-python",
   "name": "python",
   "nbconvert_exporter": "python",
   "pygments_lexer": "ipython3",
   "version": "3.7.6"
  }
 },
 "nbformat": 4,
 "nbformat_minor": 2
}
