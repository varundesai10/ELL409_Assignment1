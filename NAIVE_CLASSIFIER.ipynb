{
 "cells": [
  {
   "cell_type": "markdown",
   "metadata": {},
   "source": [
    "# NAIVE BAYES WITH MAXIMUM LIKELIHOOD FOR PARAMETER ESTIMATION"
   ]
  },
  {
   "cell_type": "code",
   "execution_count": 1,
   "metadata": {},
   "outputs": [],
   "source": [
    "import numpy as np\n",
    "import pandas as pd\n",
    "import matplotlib.pyplot as plt\n",
    "import math\n",
    "import sklearn\n",
    "from random import randrange\n",
    "from PIL import Image\n",
    "import os\n",
    "import random\n",
    "from sklearn.decomposition import TruncatedSVD #importing just to do truncatedSVD for me, I didn't have the time(and energy :) ) to implement by myself."
   ]
  },
  {
   "cell_type": "code",
   "execution_count": 2,
   "metadata": {},
   "outputs": [
    {
     "data": {
      "text/html": [
       "<div>\n",
       "<style scoped>\n",
       "    .dataframe tbody tr th:only-of-type {\n",
       "        vertical-align: middle;\n",
       "    }\n",
       "\n",
       "    .dataframe tbody tr th {\n",
       "        vertical-align: top;\n",
       "    }\n",
       "\n",
       "    .dataframe thead th {\n",
       "        text-align: right;\n",
       "    }\n",
       "</style>\n",
       "<table border=\"1\" class=\"dataframe\">\n",
       "  <thead>\n",
       "    <tr style=\"text-align: right;\">\n",
       "      <th></th>\n",
       "      <th>age</th>\n",
       "      <th>restbps</th>\n",
       "      <th>chol</th>\n",
       "      <th>category</th>\n",
       "    </tr>\n",
       "  </thead>\n",
       "  <tbody>\n",
       "    <tr>\n",
       "      <th>0</th>\n",
       "      <td>26</td>\n",
       "      <td>109</td>\n",
       "      <td>243</td>\n",
       "      <td>0</td>\n",
       "    </tr>\n",
       "    <tr>\n",
       "      <th>1</th>\n",
       "      <td>27</td>\n",
       "      <td>106</td>\n",
       "      <td>156</td>\n",
       "      <td>0</td>\n",
       "    </tr>\n",
       "    <tr>\n",
       "      <th>2</th>\n",
       "      <td>28</td>\n",
       "      <td>107</td>\n",
       "      <td>225</td>\n",
       "      <td>0</td>\n",
       "    </tr>\n",
       "    <tr>\n",
       "      <th>3</th>\n",
       "      <td>27</td>\n",
       "      <td>105</td>\n",
       "      <td>277</td>\n",
       "      <td>0</td>\n",
       "    </tr>\n",
       "    <tr>\n",
       "      <th>4</th>\n",
       "      <td>30</td>\n",
       "      <td>96</td>\n",
       "      <td>221</td>\n",
       "      <td>0</td>\n",
       "    </tr>\n",
       "  </tbody>\n",
       "</table>\n",
       "</div>"
      ],
      "text/plain": [
       "   age  restbps  chol  category\n",
       "0   26      109   243         0\n",
       "1   27      106   156         0\n",
       "2   28      107   225         0\n",
       "3   27      105   277         0\n",
       "4   30       96   221         0"
      ]
     },
     "execution_count": 2,
     "metadata": {},
     "output_type": "execute_result"
    }
   ],
   "source": [
    "data = pd.read_csv('health_data.csv')\n",
    "data.head()"
   ]
  },
  {
   "cell_type": "code",
   "execution_count": 3,
   "metadata": {},
   "outputs": [],
   "source": [
    "X = data.to_numpy()[:, :]"
   ]
  },
  {
   "cell_type": "code",
   "execution_count": 2,
   "metadata": {},
   "outputs": [],
   "source": [
    "##k-Cross_validation_split:\n",
    "def cross_validation_split(dataset,k):\n",
    "    k_folds = list()\n",
    "    copy_data = list(dataset)\n",
    "    fold_size = int(len(dataset)/k)\n",
    "    \n",
    "    for i in range(k):\n",
    "        fold = list()\n",
    "        for j in range(fold_size):\n",
    "            fold.append(copy_data.pop(randrange(len(copy_data))))\n",
    "        k_folds.append(fold)\n",
    "    return k_folds    "
   ]
  },
  {
   "cell_type": "code",
   "execution_count": 4,
   "metadata": {},
   "outputs": [
    {
     "name": "stderr",
     "output_type": "stream",
     "text": [
      "E:\\Anaconda\\lib\\site-packages\\ipykernel_launcher.py:7: FutureWarning: Using a non-tuple sequence for multidimensional indexing is deprecated; use `arr[tuple(seq)]` instead of `arr[seq]`. In the future this will be interpreted as an array index, `arr[np.array(seq)]`, which will result either in an error or a different result.\n",
      "  import sys\n",
      "E:\\Anaconda\\lib\\site-packages\\ipykernel_launcher.py:8: FutureWarning: Using a non-tuple sequence for multidimensional indexing is deprecated; use `arr[tuple(seq)]` instead of `arr[seq]`. In the future this will be interpreted as an array index, `arr[np.array(seq)]`, which will result either in an error or a different result.\n",
      "  \n",
      "E:\\Anaconda\\lib\\site-packages\\ipykernel_launcher.py:10: FutureWarning: Using a non-tuple sequence for multidimensional indexing is deprecated; use `arr[tuple(seq)]` instead of `arr[seq]`. In the future this will be interpreted as an array index, `arr[np.array(seq)]`, which will result either in an error or a different result.\n",
      "  # Remove the CWD from sys.path while we load stuff.\n",
      "E:\\Anaconda\\lib\\site-packages\\ipykernel_launcher.py:11: FutureWarning: Using a non-tuple sequence for multidimensional indexing is deprecated; use `arr[tuple(seq)]` instead of `arr[seq]`. In the future this will be interpreted as an array index, `arr[np.array(seq)]`, which will result either in an error or a different result.\n",
      "  # This is added back by InteractiveShellApp.init_path()\n"
     ]
    }
   ],
   "source": [
    "X = data.to_numpy()[:, :3]\n",
    "Y = data.to_numpy()[:, 3]\n",
    "split = 0.8 #using 70:30 split, random each time\n",
    "train_samples = np.random.choice(X.shape[0], int(split*X.shape[0]))\n",
    "test_samples = np.array([i for i in range(X.shape[0]) if i not in list(train_samples)])\n",
    "\n",
    "X_train = X[[train_samples]]\n",
    "Y_train = Y[[train_samples]]\n",
    "\n",
    "X_test = X[[test_samples]]\n",
    "Y_test = Y[[test_samples]]\n",
    "\n",
    "\n",
    "X_0 = X_train[Y_train == 0]\n",
    "X_1 = X_train[Y_train == 1]\n",
    "\n",
    "\n",
    "\n",
    "X_test_0 = X_test[Y_test == 0]\n",
    "X_test_1 = X_test[Y_test==1]\n"
   ]
  },
  {
   "cell_type": "markdown",
   "metadata": {},
   "source": [
    "# Naive_Bayes_Classifier_with_Gaussian_Prior"
   ]
  },
  {
   "cell_type": "code",
   "execution_count": 3,
   "metadata": {},
   "outputs": [],
   "source": [
    "#mean function\n",
    "def mean(data):\n",
    "    return sum(data)/float(len(data))"
   ]
  },
  {
   "cell_type": "code",
   "execution_count": 4,
   "metadata": {},
   "outputs": [],
   "source": [
    "#variance function\n",
    "def std(data):\n",
    "    mu  = mean(data)\n",
    "    return math.sqrt(sum([(x - mu)**2 for x in data])/float(len(data) - 1))"
   ]
  },
  {
   "cell_type": "code",
   "execution_count": 5,
   "metadata": {},
   "outputs": [],
   "source": [
    "#stat of class 0(Maximum Likelihood Estimate)\n",
    "def statistics_0(X_0):\n",
    "    stat_X0 = [(mean(col),  std(col)) for col in zip(*X_0)]\n",
    "    return stat_X0"
   ]
  },
  {
   "cell_type": "code",
   "execution_count": 6,
   "metadata": {},
   "outputs": [],
   "source": [
    "#stat of class 1(Maximum Likelihood Estimate)\n",
    "def statistics_1(X_1):\n",
    "    stat_X1 = [(mean(col),  std(col)) for col in zip(*X_1)]\n",
    "    return stat_X1"
   ]
  },
  {
   "cell_type": "code",
   "execution_count": 7,
   "metadata": {},
   "outputs": [],
   "source": [
    "def statistics(X_class):\n",
    "    stat_X_class = [(mean(col),  std(col)) for col in zip(*X_class)]\n",
    "    return stat_X_class"
   ]
  },
  {
   "cell_type": "code",
   "execution_count": 8,
   "metadata": {},
   "outputs": [
    {
     "ename": "NameError",
     "evalue": "name 'X_0' is not defined",
     "output_type": "error",
     "traceback": [
      "\u001b[1;31m---------------------------------------------------------------------------\u001b[0m",
      "\u001b[1;31mNameError\u001b[0m                                 Traceback (most recent call last)",
      "\u001b[1;32m<ipython-input-8-684e9494e7ef>\u001b[0m in \u001b[0;36m<module>\u001b[1;34m\u001b[0m\n\u001b[1;32m----> 1\u001b[1;33m \u001b[0mstat\u001b[0m \u001b[1;33m=\u001b[0m \u001b[1;33m[\u001b[0m\u001b[0mstatistics\u001b[0m\u001b[1;33m(\u001b[0m\u001b[0mX_0\u001b[0m\u001b[1;33m)\u001b[0m\u001b[1;33m,\u001b[0m \u001b[0mstatistics\u001b[0m\u001b[1;33m(\u001b[0m\u001b[0mX_1\u001b[0m\u001b[1;33m)\u001b[0m\u001b[1;33m]\u001b[0m\u001b[1;33m\u001b[0m\u001b[1;33m\u001b[0m\u001b[0m\n\u001b[0m",
      "\u001b[1;31mNameError\u001b[0m: name 'X_0' is not defined"
     ]
    }
   ],
   "source": [
    "stat = [statistics(X_0), statistics(X_1)]"
   ]
  },
  {
   "cell_type": "code",
   "execution_count": 9,
   "metadata": {},
   "outputs": [],
   "source": [
    "#Probability calculation\n",
    "def Normal_dist(x, mean, std):\n",
    "    return (1 / (math.sqrt(2 * math.pi) * std)) *math.exp(-((x-mean)**2 / (2 * std**2 )))"
   ]
  },
  {
   "cell_type": "code",
   "execution_count": 11,
   "metadata": {},
   "outputs": [],
   "source": [
    "#prior calculation\n",
    "def prior(X_0, X_1):\n",
    "    P = [float(len(X_0))/ float(len(X_0) + len(X_1)) ,float(len(X_1))/ float(len(X_0) + len(X_1)) ]\n",
    "    return P"
   ]
  },
  {
   "cell_type": "code",
   "execution_count": 12,
   "metadata": {},
   "outputs": [
    {
     "ename": "NameError",
     "evalue": "name 'X_0' is not defined",
     "output_type": "error",
     "traceback": [
      "\u001b[1;31m---------------------------------------------------------------------------\u001b[0m",
      "\u001b[1;31mNameError\u001b[0m                                 Traceback (most recent call last)",
      "\u001b[1;32m<ipython-input-12-0bb767314e6f>\u001b[0m in \u001b[0;36m<module>\u001b[1;34m\u001b[0m\n\u001b[1;32m----> 1\u001b[1;33m \u001b[0mP\u001b[0m \u001b[1;33m=\u001b[0m \u001b[0mprior\u001b[0m\u001b[1;33m(\u001b[0m\u001b[0mX_0\u001b[0m\u001b[1;33m,\u001b[0m \u001b[0mX_1\u001b[0m\u001b[1;33m)\u001b[0m\u001b[1;33m\u001b[0m\u001b[1;33m\u001b[0m\u001b[0m\n\u001b[0m",
      "\u001b[1;31mNameError\u001b[0m: name 'X_0' is not defined"
     ]
    }
   ],
   "source": [
    "P = prior(X_0, X_1)"
   ]
  },
  {
   "cell_type": "code",
   "execution_count": 13,
   "metadata": {},
   "outputs": [],
   "source": [
    "def prior_multi_class(X, no_of_classes):\n",
    "    P = []\n",
    "    for i in range(no_of_classes):\n",
    "        X_i = X[X ==i]\n",
    "        P.append(float(X_i.shape[0]/X.shape[0]))\n",
    "    return P"
   ]
  },
  {
   "cell_type": "code",
   "execution_count": 14,
   "metadata": {},
   "outputs": [],
   "source": [
    "#calculation of class conditional density\n",
    "def class_conditional_probability(data, stat, no_of_classes):\n",
    "    probabilities = np.ones(no_of_classes, dtype = np.float64)\n",
    "    for i in range(no_of_classes):\n",
    "        for j in range(len(stat[i])):\n",
    "            mean, stdev = stat[i][j]\n",
    "            #print( Normal_dist(data[i], mean, stdev))\n",
    "            probabilities[i] *= Normal_dist(data[j], mean, stdev)\n",
    "    return probabilities"
   ]
  },
  {
   "cell_type": "code",
   "execution_count": 15,
   "metadata": {},
   "outputs": [],
   "source": [
    "#calculation of posterior\n",
    "def posterior(data, stat, P, no_of_classes):\n",
    "    prob = np.zeros(no_of_classes, dtype = np.float64)\n",
    "    probabilities = class_conditional_probability(data, stat, no_of_classes)\n",
    "    #print(probabilities)\n",
    "    for i in range(no_of_classes):\n",
    "        prob[i] = probabilities[i]*P[i]\n",
    "    return prob"
   ]
  },
  {
   "cell_type": "code",
   "execution_count": 16,
   "metadata": {},
   "outputs": [],
   "source": [
    "def prediction(data, stat,P, Th, no_of_classes):\n",
    "    Probabilities = posterior(data, stat, P, no_of_classes)\n",
    "    Probabilities = Probabilities/sum(Probabilities)\n",
    "    #print(Probabilities)\n",
    "    if Probabilities[1] > Th:\n",
    "        return 1\n",
    "    else:\n",
    "        return 0"
   ]
  },
  {
   "cell_type": "code",
   "execution_count": 17,
   "metadata": {},
   "outputs": [],
   "source": [
    "def prediction_multi_class(data, stat,P, Th, no_of_classes):\n",
    "    Probabilities = posterior(data, stat, P, no_of_classes)\n",
    "    Probabilities = Probabilities/sum(Probabilities)\n",
    "    #print(Probabilities)\n",
    "    y_prediction = np.zeros(no_of_classes)\n",
    "    y_prediction[np.argmax(np.array(Probabilities))] = 1\n",
    "    return y_prediction"
   ]
  },
  {
   "cell_type": "code",
   "execution_count": 30,
   "metadata": {},
   "outputs": [
    {
     "data": {
      "text/plain": [
       "array([[139.,  16.],\n",
       "       [ 37., 119.]])"
      ]
     },
     "execution_count": 30,
     "metadata": {},
     "output_type": "execute_result"
    }
   ],
   "source": [
    "C = np.zeros((2,2)) #[[]]\n",
    "for i in range((X_test_0.shape[0])):\n",
    "    y_pred = prediction(X_test_0[i], stat, P, 0.5, no_of_classes)\n",
    "    C[y_pred,0 ] += 1\n",
    "for i in range((X_test_1.shape[0])):\n",
    "    y_pred = prediction(X_test_1[i], stat, P, 0.5,no_of_classes)\n",
    "    C[y_pred, 1] += 1\n",
    "C"
   ]
  },
  {
   "cell_type": "code",
   "execution_count": 31,
   "metadata": {},
   "outputs": [],
   "source": [
    "acc = (C[0,0] + C[1,1])/np.sum(C) \n",
    "pr = C[1,1]/(C[1,1] + C[1,0])\n",
    "rec = C[1,1]/(C[1,1] + C[0,1])\n",
    "f1 = 2*(pr*rec)/(pr + rec)"
   ]
  },
  {
   "cell_type": "code",
   "execution_count": 32,
   "metadata": {},
   "outputs": [
    {
     "name": "stdout",
     "output_type": "stream",
     "text": [
      "Accuracy:- \n",
      "0.8295819935691319\n",
      "Precision:- \n",
      "0.7628205128205128\n",
      "Recall:- \n",
      "0.8814814814814815\n",
      "F1_score:- \n",
      "0.8178694158075601\n"
     ]
    }
   ],
   "source": [
    "print(\"Accuracy:- \")\n",
    "print(acc)\n",
    "print(\"Precision:- \")\n",
    "print(pr)\n",
    "print(\"Recall:- \")\n",
    "print(rec)\n",
    "print(\"F1_score:- \")\n",
    "print(f1)"
   ]
  },
  {
   "cell_type": "code",
   "execution_count": 19,
   "metadata": {},
   "outputs": [
    {
     "name": "stderr",
     "output_type": "stream",
     "text": [
      "100%|█████████▉| 995/1000 [00:24<00:00, 45.42it/s]E:\\Anaconda\\lib\\site-packages\\ipykernel_launcher.py:21: RuntimeWarning: invalid value encountered in double_scalars\n",
      "100%|██████████| 1000/1000 [00:24<00:00, 41.37it/s]\n"
     ]
    },
    {
     "data": {
      "image/png": "[encoded data removed]",
      "text/plain": [
       "<Figure size 432x288 with 1 Axes>"
      ]
     },
     "metadata": {
      "needs_background": "light"
     },
     "output_type": "display_data"
    }
   ],
   "source": [
    "from tqdm import tqdm\n",
    "TP = []\n",
    "FP = []\n",
    "accuracy = []\n",
    "precision = []\n",
    "recall = []\n",
    "f1_score = []\n",
    "no_of_classes = 2\n",
    "for p0 in tqdm(np.linspace(0.000000001,0.999999999999,1000)):\n",
    "    C = np.zeros((2,2)) #[[]]\n",
    "    for i in range((X_test_0.shape[0])):\n",
    "        y_pred = prediction(X_test_0[i], stat, P, p0, no_of_classes)\n",
    "        C[y_pred, 0] += 1\n",
    "    for i in range((X_test_1.shape[0])):\n",
    "        y_pred = prediction(X_test_1[i], stat, P, p0,no_of_classes)\n",
    "        C[y_pred, 1] += 1\n",
    "    \n",
    "    tpr = C[1,1]/(C[1,1] + C[0,1])\n",
    "    fpr = C[1,0]/(C[1,0] + C[0,0])\n",
    "    acc = (C[0,0] + C[1,1])/np.sum(C) \n",
    "    pr = C[1,1]/(C[1,1] + C[1,0])\n",
    "    rec = C[1,1]/(C[1,1] + C[0,1])\n",
    "    f1 = 2*(pr*rec)/(pr + rec)\n",
    "    precision.append(pr)\n",
    "    recall.append(rec)\n",
    "    f1_score.append(f1)\n",
    "    accuracy.append(acc)\n",
    "    TP.append(tpr)\n",
    "    FP.append(fpr)\n",
    "\n",
    "plt.plot(FP, TP, '-')\n",
    "plt.xlabel('False Positive Rate'); plt.ylabel('True Positive Rate'); plt.title('ROC curve');"
   ]
  },
  {
   "cell_type": "code",
   "execution_count": 20,
   "metadata": {},
   "outputs": [
    {
     "data": {
      "image/png": "[encoded data removed]",
      "text/plain": [
       "<Figure size 432x288 with 1 Axes>"
      ]
     },
     "metadata": {
      "needs_background": "light"
     },
     "output_type": "display_data"
    }
   ],
   "source": [
    "plt.plot(np.linspace(0.000000001,0.999999999999,1000), accuracy, '-')\n",
    "plt.xlabel('prior'); plt.ylabel('ACCURACY'); plt.title('ACCURACY VS prior');"
   ]
  },
  {
   "cell_type": "code",
   "execution_count": 21,
   "metadata": {},
   "outputs": [
    {
     "data": {
      "image/png": "[encoded data removed]",
      "text/plain": [
       "<Figure size 432x288 with 1 Axes>"
      ]
     },
     "metadata": {
      "needs_background": "light"
     },
     "output_type": "display_data"
    }
   ],
   "source": [
    "plt.plot(np.linspace(0.000000001,0.999999999999,1000), recall, '-')\n",
    "plt.xlabel('prior'); plt.ylabel('RECALL'); plt.title('RECALL VS prior');"
   ]
  },
  {
   "cell_type": "code",
   "execution_count": 22,
   "metadata": {},
   "outputs": [
    {
     "data": {
      "image/png": "[encoded data removed]",
      "text/plain": [
       "<Figure size 432x288 with 1 Axes>"
      ]
     },
     "metadata": {
      "needs_background": "light"
     },
     "output_type": "display_data"
    }
   ],
   "source": [
    "plt.plot(np.linspace(0.000000001,0.999999999999,1000), precision, '-')\n",
    "plt.xlabel('prior'); plt.ylabel('PRECISION'); plt.title('PRECISION VS prior');"
   ]
  },
  {
   "cell_type": "code",
   "execution_count": 23,
   "metadata": {},
   "outputs": [
    {
     "data": {
      "image/png": "[encoded data removed]",
      "text/plain": [
       "<Figure size 432x288 with 1 Axes>"
      ]
     },
     "metadata": {
      "needs_background": "light"
     },
     "output_type": "display_data"
    }
   ],
   "source": [
    "plt.plot(np.linspace(0.000000001,0.999999999999,1000), f1_score, '-')\n",
    "plt.xlabel('prior'); plt.ylabel('F1_SCORE'); plt.title('F1_SCORE VS prior');"
   ]
  },
  {
   "cell_type": "code",
   "execution_count": 28,
   "metadata": {},
   "outputs": [
    {
     "name": "stdout",
     "output_type": "stream",
     "text": [
      "Accuracy:- \n",
      "0.8295819935691319\n",
      "Precision:- \n",
      "0.7628205128205128\n",
      "Recall:- \n",
      "0.8814814814814815\n",
      "F1_score:- \n",
      "0.8178694158075601\n"
     ]
    }
   ],
   "source": [
    "print(\"Accuracy:- \")\n",
    "print(accuracy[500])\n",
    "print(\"Precision:- \")\n",
    "print(precision[500])\n",
    "print(\"Recall:- \")\n",
    "print(recall[500])\n",
    "print(\"F1_score:- \")\n",
    "print(f1_score[500])"
   ]
  },
  {
   "cell_type": "markdown",
   "metadata": {},
   "source": [
    "# k-fold evaluation"
   ]
  },
  {
   "cell_type": "code",
   "execution_count": 24,
   "metadata": {},
   "outputs": [],
   "source": [
    "from tqdm import tqdm"
   ]
  },
  {
   "cell_type": "code",
   "execution_count": 25,
   "metadata": {},
   "outputs": [],
   "source": [
    "def k_fold_evaluation(dataset, no_of_folds):\n",
    "    k_folds = cross_validation_split(dataset, no_of_folds)\n",
    "    accuracy_list = []\n",
    "    TP_rate_list = []\n",
    "    FP_rate_list = []\n",
    "    precision_list = []\n",
    "    recall_list = []\n",
    "    f1_score_list = []\n",
    "    ind = 0\n",
    "    for fold in k_folds:\n",
    "        \n",
    "        X_train = list(k_folds)\n",
    "        #print(ind)\n",
    "        del X_train[ind]\n",
    "        ind=ind+1\n",
    "        X_train = sum(X_train, [])\n",
    "        X_train = np.array(X_train)\n",
    "        X_0 = X_train[X_train[:,3] == 0]\n",
    "        X_1 = X_train[X_train[:,3] == 1]\n",
    "        stat = [statistics_0(X_0[:,:3]),statistics_1(X_1[:,:3])]\n",
    "        fold = np.array(fold)\n",
    "        X_test_0 = fold[fold[:,3] == 0]\n",
    "        X_test_1 = fold[fold[:,3] == 1]\n",
    "        P = prior(X_0, X_1)\n",
    "        for i in range((X_test_0.shape[0])):\n",
    "            y_pred = prediction(X_test_0[i], stat, P, 0.5,2)\n",
    "            C[y_pred, 0] += 1\n",
    "        for i in range((X_test_1.shape[0])):\n",
    "            y_pred = prediction(X_test_1[i], stat, P, 0.5,2)\n",
    "            C[y_pred, 1] += 1\n",
    "        acc = (C[0,0] + C[1,1])/np.sum(C) \n",
    "        pr = C[1,1]/(C[1,1] + C[1,0])\n",
    "        rec = C[1,1]/(C[1,1] + C[0,1])\n",
    "        f1 = 2*(pr*rec)/(pr + rec)\n",
    "        accuracy_list.append(acc)\n",
    "        precision_list.append(pr)\n",
    "        recall_list.append(rec)\n",
    "        f1_score_list.append(f1)\n",
    "    return np.mean(np.array(accuracy_list)), np.mean(np.array(TP_rate_list)), np.mean(np.array(FP_rate_list)), np.mean(np.array(precision_list)), np.mean(np.array(recall_list)), np.mean(np.array(f1_score_list)) \n",
    "    "
   ]
  },
  {
   "cell_type": "code",
   "execution_count": 26,
   "metadata": {},
   "outputs": [
    {
     "ename": "IndexError",
     "evalue": "index 3 is out of bounds for axis 1 with size 3",
     "output_type": "error",
     "traceback": [
      "\u001b[1;31m---------------------------------------------------------------------------\u001b[0m",
      "\u001b[1;31mIndexError\u001b[0m                                Traceback (most recent call last)",
      "\u001b[1;32m<ipython-input-26-236fef8c06dd>\u001b[0m in \u001b[0;36m<module>\u001b[1;34m\u001b[0m\n\u001b[1;32m----> 1\u001b[1;33m \u001b[0maccuracy_list\u001b[0m\u001b[1;33m,\u001b[0m \u001b[0mTP_rate_list\u001b[0m\u001b[1;33m,\u001b[0m \u001b[0mFP_rate_list\u001b[0m\u001b[1;33m,\u001b[0m \u001b[0mprecision_list\u001b[0m\u001b[1;33m,\u001b[0m \u001b[0mrecall_list\u001b[0m\u001b[1;33m,\u001b[0m \u001b[0mf1_score_list\u001b[0m \u001b[1;33m=\u001b[0m \u001b[0mk_fold_evaluation\u001b[0m\u001b[1;33m(\u001b[0m\u001b[0mX\u001b[0m\u001b[1;33m,\u001b[0m \u001b[1;36m5\u001b[0m\u001b[1;33m)\u001b[0m\u001b[1;33m\u001b[0m\u001b[1;33m\u001b[0m\u001b[0m\n\u001b[0m\u001b[0;32m      2\u001b[0m \u001b[0mprint\u001b[0m\u001b[1;33m(\u001b[0m\u001b[0maccuracy_list\u001b[0m\u001b[1;33m)\u001b[0m\u001b[1;33m\u001b[0m\u001b[1;33m\u001b[0m\u001b[0m\n\u001b[0;32m      3\u001b[0m \u001b[0mprint\u001b[0m\u001b[1;33m(\u001b[0m\u001b[0mprecision_list\u001b[0m\u001b[1;33m)\u001b[0m\u001b[1;33m\u001b[0m\u001b[1;33m\u001b[0m\u001b[0m\n\u001b[0;32m      4\u001b[0m \u001b[0mprint\u001b[0m\u001b[1;33m(\u001b[0m\u001b[0mrecall_list\u001b[0m\u001b[1;33m)\u001b[0m\u001b[1;33m\u001b[0m\u001b[1;33m\u001b[0m\u001b[0m\n\u001b[0;32m      5\u001b[0m \u001b[0mprint\u001b[0m\u001b[1;33m(\u001b[0m\u001b[0mf1_score_list\u001b[0m\u001b[1;33m)\u001b[0m\u001b[1;33m\u001b[0m\u001b[1;33m\u001b[0m\u001b[0m\n",
      "\u001b[1;32m<ipython-input-25-f9ff126f1640>\u001b[0m in \u001b[0;36mk_fold_evaluation\u001b[1;34m(dataset, no_of_folds)\u001b[0m\n\u001b[0;32m     16\u001b[0m         \u001b[0mX_train\u001b[0m \u001b[1;33m=\u001b[0m \u001b[0msum\u001b[0m\u001b[1;33m(\u001b[0m\u001b[0mX_train\u001b[0m\u001b[1;33m,\u001b[0m \u001b[1;33m[\u001b[0m\u001b[1;33m]\u001b[0m\u001b[1;33m)\u001b[0m\u001b[1;33m\u001b[0m\u001b[1;33m\u001b[0m\u001b[0m\n\u001b[0;32m     17\u001b[0m         \u001b[0mX_train\u001b[0m \u001b[1;33m=\u001b[0m \u001b[0mnp\u001b[0m\u001b[1;33m.\u001b[0m\u001b[0marray\u001b[0m\u001b[1;33m(\u001b[0m\u001b[0mX_train\u001b[0m\u001b[1;33m)\u001b[0m\u001b[1;33m\u001b[0m\u001b[1;33m\u001b[0m\u001b[0m\n\u001b[1;32m---> 18\u001b[1;33m         \u001b[0mX_0\u001b[0m \u001b[1;33m=\u001b[0m \u001b[0mX_train\u001b[0m\u001b[1;33m[\u001b[0m\u001b[0mX_train\u001b[0m\u001b[1;33m[\u001b[0m\u001b[1;33m:\u001b[0m\u001b[1;33m,\u001b[0m\u001b[1;36m3\u001b[0m\u001b[1;33m]\u001b[0m \u001b[1;33m==\u001b[0m \u001b[1;36m0\u001b[0m\u001b[1;33m]\u001b[0m\u001b[1;33m\u001b[0m\u001b[1;33m\u001b[0m\u001b[0m\n\u001b[0m\u001b[0;32m     19\u001b[0m         \u001b[0mX_1\u001b[0m \u001b[1;33m=\u001b[0m \u001b[0mX_train\u001b[0m\u001b[1;33m[\u001b[0m\u001b[0mX_train\u001b[0m\u001b[1;33m[\u001b[0m\u001b[1;33m:\u001b[0m\u001b[1;33m,\u001b[0m\u001b[1;36m3\u001b[0m\u001b[1;33m]\u001b[0m \u001b[1;33m==\u001b[0m \u001b[1;36m1\u001b[0m\u001b[1;33m]\u001b[0m\u001b[1;33m\u001b[0m\u001b[1;33m\u001b[0m\u001b[0m\n\u001b[0;32m     20\u001b[0m         \u001b[0mstat\u001b[0m \u001b[1;33m=\u001b[0m \u001b[1;33m[\u001b[0m\u001b[0mstatistics_0\u001b[0m\u001b[1;33m(\u001b[0m\u001b[0mX_0\u001b[0m\u001b[1;33m[\u001b[0m\u001b[1;33m:\u001b[0m\u001b[1;33m,\u001b[0m\u001b[1;33m:\u001b[0m\u001b[1;36m3\u001b[0m\u001b[1;33m]\u001b[0m\u001b[1;33m)\u001b[0m\u001b[1;33m,\u001b[0m\u001b[0mstatistics_1\u001b[0m\u001b[1;33m(\u001b[0m\u001b[0mX_1\u001b[0m\u001b[1;33m[\u001b[0m\u001b[1;33m:\u001b[0m\u001b[1;33m,\u001b[0m\u001b[1;33m:\u001b[0m\u001b[1;36m3\u001b[0m\u001b[1;33m]\u001b[0m\u001b[1;33m)\u001b[0m\u001b[1;33m]\u001b[0m\u001b[1;33m\u001b[0m\u001b[1;33m\u001b[0m\u001b[0m\n",
      "\u001b[1;31mIndexError\u001b[0m: index 3 is out of bounds for axis 1 with size 3"
     ]
    }
   ],
   "source": [
    "accuracy_list, TP_rate_list, FP_rate_list, precision_list, recall_list, f1_score_list = k_fold_evaluation(X, 5)\n",
    "print(accuracy_list)\n",
    "print(precision_list)\n",
    "print(recall_list)\n",
    "print(f1_score_list)"
   ]
  },
  {
   "cell_type": "code",
   "execution_count": null,
   "metadata": {},
   "outputs": [],
   "source": [
    "accuracy = []\n",
    "precision = []\n",
    "recall = []\n",
    "f1_score = []\n",
    "for k in range(2,40):\n",
    "    accuracy_list, TP_rate_list, FP_rate_list, precision_list, recall_list, f1_score_list = k_fold_evaluation(X, k)\n",
    "    #print(\"for \" + str(k) + \" fold results of evaluation metric\")\n",
    "    #print(accuracy_list)\n",
    "    #print(precision_list)\n",
    "    #print(recall_list)\n",
    "    #print(f1_score_list)\n",
    "    accuracy.append(accuracy_list)\n",
    "    precision.append(precision_list)\n",
    "    recall.append(recall_list)\n",
    "    f1_score.append(f1_score_list)"
   ]
  },
  {
   "cell_type": "code",
   "execution_count": null,
   "metadata": {},
   "outputs": [],
   "source": [
    "plt.plot(range(2,40), accuracy, '-')\n",
    "plt.xlabel('no_of_folds'); plt.ylabel('ACCURACY'); plt.title('ACCURACY VS k');"
   ]
  },
  {
   "cell_type": "code",
   "execution_count": null,
   "metadata": {},
   "outputs": [],
   "source": [
    "plt.plot(range(2,40), precision, '-')\n",
    "plt.xlabel('no_of_folds'); plt.ylabel('precision'); plt.title('precision VS k');"
   ]
  },
  {
   "cell_type": "code",
   "execution_count": null,
   "metadata": {},
   "outputs": [],
   "source": [
    "plt.plot(range(2,40), recall, '-')\n",
    "plt.xlabel('no_of_folds'); plt.ylabel('recall'); plt.title('recall VS k');"
   ]
  },
  {
   "cell_type": "code",
   "execution_count": null,
   "metadata": {},
   "outputs": [],
   "source": [
    "plt.plot(range(2,40), f1_score, '-')\n",
    "plt.xlabel('no_of_folds'); plt.ylabel('f1_score'); plt.title('F1_score VS k');"
   ]
  },
  {
   "cell_type": "markdown",
   "metadata": {},
   "source": [
    "## question 3"
   ]
  },
  {
   "cell_type": "code",
   "execution_count": 18,
   "metadata": {},
   "outputs": [
    {
     "name": "stdout",
     "output_type": "stream",
     "text": [
      "C:\\Users\\rockt\\Assignment1_git\\ELL409_Assignment1\\Medical_MNIST\n"
     ]
    }
   ],
   "source": [
    "import os\n",
    "IMAGE_PATH = './Medical_MNIST'\n",
    "print(os.path.abspath(IMAGE_PATH))\n",
    "n_components = 20"
   ]
  },
  {
   "cell_type": "code",
   "execution_count": 19,
   "metadata": {},
   "outputs": [],
   "source": [
    "#data_loader\n",
    "#!DEL *.npz\n",
    "from tqdm import tqdm\n",
    "split = 0.7 #using 70:30 split, random each time\n",
    "def data_loader():\n",
    "    X = []\n",
    "    Y = []\n",
    "    X_test = []\n",
    "    Y_test = []\n",
    "    \n",
    "    i = 0\n",
    "    for folder in os.listdir(os.path.abspath(IMAGE_PATH)):\n",
    "        IMAGE_DIR = os.path.join(IMAGE_PATH, folder)\n",
    "        print(\"Reading\" + IMAGE_DIR)\n",
    "        files = os.listdir(IMAGE_DIR)\n",
    "        random.shuffle(files)\n",
    "        j=0\n",
    "        for file in tqdm(files):\n",
    "            if j < int(len(files)*split):\n",
    "                X.append((np.asarray(Image.open(os.path.join(IMAGE_DIR, file)))).reshape(-1))\n",
    "                Y.append(i)\n",
    "            else:\n",
    "                X_test.append((np.asarray(Image.open(os.path.join(IMAGE_DIR, file)))).reshape(-1))\n",
    "                Y_test.append(i)\n",
    "            j += 1\n",
    "        \n",
    "        i += 1\n",
    "    print('Completed Loading Data. Saving as np file so that can directy load array nexttime')\n",
    "    np.savez('q3data.npz', X = np.array(X), Y = np.array(Y), X_test=X_test, Y_test = Y_test)\n",
    "    return np.array(X), np.array(Y), np.array(X_test), np.array(Y_test)\n",
    "\n",
    "if 'q3data.npz' in os.listdir('./'):\n",
    "    zfile = np.load('q3data.npz')\n",
    "    X = zfile['X']\n",
    "    Y = zfile['Y']\n",
    "    X_test = zfile['X_test']\n",
    "    Y_test = zfile['Y_test']\n",
    "else:\n",
    "    X, Y, X_test, Y_test = data_loader()"
   ]
  },
  {
   "cell_type": "code",
   "execution_count": 20,
   "metadata": {},
   "outputs": [
    {
     "name": "stdout",
     "output_type": "stream",
     "text": [
      "X.shape = (41267, 4096)\n",
      "X_test.shape = (17687, 4096)\n"
     ]
    }
   ],
   "source": [
    "print(f'X.shape = {X.shape}') #oof!\n",
    "print(f'X_test.shape = {X_test.shape}')"
   ]
  },
  {
   "cell_type": "code",
   "execution_count": 21,
   "metadata": {},
   "outputs": [
    {
     "data": {
      "text/plain": [
       "<matplotlib.image.AxesImage at 0x1b3ae6abf08>"
      ]
     },
     "execution_count": 21,
     "metadata": {},
     "output_type": "execute_result"
    },
    {
     "data": {
      "image/png": "[encoded data removed]",
      "text/plain": [
       "<Figure size 432x288 with 1 Axes>"
      ]
     },
     "metadata": {
      "needs_background": "light"
     },
     "output_type": "display_data"
    }
   ],
   "source": [
    "#Visualizing the images.\n",
    "plt.imshow(X[0].reshape(64, -1), cmap='gray')"
   ]
  },
  {
   "cell_type": "code",
   "execution_count": 22,
   "metadata": {},
   "outputs": [
    {
     "data": {
      "text/plain": [
       "'\\nn_components = 50\\nP, C, M, X_centered=pca(X[:1000], n_pc=n_components)\\n#P->lower dimensional version of X, C-> Eigen vectors with largest eigen values, M->mean image (used in reconstruction)\\neigenscans = C.reshape((n_components, h, w))\\neigenscan_titles = [\"eigenscan %d\" % i for i in range(eigenscans.shape[0])]\\nplot_portraits(eigenscans, eigenscan_titles, h, w, 4, 4) \\n'"
      ]
     },
     "execution_count": 22,
     "metadata": {},
     "output_type": "execute_result"
    }
   ],
   "source": [
    "#Lets try to do PCA on the input images??\n",
    "h, w = 64, 64\n",
    "'''\n",
    "def pca(X, n_pc):\n",
    "    n_samples, n_features = X.shape\n",
    "    mean = np.mean(X, axis=0)\n",
    "    centered_data = X-mean\n",
    "    U, S, V = np.linalg.svd(centered_data)\n",
    "    components = V[:n_pc]\n",
    "    projected = U[:,:n_pc]*S[:n_pc]\n",
    "    \n",
    "    return projected, components, mean, centered_data\n",
    "    #credits to https://towardsdatascience.com/eigenfaces-recovering-humans-from-ghosts-17606c328184 for helping me write PCA\n",
    "    #and saving me a few hours.\n",
    "'''\n",
    "\"\"\"It helps visualising the portraits from the dataset.\"\"\"\n",
    "def plot_portraits(images, titles, h, w, n_row, n_col):\n",
    "    plt.figure(figsize=(2.2 * n_col, 2.2 * n_row))\n",
    "    plt.subplots_adjust(bottom=0, left=.01, right=.99, top=.90, hspace=.20)\n",
    "    for i in range(n_row * n_col):\n",
    "        plt.subplot(n_row, n_col, i + 1)\n",
    "        plt.imshow(images[i].reshape((h, w)), cmap=plt.cm.gray)\n",
    "        plt.title(titles[i])\n",
    "        plt.xticks(())\n",
    "        plt.yticks(())\n",
    "'''\n",
    "n_components = 50\n",
    "P, C, M, X_centered=pca(X[:1000], n_pc=n_components)\n",
    "#P->lower dimensional version of X, C-> Eigen vectors with largest eigen values, M->mean image (used in reconstruction)\n",
    "eigenscans = C.reshape((n_components, h, w))\n",
    "eigenscan_titles = [\"eigenscan %d\" % i for i in range(eigenscans.shape[0])]\n",
    "plot_portraits(eigenscans, eigenscan_titles, h, w, 4, 4) \n",
    "'''"
   ]
  },
  {
   "cell_type": "code",
   "execution_count": 23,
   "metadata": {},
   "outputs": [],
   "source": [
    "X_samples = list()\n",
    "Y_samples = list()\n",
    "X_samples.append(list(X))\n",
    "Y_samples.append(list(Y))\n",
    "X_samples.append(list(X_test))\n",
    "Y_samples.append(list(Y_test))\n",
    "X_samples = sum(X_samples, [])\n",
    "Y_samples = sum(Y_samples, [])\n",
    "X_samples = np.array(X_samples)\n",
    "Y_samples = np.array(Y_samples)"
   ]
  },
  {
   "cell_type": "code",
   "execution_count": 24,
   "metadata": {},
   "outputs": [],
   "source": [
    "def fastpca(X, n_pc):\n",
    "    n_samples, n_features = X.shape\n",
    "    mean = np.mean(X, axis=0)\n",
    "    centered_data = X-mean\n",
    "    svd = TruncatedSVD(n_components=n_pc, n_iter=7, random_state=42)\n",
    "    svd.fit(X)\n",
    "    #U, S, V = np.linalg.svd(centered_data)\n",
    "    components = svd.components_\n",
    "    #projected = U[:,:n_pc]*S[:n_pc]\n",
    "    projected = svd.transform(X)\n",
    "    return projected, components, mean, centered_data"
   ]
  },
  {
   "cell_type": "code",
   "execution_count": 25,
   "metadata": {},
   "outputs": [],
   "source": [
    "X_red, C, M, X_centered=fastpca(X_samples, n_pc=n_components)\n",
    "#X_red->lower dimensional version of X, C-> Eigen vectors with largest eigen values, M->mean image (used in reconstruction)\n",
    "#eigenscans = C.reshape((n_components, h, w))\n",
    "#eigenscan_titles = [\"eigenscan %d\" % i for i in range(eigenscans.shape[0])]\n",
    "#plot_portraits(eigenscans, eigenscan_titles, h, w, 4, 4) "
   ]
  },
  {
   "cell_type": "code",
   "execution_count": 26,
   "metadata": {},
   "outputs": [
    {
     "data": {
      "text/plain": [
       "(58954, 20)"
      ]
     },
     "execution_count": 26,
     "metadata": {},
     "output_type": "execute_result"
    }
   ],
   "source": [
    "X_red.shape"
   ]
  },
  {
   "cell_type": "code",
   "execution_count": 27,
   "metadata": {},
   "outputs": [
    {
     "data": {
      "text/plain": [
       "(58954, 4096)"
      ]
     },
     "execution_count": 27,
     "metadata": {},
     "output_type": "execute_result"
    }
   ],
   "source": [
    "X_samples.shape"
   ]
  },
  {
   "cell_type": "code",
   "execution_count": 28,
   "metadata": {},
   "outputs": [
    {
     "data": {
      "text/plain": [
       "(58954,)"
      ]
     },
     "execution_count": 28,
     "metadata": {},
     "output_type": "execute_result"
    }
   ],
   "source": [
    "Y_samples.shape"
   ]
  },
  {
   "cell_type": "code",
   "execution_count": 29,
   "metadata": {},
   "outputs": [],
   "source": [
    "Y_samples = Y_samples.reshape((58954,1))\n"
   ]
  },
  {
   "cell_type": "code",
   "execution_count": 30,
   "metadata": {},
   "outputs": [
    {
     "data": {
      "text/plain": [
       "(58954, 21)"
      ]
     },
     "execution_count": 30,
     "metadata": {},
     "output_type": "execute_result"
    }
   ],
   "source": [
    "X_final = np.append(X_red, Y_samples, axis = 1)\n",
    "X_final.shape"
   ]
  },
  {
   "cell_type": "code",
   "execution_count": 31,
   "metadata": {},
   "outputs": [],
   "source": [
    "no_of_classes = 6\n"
   ]
  },
  {
   "cell_type": "code",
   "execution_count": 32,
   "metadata": {},
   "outputs": [],
   "source": [
    "Prior = prior_multi_class((Y), no_of_classes)"
   ]
  },
  {
   "cell_type": "code",
   "execution_count": 33,
   "metadata": {},
   "outputs": [],
   "source": [
    "def separate(X, no_of_classes):\n",
    "    data = dict()\n",
    "    for i in range(no_of_classes):\n",
    "        data[\"X_\"+str(i)] = X[X[:,20] == i]\n",
    "        data[\"stat_\"+str(i)] = statistics(X[X[:,20]==i][:, :20])\n",
    "    return data"
   ]
  },
  {
   "cell_type": "code",
   "execution_count": 34,
   "metadata": {},
   "outputs": [],
   "source": [
    "data = separate(X_final, 6)"
   ]
  },
  {
   "cell_type": "code",
   "execution_count": 35,
   "metadata": {},
   "outputs": [
    {
     "data": {
      "text/plain": [
       "[(7171.190756180064, 342.86111779586133),\n",
       " (735.1747929041142, 175.30999658337655),\n",
       " (871.1471446684463, 246.8628687431925),\n",
       " (374.75456562226844, 216.8558335762043),\n",
       " (-139.23428826175905, 130.22888665559694),\n",
       " (-70.73168903078803, 195.0345487650291),\n",
       " (-16.56697870858497, 119.43170426961284),\n",
       " (81.36748521552262, 196.44852212969826),\n",
       " (147.57754007071804, 205.9958922681113),\n",
       " (-27.546278137411363, 77.45838427323375),\n",
       " (-18.004415821858544, 127.64224796082826),\n",
       " (-22.772968169702303, 179.6980242920911),\n",
       " (-51.69603345266882, 150.63029206697774),\n",
       " (-5.488352807586543, 163.6795405056349),\n",
       " (87.14148915907757, 150.3220465742263),\n",
       " (93.08927449837654, 214.18434018015338),\n",
       " (23.225956233719252, 119.62831754787786),\n",
       " (19.26670331317168, 120.83427484980236),\n",
       " (77.61286591643557, 171.28495766680447),\n",
       " (-16.536001915960433, 152.91315125979213)]"
      ]
     },
     "execution_count": 35,
     "metadata": {},
     "output_type": "execute_result"
    }
   ],
   "source": [
    "data[\"stat_0\"]"
   ]
  },
  {
   "cell_type": "markdown",
   "metadata": {},
   "source": [
    "k_fold = cross_validation_split(X_final, 4)\n",
    "np.array(k_fold).shape"
   ]
  },
  {
   "cell_type": "code",
   "execution_count": 36,
   "metadata": {},
   "outputs": [
    {
     "name": "stdout",
     "output_type": "stream",
     "text": [
      "(6, 20, 2)\n"
     ]
    }
   ],
   "source": [
    "stat = []\n",
    "for ff in range(6):\n",
    "    stat.append(data[\"stat_\"+str(ff)])\n",
    "print(np.array(stat).shape)"
   ]
  },
  {
   "cell_type": "code",
   "execution_count": 37,
   "metadata": {},
   "outputs": [],
   "source": [
    "def k_fold_evaluation_multi_class(dataset, no_of_folds, no_of_classes, no_of_features,prior):\n",
    "    k_folds = cross_validation_split(dataset, no_of_folds)\n",
    "    accuracy_list = []\n",
    "    TP_rate_list = []\n",
    "    FP_rate_list = []\n",
    "    precision_list = []\n",
    "    recall_list = []\n",
    "    f1_score_list = []\n",
    "    C_list = list()\n",
    "    ind = 0\n",
    "    for fold in k_folds:\n",
    "        \n",
    "        X_train = list(k_folds)\n",
    "        #print(ind)\n",
    "        del X_train[ind]\n",
    "        ind=ind+1\n",
    "        X_train = sum(X_train, [])\n",
    "        X_train = np.array(X_train)\n",
    "        data_train = separate(X_train, no_of_classes)\n",
    "        stat = []\n",
    "        for ff in range(no_of_classes):\n",
    "            stat.append(data_train[\"stat_\"+str(ff)])\n",
    "        fold = np.array(fold)\n",
    "        data_test = separate(fold, no_of_classes)\n",
    "        Y = X_train[:,20].reshape(X_train.shape[0])\n",
    "        P = prior_multi_class((Y), no_of_classes)\n",
    "        C = np.zeros((no_of_classes,no_of_classes))\n",
    "        for cc in range(no_of_classes):\n",
    "            X_test = data_test[\"X_\"+str(cc)]\n",
    "            for i in range((X_test.shape[0])):\n",
    "                y_pred = prediction_multi_class(X_test[i], stat,P, 0.5, no_of_classes)\n",
    "                C[np.argmax(np.array(y_pred)), cc] += 1\n",
    "        if ind == 1:\n",
    "            print(C)\n",
    "            print(\"no_of_elements\" + str(np.sum(C)))\n",
    "        C_list.append(C)\n",
    "        acc = (C[0,0] + C[1,1]+ C[2,2]+ C[3,3]+ C[4,4]+ C[5,5])/np.sum(C)\n",
    "        #pr = C[1,1]/(C[1,1] + C[1,0])\n",
    "        #rec = C[1,1]/(C[1,1] + C[0,1])\n",
    "        #f1 = 2*(pr*rec)/(pr + rec)\n",
    "        accuracy_list.append(acc)\n",
    "        #precision_list.append(pr)\n",
    "        #recall_list.append(rec)\n",
    "        #f1_score_list.append(f1)\n",
    "    return C_list, np.array(accuracy_list), np.array(TP_rate_list), np.array(FP_rate_list), np.mean(np.array(precision_list)), np.mean(np.array(recall_list)), np.mean(np.array(f1_score_list)) \n",
    "    "
   ]
  },
  {
   "cell_type": "code",
   "execution_count": 105,
   "metadata": {},
   "outputs": [
    {
     "name": "stdout",
     "output_type": "stream",
     "text": [
      "[[1.972e+03 0.000e+00 1.700e+01 0.000e+00 0.000e+00 0.000e+00]\n",
      " [0.000e+00 1.744e+03 0.000e+00 0.000e+00 1.000e+00 1.190e+02]\n",
      " [0.000e+00 0.000e+00 1.985e+03 0.000e+00 0.000e+00 0.000e+00]\n",
      " [1.800e+01 0.000e+00 0.000e+00 1.982e+03 9.500e+01 0.000e+00]\n",
      " [2.000e+00 0.000e+00 0.000e+00 1.800e+01 1.892e+03 2.200e+01]\n",
      " [0.000e+00 9.000e+00 0.000e+00 1.100e+01 6.200e+01 1.841e+03]]\n",
      "no_of_elements11790.0\n",
      "[0.9682782  0.96675148 0.96810857 0.96598813 0.97175573]\n",
      "0.9681764206955046\n"
     ]
    }
   ],
   "source": [
    "C_list, accuracy_list, TP_rate_list, FP_rate_list, precision_list, recall_list, f1_score_list = k_fold_evaluation_multi_class(X_final, 5,6,20,Prior)\n",
    "print(accuracy_list)\n",
    "print(np.mean(accuracy_list))"
   ]
  },
  {
   "cell_type": "code",
   "execution_count": 39,
   "metadata": {},
   "outputs": [],
   "source": [
    "Conff = np.array([[1.972e+03, 0.000e+00, 1.700e+01, 0.000e+00, 0.000e+00, 0.000e+00],\n",
    " [0.000e+00, 1.744e+03, 0.000e+00, 0.000e+00, 1.000e+00, 1.190e+02],\n",
    " [0.000e+00, 0.000e+00, 1.985e+03, 0.000e+00, 0.000e+00, 0.000e+00],\n",
    " [1.800e+01, 0.000e+00, 0.000e+00, 1.982e+03, 9.500e+01, 0.000e+00],\n",
    " [2.000e+00, 0.000e+00, 0.000e+00, 1.800e+01, 1.892e+03, 2.200e+01],\n",
    " [0.000e+00, 9.000e+00, 0.000e+00, 1.100e+01, 6.200e+01, 1.841e+03]])"
   ]
  },
  {
   "cell_type": "code",
   "execution_count": 40,
   "metadata": {},
   "outputs": [
    {
     "data": {
      "text/plain": [
       "(6, 6)"
      ]
     },
     "execution_count": 40,
     "metadata": {},
     "output_type": "execute_result"
    }
   ],
   "source": [
    "Conff.shape"
   ]
  },
  {
   "cell_type": "code",
   "execution_count": 41,
   "metadata": {},
   "outputs": [],
   "source": [
    "conf = Conff\n",
    "conf_ = Conff.T\n",
    "n_classes = 6"
   ]
  },
  {
   "cell_type": "code",
   "execution_count": 43,
   "metadata": {},
   "outputs": [
    {
     "data": {
      "image/png": "[encoded data removed]",
      "text/plain": [
       "<Figure size 432x288 with 1 Axes>"
      ]
     },
     "metadata": {
      "needs_background": "light"
     },
     "output_type": "display_data"
    }
   ],
   "source": [
    "plt.imshow(conf.T/np.sum(conf))\n",
    "classes = ['AbdCT', 'BreastMRI', 'ChestCT', 'CXR', 'Hand', 'Head']\n",
    "plt.ylabel('$Y_{true}$')\n",
    "plt.xlabel('Y$_{pred}$')\n",
    "plt.xticks(np.arange(n_classes), classes)\n",
    "plt.yticks(np.arange(n_classes), classes)\n",
    "for i in range(conf.shape[0]):\n",
    "    for j in range(conf.shape[1]):\n",
    "        plt.text(j, i, \"{:0.2f}\".format(float((conf[i][j]/np.sum(conf[j]))*100)), horizontalalignment='center', bbox = dict(facecolor='white',alpha=0.8))"
   ]
  },
  {
   "cell_type": "code",
   "execution_count": 44,
   "metadata": {},
   "outputs": [
    {
     "name": "stdout",
     "output_type": "stream",
     "text": [
      "Accuracy = 96.83\n",
      "AbdCT: p = 98.996, r = 99.145, f = 99.071\n",
      "BreastMRI: p = 99.487, r = 93.562, f = 96.434\n",
      "ChestCT: p = 99.151, r = 100.000, f = 99.574\n",
      "CXR: p = 98.558, r = 94.606, f = 96.542\n",
      "Hand: p = 92.293, r = 97.828, f = 94.980\n",
      "Head: p = 92.886, r = 95.736, f = 94.289\n",
      "Macro-F1 score = 96.815\n"
     ]
    }
   ],
   "source": [
    "diag = np.arange(n_classes)\n",
    "acc = np.sum(conf[diag, diag])/np.sum(conf)*100\n",
    "\n",
    "print('Accuracy = {:0.2f}'.format(acc))\n",
    "\n",
    "#per class precision, recall\n",
    "P = []\n",
    "R = []\n",
    "F = []\n",
    "for i in range(n_classes):\n",
    "    P.append(conf_[i,i]/np.sum(conf_[i,:]))\n",
    "    R.append(conf_[i,i]/np.sum(conf_[:,i]))\n",
    "    F.append(2*P[i]*R[i]/(P[i] + R[i]))\n",
    "    print('{}: p = {:0.3f}, r = {:0.3f}, f = {:0.3f}'.format(classes[i], P[i]*100, R[i]*100, F[i]*100))\n",
    "macro_f = sum(F)/len(F)\n",
    "print('Macro-F1 score = {:0.3f}'.format(macro_f*100))"
   ]
  },
  {
   "cell_type": "code",
   "execution_count": null,
   "metadata": {},
   "outputs": [],
   "source": []
  },
  {
   "cell_type": "code",
   "execution_count": null,
   "metadata": {},
   "outputs": [],
   "source": []
  },
  {
   "cell_type": "code",
   "execution_count": null,
   "metadata": {},
   "outputs": [],
   "source": []
  },
  {
   "cell_type": "code",
   "execution_count": null,
   "metadata": {},
   "outputs": [],
   "source": []
  },
  {
   "cell_type": "code",
   "execution_count": null,
   "metadata": {},
   "outputs": [],
   "source": []
  },
  {
   "cell_type": "code",
   "execution_count": 106,
   "metadata": {},
   "outputs": [
    {
     "name": "stdout",
     "output_type": "stream",
     "text": [
      "[[1007.    0.   12.    0.    0.    0.]\n",
      " [   0.  911.    0.    0.    0.   74.]\n",
      " [   0.    0.  969.    0.    0.    0.]\n",
      " [  15.    0.    0. 1000.   48.    0.]\n",
      " [   2.    0.    0.   10.  901.    7.]\n",
      " [   0.    8.    0.    2.   25.  904.]]\n",
      "no_of_elements5895.0\n",
      "[0.96556404 0.97251908 0.96980492 0.96658185 0.96658185 0.96793893\n",
      " 0.97048346 0.9677693  0.9682782  0.96658185]\n",
      "0.9682103477523325\n"
     ]
    }
   ],
   "source": [
    "C_list, accuracy_list, TP_rate_list, FP_rate_list, precision_list, recall_list, f1_score_list = k_fold_evaluation_multi_class(X_final, 10,6,20,Prior)\n",
    "print(accuracy_list)\n",
    "print(np.mean(accuracy_list))"
   ]
  },
  {
   "cell_type": "code",
   "execution_count": 34,
   "metadata": {},
   "outputs": [
    {
     "ename": "NameError",
     "evalue": "name 'C_list' is not defined",
     "output_type": "error",
     "traceback": [
      "\u001b[1;31m---------------------------------------------------------------------------\u001b[0m",
      "\u001b[1;31mNameError\u001b[0m                                 Traceback (most recent call last)",
      "\u001b[1;32m<ipython-input-34-63ca09c00905>\u001b[0m in \u001b[0;36m<module>\u001b[1;34m\u001b[0m\n\u001b[1;32m----> 1\u001b[1;33m \u001b[0mC_list\u001b[0m\u001b[1;33m\u001b[0m\u001b[1;33m\u001b[0m\u001b[0m\n\u001b[0m",
      "\u001b[1;31mNameError\u001b[0m: name 'C_list' is not defined"
     ]
    }
   ],
   "source": [
    "C_list"
   ]
  },
  {
   "cell_type": "code",
   "execution_count": null,
   "metadata": {},
   "outputs": [],
   "source": []
  }
 ],
 "metadata": {
  "kernelspec": {
   "display_name": "Python 3",
   "language": "python",
   "name": "python3"
  },
  "language_info": {
   "codemirror_mode": {
    "name": "ipython",
    "version": 3
   },
   "file_extension": ".py",
   "mimetype": "text/x-python",
   "name": "python",
   "nbconvert_exporter": "python",
   "pygments_lexer": "ipython3",
   "version": "3.7.6"
  }
 },
 "nbformat": 4,
 "nbformat_minor": 4
}
