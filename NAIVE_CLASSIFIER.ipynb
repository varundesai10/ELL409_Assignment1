{
 "cells": [
  {
   "cell_type": "code",
   "execution_count": 1,
   "metadata": {},
   "outputs": [],
   "source": [
    "import numpy as np\n",
    "import pandas as pd\n",
    "import matplotlib.pyplot as plt\n",
    "import math\n",
    "import sklearn"
   ]
  },
  {
   "cell_type": "code",
   "execution_count": 2,
   "metadata": {},
   "outputs": [
    {
     "data": {
      "text/html": [
       "<div>\n",
       "<style scoped>\n",
       "    .dataframe tbody tr th:only-of-type {\n",
       "        vertical-align: middle;\n",
       "    }\n",
       "\n",
       "    .dataframe tbody tr th {\n",
       "        vertical-align: top;\n",
       "    }\n",
       "\n",
       "    .dataframe thead th {\n",
       "        text-align: right;\n",
       "    }\n",
       "</style>\n",
       "<table border=\"1\" class=\"dataframe\">\n",
       "  <thead>\n",
       "    <tr style=\"text-align: right;\">\n",
       "      <th></th>\n",
       "      <th>age</th>\n",
       "      <th>restbps</th>\n",
       "      <th>chol</th>\n",
       "      <th>category</th>\n",
       "    </tr>\n",
       "  </thead>\n",
       "  <tbody>\n",
       "    <tr>\n",
       "      <th>0</th>\n",
       "      <td>26</td>\n",
       "      <td>109</td>\n",
       "      <td>243</td>\n",
       "      <td>0</td>\n",
       "    </tr>\n",
       "    <tr>\n",
       "      <th>1</th>\n",
       "      <td>27</td>\n",
       "      <td>106</td>\n",
       "      <td>156</td>\n",
       "      <td>0</td>\n",
       "    </tr>\n",
       "    <tr>\n",
       "      <th>2</th>\n",
       "      <td>28</td>\n",
       "      <td>107</td>\n",
       "      <td>225</td>\n",
       "      <td>0</td>\n",
       "    </tr>\n",
       "    <tr>\n",
       "      <th>3</th>\n",
       "      <td>27</td>\n",
       "      <td>105</td>\n",
       "      <td>277</td>\n",
       "      <td>0</td>\n",
       "    </tr>\n",
       "    <tr>\n",
       "      <th>4</th>\n",
       "      <td>30</td>\n",
       "      <td>96</td>\n",
       "      <td>221</td>\n",
       "      <td>0</td>\n",
       "    </tr>\n",
       "  </tbody>\n",
       "</table>\n",
       "</div>"
      ],
      "text/plain": [
       "   age  restbps  chol  category\n",
       "0   26      109   243         0\n",
       "1   27      106   156         0\n",
       "2   28      107   225         0\n",
       "3   27      105   277         0\n",
       "4   30       96   221         0"
      ]
     },
     "execution_count": 2,
     "metadata": {},
     "output_type": "execute_result"
    }
   ],
   "source": [
    "data = pd.read_csv('health_data.csv')\n",
    "data.head()"
   ]
  },
  {
   "cell_type": "code",
   "execution_count": 3,
   "metadata": {},
   "outputs": [
    {
     "name": "stderr",
     "output_type": "stream",
     "text": [
<<<<<<< HEAD
      "E:\\Anaconda\\lib\\site-packages\\ipykernel_launcher.py:7: FutureWarning: Using a non-tuple sequence for multidimensional indexing is deprecated; use `arr[tuple(seq)]` instead of `arr[seq]`. In the future this will be interpreted as an array index, `arr[np.array(seq)]`, which will result either in an error or a different result.\n",
      "  import sys\n",
      "E:\\Anaconda\\lib\\site-packages\\ipykernel_launcher.py:8: FutureWarning: Using a non-tuple sequence for multidimensional indexing is deprecated; use `arr[tuple(seq)]` instead of `arr[seq]`. In the future this will be interpreted as an array index, `arr[np.array(seq)]`, which will result either in an error or a different result.\n",
      "  \n",
      "E:\\Anaconda\\lib\\site-packages\\ipykernel_launcher.py:10: FutureWarning: Using a non-tuple sequence for multidimensional indexing is deprecated; use `arr[tuple(seq)]` instead of `arr[seq]`. In the future this will be interpreted as an array index, `arr[np.array(seq)]`, which will result either in an error or a different result.\n",
      "  # Remove the CWD from sys.path while we load stuff.\n",
      "E:\\Anaconda\\lib\\site-packages\\ipykernel_launcher.py:11: FutureWarning: Using a non-tuple sequence for multidimensional indexing is deprecated; use `arr[tuple(seq)]` instead of `arr[seq]`. In the future this will be interpreted as an array index, `arr[np.array(seq)]`, which will result either in an error or a different result.\n",
      "  # This is added back by InteractiveShellApp.init_path()\n"
=======
      "E:\\Anaconda\\lib\\site-packages\\ipykernel_launcher.py:10: FutureWarning: Using a non-tuple sequence for multidimensional indexing is deprecated; use `arr[tuple(seq)]` instead of `arr[seq]`. In the future this will be interpreted as an array index, `arr[np.array(seq)]`, which will result either in an error or a different result.\n",
      "  # Remove the CWD from sys.path while we load stuff.\n",
      "E:\\Anaconda\\lib\\site-packages\\ipykernel_launcher.py:11: FutureWarning: Using a non-tuple sequence for multidimensional indexing is deprecated; use `arr[tuple(seq)]` instead of `arr[seq]`. In the future this will be interpreted as an array index, `arr[np.array(seq)]`, which will result either in an error or a different result.\n",
      "  # This is added back by InteractiveShellApp.init_path()\n",
      "E:\\Anaconda\\lib\\site-packages\\ipykernel_launcher.py:13: FutureWarning: Using a non-tuple sequence for multidimensional indexing is deprecated; use `arr[tuple(seq)]` instead of `arr[seq]`. In the future this will be interpreted as an array index, `arr[np.array(seq)]`, which will result either in an error or a different result.\n",
      "  del sys.path[0]\n",
      "E:\\Anaconda\\lib\\site-packages\\ipykernel_launcher.py:14: FutureWarning: Using a non-tuple sequence for multidimensional indexing is deprecated; use `arr[tuple(seq)]` instead of `arr[seq]`. In the future this will be interpreted as an array index, `arr[np.array(seq)]`, which will result either in an error or a different result.\n",
      "  \n"
>>>>>>> varun1
     ]
    }
   ],
   "source": [
    "X = data.to_numpy()[:, :3]\n",
    "Y = data.to_numpy()[:, 3]\n",
<<<<<<< HEAD
=======
    "\n",
    "\n",
    "\n",
>>>>>>> varun1
    "split = 0.8 #using 70:30 split, random each time\n",
    "train_samples = np.random.choice(X.shape[0], int(split*X.shape[0]))\n",
    "test_samples = np.array([i for i in range(X.shape[0]) if i not in list(train_samples)])\n",
    "\n",
    "X_train = X[[train_samples]]\n",
    "Y_train = Y[[train_samples]]\n",
    "\n",
    "X_test = X[[test_samples]]\n",
    "Y_test = Y[[test_samples]]\n",
    "\n",
    "\n",
    "X_0 = X_train[Y_train == 0]\n",
    "X_1 = X_train[Y_train == 1]\n",
    "\n",
    "\n",
    "\n",
    "X_test_0 = X_test[Y_test == 0]\n",
<<<<<<< HEAD
    "X_test_1 = X_test[Y_test==1]\n"
=======
    "X_test_1 = X_test[Y_test==1]\n",
    "\n",
    "\n",
    "\n",
    "\n",
    "\n",
    "#X_00 = data[data['category'] == 0].to_numpy()[:, :3]\n",
    "#X_11 = data[data['category'] == 1].to_numpy()[:, :3]"
>>>>>>> varun1
   ]
  },
  {
   "cell_type": "code",
   "execution_count": 4,
   "metadata": {},
   "outputs": [],
   "source": [
    "#mean function\n",
    "def mean(data):\n",
    "    return sum(data)/float(len(data))"
   ]
  },
  {
   "cell_type": "code",
   "execution_count": 5,
   "metadata": {},
   "outputs": [],
   "source": [
    "#variance function\n",
    "def std(data):\n",
    "    mu  = mean(data)\n",
    "    return math.sqrt(sum([(x - mu)**2 for x in data])/float(len(data) - 1))"
   ]
  },
  {
   "cell_type": "code",
   "execution_count": 6,
   "metadata": {},
   "outputs": [
    {
     "data": {
      "text/plain": [
<<<<<<< HEAD
       "[(32.81470588235294, 9.464002045725648),\n",
       " (115.18823529411765, 12.91519341958986),\n",
       " (233.01176470588234, 31.25930907675781)]"
=======
       "[(31.432926829268293, 9.230736514831873),\n",
       " (113.34146341463415, 12.203894211992147),\n",
       " (233.2012195121951, 31.22154824733778)]"
>>>>>>> varun1
      ]
     },
     "execution_count": 6,
     "metadata": {},
     "output_type": "execute_result"
    }
   ],
   "source": [
    "#stat of class 0(Maximum Likelihood Estimate)\n",
    "stat_X0 = [(mean(col),  std(col)) for col in zip(*X_0)]\n",
    "stat_X0"
   ]
  },
  {
   "cell_type": "code",
   "execution_count": 7,
   "metadata": {},
   "outputs": [
    {
     "data": {
      "text/plain": [
<<<<<<< HEAD
       "[(53.34090909090909, 9.169492752780597),\n",
       " (139.74545454545455, 12.516244322422116),\n",
       " (284.45, 59.07515722292441)]"
=======
       "[(54.849137931034484, 9.25065104239509),\n",
       " (141.52155172413794, 12.237174970612381),\n",
       " (291.05172413793105, 60.09852586268063)]"
>>>>>>> varun1
      ]
     },
     "execution_count": 7,
     "metadata": {},
     "output_type": "execute_result"
    }
   ],
   "source": [
    "#stat of class 1(Maximum Likelihood Estimate)\n",
    "stat_X1 = [(mean(col),  std(col)) for col in zip(*X_1)]\n",
    "stat_X1"
   ]
  },
  {
   "cell_type": "code",
   "execution_count": 8,
   "metadata": {},
   "outputs": [],
   "source": [
    "stat = [stat_X0, stat_X1]"
   ]
  },
  {
   "cell_type": "code",
   "execution_count": 9,
   "metadata": {},
   "outputs": [],
   "source": [
    "#Probability calculation\n",
    "def Normal_dist(x, mean, std):\n",
    "    return (1 / (math.sqrt(2 * math.pi) * std)) *math.exp(-((x-mean)**2 / (2 * std**2 )))"
   ]
  },
  {
   "cell_type": "code",
   "execution_count": 10,
   "metadata": {},
   "outputs": [
    {
     "data": {
      "text/plain": [
<<<<<<< HEAD
       "[0.6071428571428571, 0.39285714285714285]"
=======
       "[0.4685714285714286, 0.3314285714285714]"
>>>>>>> varun1
      ]
     },
     "execution_count": 10,
     "metadata": {},
     "output_type": "execute_result"
    }
   ],
   "source": [
    "#prior calculation\n",
    "P = [float(len(X_0))/ float(len(X_0) + len(X_1)) ,float(len(X_1))/ float(len(X_0) + len(X_1)) ]\n",
    "P"
   ]
  },
  {
   "cell_type": "code",
   "execution_count": 11,
   "metadata": {},
   "outputs": [],
   "source": [
    "#calculation of class conditional density\n",
    "def class_conditional_probability(data, stat):\n",
    "    probabilities = np.ones(2, dtype = np.float64)\n",
    "    for i in range(0,2):\n",
    "        for j in range(len(stat[i])):\n",
    "            mean, stdev = stat[i][j]\n",
    "            #print( Normal_dist(data[i], mean, stdev))\n",
    "            probabilities[i] *= Normal_dist(data[j], mean, stdev)\n",
    "    return probabilities"
   ]
  },
  {
   "cell_type": "code",
   "execution_count": 12,
   "metadata": {},
   "outputs": [],
   "source": [
    "#calculation of posterior\n",
    "def posterior(data, stat, P):\n",
    "    prob = np.zeros(2, dtype = np.float64)\n",
    "    probabilities = class_conditional_probability(data, stat)\n",
    "    #print(probabilities)\n",
    "    for i in range(2):\n",
    "        prob[i] = probabilities[i]*P[i]\n",
    "    return prob"
   ]
  },
  {
   "cell_type": "code",
   "execution_count": 13,
   "metadata": {},
   "outputs": [],
   "source": [
    "def prediction(data, stat,P, Th):\n",
    "    Probabilities = posterior(data, stat, P)\n",
    "    Probabilities = Probabilities/sum(Probabilities)\n",
    "    #print(Probabilities)\n",
    "    if Probabilities[1] > Th:\n",
    "        return 1\n",
    "    else:\n",
    "        return 0"
   ]
  },
  {
   "cell_type": "code",
   "execution_count": 14,
   "metadata": {},
   "outputs": [],
   "source": [
    "#computing accuracy on training data.\n",
    "C1 = np.zeros((2,2)) #[[]]\n",
    "for i in range((X_0.shape[0])):\n",
    "    y_pred = prediction(X_0[i], stat, P, 0.7)\n",
    "    #print(y_pred)\n",
    "    C1[y_pred, 0] += 1\n",
    "for i in range((X_1.shape[0])):\n",
    "    y_pred = prediction(X_1[i], stat, P, 0.7)\n",
    "    #print(y_pred)\n",
    "    C1[y_pred, 1] += 1"
   ]
  },
  {
   "cell_type": "code",
   "execution_count": 15,
<<<<<<< HEAD
   "metadata": {},
   "outputs": [
    {
     "data": {
      "text/plain": [
       "array([[309.,  65.],\n",
       "       [ 31., 155.]])"
      ]
     },
     "execution_count": 15,
     "metadata": {},
     "output_type": "execute_result"
    }
   ],
   "source": [
    "C1"
   ]
  },
  {
   "cell_type": "code",
   "execution_count": 16,
=======
>>>>>>> varun1
   "metadata": {},
   "outputs": [
    {
     "name": "stdout",
     "output_type": "stream",
     "text": [
<<<<<<< HEAD
      "0.8285714285714286\n"
=======
      "0.8660714285714286\n"
>>>>>>> varun1
     ]
    }
   ],
   "source": [
    "acc1 = (C1[0,0] + C1[1,1])/np.sum(C1)\n",
    "print(acc1)"
   ]
  },
  {
   "cell_type": "code",
<<<<<<< HEAD
   "execution_count": 17,
=======
   "execution_count": 16,
>>>>>>> varun1
   "metadata": {},
   "outputs": [],
   "source": [
    "#computing accuracy on test data.\n",
    "C = np.zeros((2,2)) #[[]]\n",
    "for i in range((X_test_0.shape[0])):\n",
    "    y_pred = prediction(X_test_0[i], stat, P, 0.6)\n",
    "    C[y_pred, 0] += 1\n",
    "for i in range((X_test_1.shape[0])):\n",
    "    y_pred = prediction(X_test_1[i], stat, P, 0.6)\n",
    "    C[y_pred, 1] += 1"
   ]
  },
  {
   "cell_type": "code",
<<<<<<< HEAD
   "execution_count": 18,
=======
   "execution_count": 17,
>>>>>>> varun1
   "metadata": {},
   "outputs": [
    {
     "data": {
      "text/plain": [
<<<<<<< HEAD
       "array([[155.,  21.],\n",
       "       [ 13., 123.]])"
      ]
     },
     "execution_count": 18,
=======
       "array([[155.,  24.],\n",
       "       [ 25., 111.]])"
      ]
     },
     "execution_count": 17,
>>>>>>> varun1
     "metadata": {},
     "output_type": "execute_result"
    }
   ],
   "source": [
    "C"
   ]
  },
  {
   "cell_type": "code",
<<<<<<< HEAD
   "execution_count": 19,
=======
   "execution_count": 18,
>>>>>>> varun1
   "metadata": {},
   "outputs": [
    {
     "name": "stdout",
     "output_type": "stream",
     "text": [
<<<<<<< HEAD
      "0.8910256410256411\n"
=======
      "0.8444444444444444\n"
>>>>>>> varun1
     ]
    }
   ],
   "source": [
    "acc = (C[0,0] + C[1,1])/np.sum(C)\n",
    "print(acc)"
   ]
  },
  {
   "cell_type": "code",
   "execution_count": 20,
   "metadata": {},
   "outputs": [
    {
     "data": {
      "text/plain": [
       "0.8806818181818182"
      ]
     },
     "execution_count": 20,
     "metadata": {},
     "output_type": "execute_result"
    }
   ],
   "source": [
    "neg_predictivity = (C[0,0])/(C[0,0] + C[0,1])\n",
    "neg_predictivity"
   ]
  },
  {
   "cell_type": "code",
   "execution_count": 21,
   "metadata": {},
   "outputs": [
    {
     "data": {
      "text/plain": [
       "0.9044117647058824"
      ]
     },
     "execution_count": 21,
     "metadata": {},
     "output_type": "execute_result"
    }
   ],
   "source": [
    "precision = (C[1,1])/(C[1,0] + C[1,1])\n",
    "precision"
   ]
  },
  {
   "cell_type": "code",
   "execution_count": 22,
   "metadata": {},
   "outputs": [
    {
     "data": {
      "text/plain": [
       "0.9226190476190477"
      ]
     },
     "execution_count": 22,
     "metadata": {},
     "output_type": "execute_result"
    }
   ],
   "source": [
    "Recall = (C[0,0])/(C[0,0] + C[1,0])\n",
    "Recall"
   ]
  },
  {
   "cell_type": "code",
   "execution_count": 23,
   "metadata": {},
   "outputs": [
    {
     "data": {
      "text/plain": [
       "0.8541666666666666"
      ]
     },
     "execution_count": 23,
     "metadata": {},
     "output_type": "execute_result"
    }
   ],
   "source": [
    "Specificity = (C[1,1])/(C[0,1] + C[1,1])\n",
    "Specificity"
   ]
  },
  {
   "cell_type": "code",
   "execution_count": 25,
   "metadata": {},
   "outputs": [
    {
     "name": "stderr",
     "output_type": "stream",
     "text": [
      "100%|██████████| 1000/1000 [00:12<00:00, 80.24it/s]\n"
     ]
    },
    {
     "data": {
      "image/png": "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\n",
      "text/plain": [
       "<Figure size 432x288 with 1 Axes>"
      ]
     },
     "metadata": {
      "needs_background": "light"
     },
     "output_type": "display_data"
    }
   ],
   "source": [
    "from tqdm import tqdm\n",
    "TP = []\n",
    "FP = []\n",
    "for p0 in tqdm(np.linspace(0.000000001,0.999999999999,1000)):\n",
    "    C = np.zeros((2,2)) #[[]]\n",
    "    for i in range((X_test_0.shape[0])):\n",
    "        y_pred = prediction(X_test_0[i], stat, P, p0)\n",
    "        C[y_pred, 0] += 1\n",
    "    for i in range((X_test_1.shape[0])):\n",
    "        y_pred = prediction(X_test_1[i], stat, P, p0)\n",
    "        C[y_pred, 1] += 1\n",
    "    \n",
    "    tpr = C[1,1]/(C[1,1] + C[0,1])\n",
    "    fpr = C[1,0]/(C[1,0] + C[0,0])\n",
    "    TP.append(tpr)\n",
    "    FP.append(fpr)\n",
    "\n",
    "plt.plot(FP, TP, '-')\n",
    "plt.xlabel('False Positive Rate'); plt.ylabel('True Positive Rate'); plt.title('ROC curve');"
   ]
  },
  {
   "cell_type": "code",
   "execution_count": null,
   "metadata": {},
   "outputs": [],
   "source": []
  }
 ],
 "metadata": {
  "kernelspec": {
   "display_name": "Python 3",
   "language": "python",
   "name": "python3"
  },
  "language_info": {
   "codemirror_mode": {
    "name": "ipython",
    "version": 3
   },
   "file_extension": ".py",
   "mimetype": "text/x-python",
   "name": "python",
   "nbconvert_exporter": "python",
   "pygments_lexer": "ipython3",
   "version": "3.7.6"
  }
 },
 "nbformat": 4,
 "nbformat_minor": 4
}
