{
 "cells": [
  {
   "cell_type": "code",
   "execution_count": 1,
   "metadata": {},
   "outputs": [],
   "source": [
    "import numpy as np\n",
    "import pandas as pd\n",
    "import matplotlib.pyplot as plt\n",
    "import math\n",
    "import sklearn"
   ]
  },
  {
   "cell_type": "code",
   "execution_count": 2,
   "metadata": {},
   "outputs": [
    {
     "data": {
      "text/html": [
       "<div>\n",
       "<style scoped>\n",
       "    .dataframe tbody tr th:only-of-type {\n",
       "        vertical-align: middle;\n",
       "    }\n",
       "\n",
       "    .dataframe tbody tr th {\n",
       "        vertical-align: top;\n",
       "    }\n",
       "\n",
       "    .dataframe thead th {\n",
       "        text-align: right;\n",
       "    }\n",
       "</style>\n",
       "<table border=\"1\" class=\"dataframe\">\n",
       "  <thead>\n",
       "    <tr style=\"text-align: right;\">\n",
       "      <th></th>\n",
       "      <th>age</th>\n",
       "      <th>restbps</th>\n",
       "      <th>chol</th>\n",
       "      <th>category</th>\n",
       "    </tr>\n",
       "  </thead>\n",
       "  <tbody>\n",
       "    <tr>\n",
       "      <th>0</th>\n",
       "      <td>26</td>\n",
       "      <td>109</td>\n",
       "      <td>243</td>\n",
       "      <td>0</td>\n",
       "    </tr>\n",
       "    <tr>\n",
       "      <th>1</th>\n",
       "      <td>27</td>\n",
       "      <td>106</td>\n",
       "      <td>156</td>\n",
       "      <td>0</td>\n",
       "    </tr>\n",
       "    <tr>\n",
       "      <th>2</th>\n",
       "      <td>28</td>\n",
       "      <td>107</td>\n",
       "      <td>225</td>\n",
       "      <td>0</td>\n",
       "    </tr>\n",
       "    <tr>\n",
       "      <th>3</th>\n",
       "      <td>27</td>\n",
       "      <td>105</td>\n",
       "      <td>277</td>\n",
       "      <td>0</td>\n",
       "    </tr>\n",
       "    <tr>\n",
       "      <th>4</th>\n",
       "      <td>30</td>\n",
       "      <td>96</td>\n",
       "      <td>221</td>\n",
       "      <td>0</td>\n",
       "    </tr>\n",
       "  </tbody>\n",
       "</table>\n",
       "</div>"
      ],
      "text/plain": [
       "   age  restbps  chol  category\n",
       "0   26      109   243         0\n",
       "1   27      106   156         0\n",
       "2   28      107   225         0\n",
       "3   27      105   277         0\n",
       "4   30       96   221         0"
      ]
     },
     "execution_count": 2,
     "metadata": {},
     "output_type": "execute_result"
    }
   ],
   "source": [
    "data = pd.read_csv('health_data.csv')\n",
    "data.head()"
   ]
  },
  {
   "cell_type": "code",
   "execution_count": 3,
   "metadata": {},
   "outputs": [
    {
     "name": "stderr",
     "output_type": "stream",
     "text": [
      "E:\\Anaconda\\lib\\site-packages\\ipykernel_launcher.py:10: FutureWarning: Using a non-tuple sequence for multidimensional indexing is deprecated; use `arr[tuple(seq)]` instead of `arr[seq]`. In the future this will be interpreted as an array index, `arr[np.array(seq)]`, which will result either in an error or a different result.\n",
      "  # Remove the CWD from sys.path while we load stuff.\n",
      "E:\\Anaconda\\lib\\site-packages\\ipykernel_launcher.py:11: FutureWarning: Using a non-tuple sequence for multidimensional indexing is deprecated; use `arr[tuple(seq)]` instead of `arr[seq]`. In the future this will be interpreted as an array index, `arr[np.array(seq)]`, which will result either in an error or a different result.\n",
      "  # This is added back by InteractiveShellApp.init_path()\n",
      "E:\\Anaconda\\lib\\site-packages\\ipykernel_launcher.py:13: FutureWarning: Using a non-tuple sequence for multidimensional indexing is deprecated; use `arr[tuple(seq)]` instead of `arr[seq]`. In the future this will be interpreted as an array index, `arr[np.array(seq)]`, which will result either in an error or a different result.\n",
      "  del sys.path[0]\n",
      "E:\\Anaconda\\lib\\site-packages\\ipykernel_launcher.py:14: FutureWarning: Using a non-tuple sequence for multidimensional indexing is deprecated; use `arr[tuple(seq)]` instead of `arr[seq]`. In the future this will be interpreted as an array index, `arr[np.array(seq)]`, which will result either in an error or a different result.\n",
      "  \n"
     ]
    }
   ],
   "source": [
    "X = data.to_numpy()[:, :3]\n",
    "Y = data.to_numpy()[:, 3]\n",
    "\n",
    "\n",
    "\n",
    "split = 0.8 #using 70:30 split, random each time\n",
    "train_samples = np.random.choice(X.shape[0], int(split*X.shape[0]))\n",
    "test_samples = np.array([i for i in range(X.shape[0]) if i not in list(train_samples)])\n",
    "\n",
    "X_train = X[[train_samples]]\n",
    "Y_train = Y[[train_samples]]\n",
    "\n",
    "X_test = X[[test_samples]]\n",
    "Y_test = Y[[test_samples]]\n",
    "\n",
    "\n",
    "X_0 = X_train[Y_train == 0]\n",
    "X_1 = X_train[Y_train == 1]\n",
    "\n",
    "\n",
    "\n",
    "X_test_0 = X_test[Y_test == 0]\n",
    "X_test_1 = X_test[Y_test==1]\n",
    "\n",
    "\n",
    "\n",
    "\n",
    "\n",
    "#X_00 = data[data['category'] == 0].to_numpy()[:, :3]\n",
    "#X_11 = data[data['category'] == 1].to_numpy()[:, :3]"
   ]
  },
  {
   "cell_type": "code",
   "execution_count": 4,
   "metadata": {},
   "outputs": [],
   "source": [
    "#mean function\n",
    "def mean(data):\n",
    "    return sum(data)/float(len(data))"
   ]
  },
  {
   "cell_type": "code",
   "execution_count": 5,
   "metadata": {},
   "outputs": [],
   "source": [
    "#variance function\n",
    "def std(data):\n",
    "    mu  = mean(data)\n",
    "    return math.sqrt(sum([(x - mu)**2 for x in data])/float(len(data) - 1))"
   ]
  },
  {
   "cell_type": "code",
   "execution_count": 6,
   "metadata": {},
   "outputs": [
    {
     "data": {
      "text/plain": [
       "[(31.432926829268293, 9.230736514831873),\n",
       " (113.34146341463415, 12.203894211992147),\n",
       " (233.2012195121951, 31.22154824733778)]"
      ]
     },
     "execution_count": 6,
     "metadata": {},
     "output_type": "execute_result"
    }
   ],
   "source": [
    "#stat of class 0(Maximum Likelihood Estimate)\n",
    "stat_X0 = [(mean(col),  std(col)) for col in zip(*X_0)]\n",
    "stat_X0"
   ]
  },
  {
   "cell_type": "code",
   "execution_count": 7,
   "metadata": {},
   "outputs": [
    {
     "data": {
      "text/plain": [
       "[(54.849137931034484, 9.25065104239509),\n",
       " (141.52155172413794, 12.237174970612381),\n",
       " (291.05172413793105, 60.09852586268063)]"
      ]
     },
     "execution_count": 7,
     "metadata": {},
     "output_type": "execute_result"
    }
   ],
   "source": [
    "#stat of class 1(Maximum Likelihood Estimate)\n",
    "stat_X1 = [(mean(col),  std(col)) for col in zip(*X_1)]\n",
    "stat_X1"
   ]
  },
  {
   "cell_type": "code",
   "execution_count": 8,
   "metadata": {},
   "outputs": [],
   "source": [
    "stat = [stat_X0, stat_X1]"
   ]
  },
  {
   "cell_type": "code",
   "execution_count": 9,
   "metadata": {},
   "outputs": [],
   "source": [
    "#Probability calculation\n",
    "def Normal_dist(x, mean, std):\n",
    "    return (1 / (math.sqrt(2 * math.pi) * std)) *math.exp(-((x-mean)**2 / (2 * std**2 )))"
   ]
  },
  {
   "cell_type": "code",
   "execution_count": 10,
   "metadata": {},
   "outputs": [
    {
     "data": {
      "text/plain": [
       "[0.4685714285714286, 0.3314285714285714]"
      ]
     },
     "execution_count": 10,
     "metadata": {},
     "output_type": "execute_result"
    }
   ],
   "source": [
    "#prior calculation\n",
    "P = [float(len(X_0))/ float(len(data)) ,float(len(X_1))/ float(len(data)) ]\n",
    "P"
   ]
  },
  {
   "cell_type": "code",
   "execution_count": 11,
   "metadata": {},
   "outputs": [],
   "source": [
    "#calculation of class conditional density\n",
    "def class_conditional_probability(data, stat):\n",
    "    probabilities = np.ones(2, dtype = np.float64)\n",
    "    for i in range(0,2):\n",
    "        for j in range(len(stat[i])):\n",
    "            mean, stdev = stat[i][j]\n",
    "            #print( Normal_dist(data[i], mean, stdev))\n",
    "            probabilities[i] *= Normal_dist(data[j], mean, stdev)\n",
    "    return probabilities"
   ]
  },
  {
   "cell_type": "code",
   "execution_count": 12,
   "metadata": {},
   "outputs": [],
   "source": [
    "#calculation of posterior\n",
    "def posterior(data, stat, P):\n",
    "    prob = np.zeros(2, dtype = np.float64)\n",
    "    probabilities = class_conditional_probability(data, stat)\n",
    "    for i in range(2):\n",
    "        prob[i] = probabilities[i]*P[i]\n",
    "    return prob"
   ]
  },
  {
   "cell_type": "code",
   "execution_count": 13,
   "metadata": {},
   "outputs": [],
   "source": [
    "def prediction(data, stat,P, Th):\n",
    "    Probabilities = posterior(data, stat, P)\n",
    "    Probabilities = Probabilities/sum(Probabilities)\n",
    "    if Probabilities[1] > Th:\n",
    "        return 1\n",
    "    else:\n",
    "        return 0"
   ]
  },
  {
   "cell_type": "code",
   "execution_count": 14,
   "metadata": {},
   "outputs": [],
   "source": [
    "#computing accuracy on training data.\n",
    "C1 = np.zeros((2,2)) #[[]]\n",
    "for i in range((X_0.shape[0])):\n",
    "    y_pred = prediction(X_0[i], stat, P, 0.5)\n",
    "    C1[y_pred, 0] += 1\n",
    "for i in range((X_1.shape[0])):\n",
    "    y_pred = prediction(X_1[i], stat, P, 0.5)\n",
    "    C1[y_pred, 1] += 1"
   ]
  },
  {
   "cell_type": "code",
   "execution_count": 15,
   "metadata": {},
   "outputs": [
    {
     "name": "stdout",
     "output_type": "stream",
     "text": [
      "0.8660714285714286\n"
     ]
    }
   ],
   "source": [
    "acc1 = (C1[0,0] + C1[1,1])/np.sum(C1)\n",
    "print(acc1)"
   ]
  },
  {
   "cell_type": "code",
   "execution_count": 16,
   "metadata": {},
   "outputs": [],
   "source": [
    "#computing accuracy on test data.\n",
    "C = np.zeros((2,2)) #[[]]\n",
    "for i in range((X_test_0.shape[0])):\n",
    "    y_pred = prediction(X_test_0[i], stat, P, 0.5)\n",
    "    C[y_pred, 0] += 1\n",
    "for i in range((X_test_1.shape[0])):\n",
    "    y_pred = prediction(X_test_1[i], stat, P, 0.5)\n",
    "    C[y_pred, 1] += 1"
   ]
  },
  {
   "cell_type": "code",
   "execution_count": 17,
   "metadata": {},
   "outputs": [
    {
     "data": {
      "text/plain": [
       "array([[155.,  24.],\n",
       "       [ 25., 111.]])"
      ]
     },
     "execution_count": 17,
     "metadata": {},
     "output_type": "execute_result"
    }
   ],
   "source": [
    "C"
   ]
  },
  {
   "cell_type": "code",
   "execution_count": 18,
   "metadata": {},
   "outputs": [
    {
     "name": "stdout",
     "output_type": "stream",
     "text": [
      "0.8444444444444444\n"
     ]
    }
   ],
   "source": [
    "acc = (C[0,0] + C[1,1])/np.sum(C)\n",
    "print(acc)"
   ]
  },
  {
   "cell_type": "code",
   "execution_count": null,
   "metadata": {},
   "outputs": [],
   "source": []
  }
 ],
 "metadata": {
  "kernelspec": {
   "display_name": "Python 3",
   "language": "python",
   "name": "python3"
  },
  "language_info": {
   "codemirror_mode": {
    "name": "ipython",
    "version": 3
   },
   "file_extension": ".py",
   "mimetype": "text/x-python",
   "name": "python",
   "nbconvert_exporter": "python",
   "pygments_lexer": "ipython3",
   "version": "3.7.6"
  }
 },
 "nbformat": 4,
 "nbformat_minor": 4
}
