{
 "cells": [
  {
   "cell_type": "code",
   "execution_count": 4,
   "metadata": {},
   "outputs": [],
   "source": [
    "import numpy as np\n",
    "import pandas as pd\n",
    "import matplotlib.pyplot as plt\n",
    "import math\n",
    "import sklearn"
   ]
  },
  {
   "cell_type": "code",
   "execution_count": 2,
   "metadata": {},
   "outputs": [
    {
     "data": {
      "text/html": [
       "<div>\n",
       "<style scoped>\n",
       "    .dataframe tbody tr th:only-of-type {\n",
       "        vertical-align: middle;\n",
       "    }\n",
       "\n",
       "    .dataframe tbody tr th {\n",
       "        vertical-align: top;\n",
       "    }\n",
       "\n",
       "    .dataframe thead th {\n",
       "        text-align: right;\n",
       "    }\n",
       "</style>\n",
       "<table border=\"1\" class=\"dataframe\">\n",
       "  <thead>\n",
       "    <tr style=\"text-align: right;\">\n",
       "      <th></th>\n",
       "      <th>age</th>\n",
       "      <th>restbps</th>\n",
       "      <th>chol</th>\n",
       "      <th>category</th>\n",
       "    </tr>\n",
       "  </thead>\n",
       "  <tbody>\n",
       "    <tr>\n",
       "      <th>0</th>\n",
       "      <td>26</td>\n",
       "      <td>109</td>\n",
       "      <td>243</td>\n",
       "      <td>0</td>\n",
       "    </tr>\n",
       "    <tr>\n",
       "      <th>1</th>\n",
       "      <td>27</td>\n",
       "      <td>106</td>\n",
       "      <td>156</td>\n",
       "      <td>0</td>\n",
       "    </tr>\n",
       "    <tr>\n",
       "      <th>2</th>\n",
       "      <td>28</td>\n",
       "      <td>107</td>\n",
       "      <td>225</td>\n",
       "      <td>0</td>\n",
       "    </tr>\n",
       "    <tr>\n",
       "      <th>3</th>\n",
       "      <td>27</td>\n",
       "      <td>105</td>\n",
       "      <td>277</td>\n",
       "      <td>0</td>\n",
       "    </tr>\n",
       "    <tr>\n",
       "      <th>4</th>\n",
       "      <td>30</td>\n",
       "      <td>96</td>\n",
       "      <td>221</td>\n",
       "      <td>0</td>\n",
       "    </tr>\n",
       "  </tbody>\n",
       "</table>\n",
       "</div>"
      ],
      "text/plain": [
       "   age  restbps  chol  category\n",
       "0   26      109   243         0\n",
       "1   27      106   156         0\n",
       "2   28      107   225         0\n",
       "3   27      105   277         0\n",
       "4   30       96   221         0"
      ]
     },
     "execution_count": 2,
     "metadata": {},
     "output_type": "execute_result"
    }
   ],
   "source": [
    "data = pd.read_csv('health_data.csv')\n",
    "data.head()"
   ]
  },
  {
   "cell_type": "code",
   "execution_count": 3,
   "metadata": {},
   "outputs": [
    {
     "name": "stdout",
     "output_type": "stream",
     "text": [
      "(316, 3)\n"
     ]
    },
    {
     "name": "stderr",
     "output_type": "stream",
     "text": [
      "E:\\Anaconda\\lib\\site-packages\\ipykernel_launcher.py:7: FutureWarning: Using a non-tuple sequence for multidimensional indexing is deprecated; use `arr[tuple(seq)]` instead of `arr[seq]`. In the future this will be interpreted as an array index, `arr[np.array(seq)]`, which will result either in an error or a different result.\n",
      "  import sys\n",
      "E:\\Anaconda\\lib\\site-packages\\ipykernel_launcher.py:8: FutureWarning: Using a non-tuple sequence for multidimensional indexing is deprecated; use `arr[tuple(seq)]` instead of `arr[seq]`. In the future this will be interpreted as an array index, `arr[np.array(seq)]`, which will result either in an error or a different result.\n",
      "  \n",
      "E:\\Anaconda\\lib\\site-packages\\ipykernel_launcher.py:10: FutureWarning: Using a non-tuple sequence for multidimensional indexing is deprecated; use `arr[tuple(seq)]` instead of `arr[seq]`. In the future this will be interpreted as an array index, `arr[np.array(seq)]`, which will result either in an error or a different result.\n",
      "  # Remove the CWD from sys.path while we load stuff.\n",
      "E:\\Anaconda\\lib\\site-packages\\ipykernel_launcher.py:11: FutureWarning: Using a non-tuple sequence for multidimensional indexing is deprecated; use `arr[tuple(seq)]` instead of `arr[seq]`. In the future this will be interpreted as an array index, `arr[np.array(seq)]`, which will result either in an error or a different result.\n",
      "  # This is added back by InteractiveShellApp.init_path()\n"
     ]
    }
   ],
   "source": [
    "X = data.to_numpy()[:, :3]\n",
    "Y = data.to_numpy()[:, 3]\n",
    "split = 0.8 #using 70:30 split, random each time\n",
    "train_samples = np.random.choice(X.shape[0], int(split*X.shape[0]))\n",
    "test_samples = np.array([i for i in range(X.shape[0]) if i not in list(train_samples)])\n",
    "\n",
    "X_train = X[[train_samples]]\n",
    "Y_train = Y[[train_samples]]\n",
    "\n",
    "X_test = X[[test_samples]]\n",
    "Y_test = Y[[test_samples]]\n",
    "\n",
    "X_0 = X_train[Y_train == 0]\n",
    "X_1 = X_train[Y_train == 1]\n",
    "\n",
    "X_test_0 = X_test[Y_test == 0]\n",
    "X_test_1 = X_test[Y_test==1]\n",
    "print(X_test.shape)"
   ]
  },
  {
   "cell_type": "code",
   "execution_count": 4,
   "metadata": {},
   "outputs": [],
   "source": [
    "X_00 = data[data['category'] == 0].to_numpy()[:, :3]\n",
    "X_11 = data[data['category'] == 1].to_numpy()[:, :3]"
   ]
  },
  {
   "cell_type": "code",
   "execution_count": 5,
   "metadata": {},
   "outputs": [
    {
     "name": "stderr",
     "output_type": "stream",
     "text": [
      "E:\\Anaconda\\lib\\site-packages\\ipykernel_launcher.py:1: MatplotlibDeprecationWarning: \n",
      "The 'normed' kwarg was deprecated in Matplotlib 2.1 and will be removed in 3.1. Use 'density' instead.\n",
      "  \"\"\"Entry point for launching an IPython kernel.\n"
     ]
    },
    {
     "data": {
      "image/png": "[encoded data removed]",
      "text/plain": [
       "<Figure size 432x288 with 1 Axes>"
      ]
     },
     "metadata": {
      "needs_background": "light"
     },
     "output_type": "display_data"
    }
   ],
   "source": [
    "hist1 = plt.hist(X_00[:, 0], bins=40, normed=True)"
   ]
  },
  {
   "cell_type": "code",
   "execution_count": 6,
   "metadata": {},
   "outputs": [
    {
     "name": "stderr",
     "output_type": "stream",
     "text": [
      "E:\\Anaconda\\lib\\site-packages\\ipykernel_launcher.py:1: MatplotlibDeprecationWarning: \n",
      "The 'normed' kwarg was deprecated in Matplotlib 2.1 and will be removed in 3.1. Use 'density' instead.\n",
      "  \"\"\"Entry point for launching an IPython kernel.\n"
     ]
    },
    {
     "data": {
      "image/png": "[encoded data removed]",
      "text/plain": [
       "<Figure size 432x288 with 1 Axes>"
      ]
     },
     "metadata": {
      "needs_background": "light"
     },
     "output_type": "display_data"
    }
   ],
   "source": [
    "hist2 = plt.hist(X_00[:, 1], bins=30, normed=True)"
   ]
  },
  {
   "cell_type": "code",
   "execution_count": 7,
   "metadata": {},
   "outputs": [
    {
     "name": "stderr",
     "output_type": "stream",
     "text": [
      "E:\\Anaconda\\lib\\site-packages\\ipykernel_launcher.py:1: MatplotlibDeprecationWarning: \n",
      "The 'normed' kwarg was deprecated in Matplotlib 2.1 and will be removed in 3.1. Use 'density' instead.\n",
      "  \"\"\"Entry point for launching an IPython kernel.\n"
     ]
    },
    {
     "data": {
      "image/png": "[encoded data removed]",
      "text/plain": [
       "<Figure size 432x288 with 1 Axes>"
      ]
     },
     "metadata": {
      "needs_background": "light"
     },
     "output_type": "display_data"
    }
   ],
   "source": [
    "hist3 = plt.hist(X_00[:, 2], bins=30, normed=True)"
   ]
  },
  {
   "cell_type": "code",
   "execution_count": 8,
   "metadata": {},
   "outputs": [
    {
     "name": "stderr",
     "output_type": "stream",
     "text": [
      "E:\\Anaconda\\lib\\site-packages\\ipykernel_launcher.py:1: MatplotlibDeprecationWarning: \n",
      "The 'normed' kwarg was deprecated in Matplotlib 2.1 and will be removed in 3.1. Use 'density' instead.\n",
      "  \"\"\"Entry point for launching an IPython kernel.\n"
     ]
    },
    {
     "data": {
      "image/png": "[encoded data removed]",
      "text/plain": [
       "<Figure size 432x288 with 1 Axes>"
      ]
     },
     "metadata": {
      "needs_background": "light"
     },
     "output_type": "display_data"
    }
   ],
   "source": [
    "hist11 = plt.hist(X_11[:, 0], bins=20, normed=True)"
   ]
  },
  {
   "cell_type": "code",
   "execution_count": 9,
   "metadata": {},
   "outputs": [
    {
     "name": "stderr",
     "output_type": "stream",
     "text": [
      "E:\\Anaconda\\lib\\site-packages\\ipykernel_launcher.py:1: MatplotlibDeprecationWarning: \n",
      "The 'normed' kwarg was deprecated in Matplotlib 2.1 and will be removed in 3.1. Use 'density' instead.\n",
      "  \"\"\"Entry point for launching an IPython kernel.\n"
     ]
    },
    {
     "data": {
      "image/png": "[encoded data removed]",
      "text/plain": [
       "<Figure size 432x288 with 1 Axes>"
      ]
     },
     "metadata": {
      "needs_background": "light"
     },
     "output_type": "display_data"
    }
   ],
   "source": [
    "hist12 = plt.hist(X_11[:, 1], bins=30, normed=True)"
   ]
  },
  {
   "cell_type": "code",
   "execution_count": 10,
   "metadata": {},
   "outputs": [
    {
     "name": "stderr",
     "output_type": "stream",
     "text": [
      "E:\\Anaconda\\lib\\site-packages\\ipykernel_launcher.py:1: MatplotlibDeprecationWarning: \n",
      "The 'normed' kwarg was deprecated in Matplotlib 2.1 and will be removed in 3.1. Use 'density' instead.\n",
      "  \"\"\"Entry point for launching an IPython kernel.\n"
     ]
    },
    {
     "data": {
      "image/png": "[encoded data removed]",
      "text/plain": [
       "<Figure size 432x288 with 1 Axes>"
      ]
     },
     "metadata": {
      "needs_background": "light"
     },
     "output_type": "display_data"
    }
   ],
   "source": [
    "hist13 = plt.hist(X_11[:, 2], bins=40, normed=True)"
   ]
  },
  {
   "cell_type": "code",
   "execution_count": 11,
   "metadata": {},
   "outputs": [],
   "source": [
    "#Hypercube_Kernel\n",
    "def hypercube_kernel(h, x, x_i):\n",
    "    assert (x.shape == x_i.shape)\n",
    "    return (x - x_i) / (h)\n",
    "\n",
    "\n",
    "#Window_function   \n",
    "def parzen_window_func(x_vec):\n",
    "    for row in x_vec:\n",
    "        if np.abs(row) > (1/2):\n",
    "            return 0\n",
    "        return 1\n",
    "\n",
    "#Estimation\n",
    "def parzen_estimation_for_hyper_cube(x_samples, point_x, h, d):\n",
    "    dimensions = x_samples.shape[1]\n",
    "    assert (len(point_x) == dimensions)\n",
    "    k_n = 0\n",
    "    for row in x_samples:\n",
    "        x_i = hypercube_kernel(h=h, x=point_x, x_i=row)\n",
    "        k_n += parzen_window_func(x_i)\n",
    "    return (k_n / len(x_samples)) / (h**d)"
   ]
  },
  {
   "cell_type": "code",
   "execution_count": 12,
   "metadata": {},
   "outputs": [],
   "source": [
    "def pdf_multivariate_gauss(x, mu, cov):\n",
    "    assert(mu.shape[0] > mu.shape[1])\n",
    "    assert(x.shape[0] > x.shape[1])\n",
    "    assert(cov.shape[0] == cov.shape[1])\n",
    "    assert(mu.shape[0] == cov.shape[0])\n",
    "    assert(mu.shape[0] == x.shape[0])\n",
    "    part1 = 1 / ( ((2* np.pi)**(len(mu)/2)) * (np.linalg.det(cov)**(1/2)) )\n",
    "    part2 = (-1/2) * ((x-mu).T.dot(np.linalg.inv(cov))).dot((x-mu))\n",
    "    return float(part1 * np.exp(part2))"
   ]
  },
  {
   "cell_type": "code",
   "execution_count": 13,
   "metadata": {},
   "outputs": [],
   "source": [
    "#Gaussian_kernel_and_window_function\n",
    "def gaussian_window_function(cov, x, x_i):\n",
    "    assert (x.shape == x_i.shape)\n",
    "    assert(cov.shape[0] == cov.shape[1])\n",
    "    assert(x_i.shape[0] == cov.shape[0])\n",
    "    return pdf_multivariate_gauss(x, x_i,cov)\n",
    "\n",
    "\n",
    "#Estimation\n",
    "def parzen_estimation_for_gaussian(x_samples, point_x, cov):\n",
    "    point_x = point_x.reshape((3,1))\n",
    "    prob = 0.0\n",
    "    for row in x_samples:\n",
    "        row = row.reshape((3,1))\n",
    "        prob += gaussian_window_function(cov,point_x,row)\n",
    "    return prob "
   ]
  },
  {
   "cell_type": "code",
   "execution_count": 14,
   "metadata": {},
   "outputs": [
    {
     "data": {
      "text/plain": [
       "[0.5803571428571429, 0.41964285714285715]"
      ]
     },
     "execution_count": 14,
     "metadata": {},
     "output_type": "execute_result"
    }
   ],
   "source": [
    "#prior calculation\n",
    "P = [float(len(X_0))/ float(len(X_0) + len(X_1)) ,float(len(X_1))/ float(len(X_0) + len(X_1)) ]\n",
    "P"
   ]
  },
  {
   "cell_type": "markdown",
   "metadata": {},
   "source": [
    "# Hyper_Cube"
   ]
  },
  {
   "cell_type": "code",
   "execution_count": 45,
   "metadata": {},
   "outputs": [],
   "source": [
    "#calculation of posterior\n",
    "def posterior(X_train_0,X_train_1, data, P,h,d):\n",
    "    prob = np.zeros(no_of_classes, dtype = np.float64)\n",
    "    class_probabilities = [parzen_estimation_for_hyper_cube(X_train_0, data, h, d), parzen_estimation_for_hyper_cube(X_train_1, data, h, d)]\n",
    "    \n",
    "    #print(probabilities)\n",
    "    for i in range(2):\n",
    "        prob[i] = class_probabilities[i]*P[i]\n",
    "    return prob"
   ]
  },
  {
   "cell_type": "code",
   "execution_count": 46,
   "metadata": {},
   "outputs": [],
   "source": [
    "def prediction(data, X_train_0, X_train_1,P, h, Th):\n",
    "    Probabilities = posterior(X_train_0, X_train_1, data, P, h, X_train.shape[1])\n",
    "    Probabilities = Probabilities/sum(Probabilities)\n",
    "    #print(Probabilities)\n",
    "    if Probabilities[1] > Th:\n",
    "        return 1\n",
    "    else:\n",
    "        return 0"
   ]
  },
  {
   "cell_type": "code",
   "execution_count": 47,
   "metadata": {},
   "outputs": [
    {
     "name": "stderr",
     "output_type": "stream",
     "text": [
      "E:\\Anaconda\\lib\\site-packages\\ipykernel_launcher.py:3: RuntimeWarning: invalid value encountered in true_divide\n",
      "  This is separate from the ipykernel package so we can avoid doing imports until\n"
     ]
    }
   ],
   "source": [
    "#computing accuracy on test data.\n",
    "C = np.zeros((2,2)) #[[]]\n",
    "for i in range((X_test_0.shape[0])):\n",
    "    y_pred = prediction(X_test_0[i], X_0,X_1, P, 1, 0.5)\n",
    "    C[y_pred, 0] += 1\n",
    "for i in range((X_test_1.shape[0])):\n",
    "    y_pred = prediction(X_test_1[i], X_0, X_1, P, 1, 0.5)\n",
    "    C[y_pred, 1] += 1"
   ]
  },
  {
   "cell_type": "code",
   "execution_count": 48,
   "metadata": {},
   "outputs": [
    {
     "data": {
      "text/plain": [
       "array([[156.,  33.],\n",
       "       [ 22.,  92.]])"
      ]
     },
     "execution_count": 48,
     "metadata": {},
     "output_type": "execute_result"
    }
   ],
   "source": [
    "C"
   ]
  },
  {
   "cell_type": "code",
   "execution_count": 49,
   "metadata": {},
   "outputs": [
    {
     "name": "stdout",
     "output_type": "stream",
     "text": [
      "0.8184818481848185\n"
     ]
    }
   ],
   "source": [
    "acc = (C[0,0] + C[1,1])/np.sum(C)\n",
    "print(acc)"
   ]
  },
  {
   "cell_type": "code",
   "execution_count": 50,
   "metadata": {},
   "outputs": [
    {
     "data": {
      "text/plain": [
       "0.8070175438596491"
      ]
     },
     "execution_count": 50,
     "metadata": {},
     "output_type": "execute_result"
    }
   ],
   "source": [
    "precision = (C[1,1])/(C[1,0] + C[1,1])\n",
    "precision"
   ]
  },
  {
   "cell_type": "code",
   "execution_count": 51,
   "metadata": {},
   "outputs": [
    {
     "data": {
      "text/plain": [
       "0.736"
      ]
     },
     "execution_count": 51,
     "metadata": {},
     "output_type": "execute_result"
    }
   ],
   "source": [
    "Recall = (C[1,1])/(C[0,1] + C[1,1])\n",
    "Recall"
   ]
  },
  {
   "cell_type": "code",
   "execution_count": 52,
   "metadata": {},
   "outputs": [
    {
     "name": "stderr",
     "output_type": "stream",
     "text": [
      "  0%|          | 0/100 [00:00<?, ?it/s]E:\\Anaconda\\lib\\site-packages\\ipykernel_launcher.py:3: RuntimeWarning: invalid value encountered in true_divide\n",
      "  This is separate from the ipykernel package so we can avoid doing imports until\n",
      "100%|██████████| 100/100 [01:10<00:00,  1.42it/s]\n"
     ]
    }
   ],
   "source": [
    "from tqdm import tqdm\n",
    "Precision = []\n",
    "Recall = []\n",
    "ACC = []\n",
    "F1_score = []\n",
    "kk = range(1,300)\n",
    "for h in tqdm(np.linspace(0.01,10,100)):\n",
    "    C = np.zeros((2,2)) #[[]]\n",
    "    for i in range((X_test_0.shape[0])):\n",
    "        y_pred = prediction(X_test_0[i], X_0,X_1, P, h, 0.5)\n",
    "        C[y_pred, 0] += 1\n",
    "    for i in range((X_test_1.shape[0])):\n",
    "        y_pred = prediction(X_test_1[i], X_0, X_1, P, h, 0.5)\n",
    "        C[y_pred, 1] += 1\n",
    "    acc = (C[0,0] + C[1,1])/np.sum(C) \n",
    "    pr = C[1,1]/(C[1,1] + C[1,0])\n",
    "    rec = C[1,1]/(C[1,1] + C[0,1])\n",
    "    f1 = 2*(pr*rec)/(pr + rec)\n",
    "    Precision.append(pr)\n",
    "    Recall.append(rec)\n",
    "    F1_score.append(f1)\n",
    "    ACC.append(acc)\n",
    "#plt.xlabel('False Positive Rate'); plt.ylabel('True Positive Rate'); plt.title('ROC curve');"
   ]
  },
  {
   "cell_type": "code",
   "execution_count": 53,
   "metadata": {},
   "outputs": [],
   "source": [
    "kk = np.linspace(0.01,10,100)"
   ]
  },
  {
   "cell_type": "code",
   "execution_count": 54,
   "metadata": {},
   "outputs": [
    {
     "data": {
      "image/png": "[encoded data removed]",
      "text/plain": [
       "<Figure size 432x288 with 1 Axes>"
      ]
     },
     "metadata": {
      "needs_background": "light"
     },
     "output_type": "display_data"
    }
   ],
   "source": [
    "plt.plot(kk ,ACC, '-')\n",
    "plt.xlabel('k_value'); plt.ylabel('ACCURACY'); plt.title('ACCURACY VS K curve');"
   ]
  },
  {
   "cell_type": "code",
   "execution_count": 55,
   "metadata": {},
   "outputs": [
    {
     "data": {
      "image/png": "[encoded data removed]",
      "text/plain": [
       "<Figure size 432x288 with 1 Axes>"
      ]
     },
     "metadata": {
      "needs_background": "light"
     },
     "output_type": "display_data"
    }
   ],
   "source": [
    "plt.plot(kk, Recall, '-')\n",
    "plt.xlabel('k_value'); plt.ylabel('RECALL'); plt.title('RECALL VS K curve');"
   ]
  },
  {
   "cell_type": "code",
   "execution_count": 56,
   "metadata": {},
   "outputs": [
    {
     "data": {
      "image/png": "[encoded data removed]",
      "text/plain": [
       "<Figure size 432x288 with 1 Axes>"
      ]
     },
     "metadata": {
      "needs_background": "light"
     },
     "output_type": "display_data"
    }
   ],
   "source": [
    "plt.plot(kk, Precision, '-')\n",
    "plt.xlabel('k_value'); plt.ylabel('PRECISION'); plt.title('PRECISION VS K curve');"
   ]
  },
  {
   "cell_type": "code",
   "execution_count": 57,
   "metadata": {},
   "outputs": [
    {
     "data": {
      "image/png": "[encoded data removed]",
      "text/plain": [
       "<Figure size 432x288 with 1 Axes>"
      ]
     },
     "metadata": {
      "needs_background": "light"
     },
     "output_type": "display_data"
    }
   ],
   "source": [
    "plt.plot(kk, F1_score, '-')\n",
    "plt.xlabel('k_value'); plt.ylabel('F1_SCORE'); plt.title('F1_SCORE VS K curve');"
   ]
  },
  {
   "cell_type": "markdown",
   "metadata": {},
   "source": [
    "# Gaussian Window function"
   ]
  },
  {
   "cell_type": "code",
   "execution_count": 15,
   "metadata": {},
   "outputs": [],
   "source": [
    "#calculation of posterior\n",
    "def posterior(X_train_0,X_train_1, data, P,cov):\n",
    "    prob = np.zeros(2, dtype = np.float64)\n",
    "    class_probabilities = [parzen_estimation_for_gaussian(X_train_0, data,cov ), parzen_estimation_for_gaussian(X_train_1, data,cov)]\n",
    "    \n",
    "    #print(probabilities)\n",
    "    for i in range(2):\n",
    "        prob[i] = class_probabilities[i]*P[i]\n",
    "    return prob"
   ]
  },
  {
   "cell_type": "code",
   "execution_count": 16,
   "metadata": {},
   "outputs": [],
   "source": [
    "def prediction(data, X_train_0, X_train_1,P, cov, Th):\n",
    "    Probabilities = posterior(X_train_0, X_train_1, data, P, cov)\n",
    "    Probabilities = Probabilities/sum(Probabilities)\n",
    "    #print(Probabilities)\n",
    "    if Probabilities[1] > Th:\n",
    "        return 1\n",
    "    else:\n",
    "        return 0"
   ]
  },
  {
   "cell_type": "code",
   "execution_count": 17,
   "metadata": {},
   "outputs": [],
   "source": [
    "#computing accuracy on test data.\n",
    "C = np.zeros((2,2)) #[[]]\n",
    "cov = np.eye(X_train.shape[1],dtype = np.float)\n",
    "for i in range((X_test_0.shape[0])):\n",
    "    y_pred = prediction(X_test_0[i], X_0,X_1, P, cov, 0.5)\n",
    "    C[y_pred, 0] += 1\n",
    "for i in range((X_test_1.shape[0])):\n",
    "    y_pred = prediction(X_test_1[i], X_0, X_1, P, cov, 0.5)\n",
    "    C[y_pred, 1] += 1"
   ]
  },
  {
   "cell_type": "code",
   "execution_count": 18,
   "metadata": {},
   "outputs": [
    {
     "data": {
      "text/plain": [
       "array([[147.,  41.],\n",
       "       [ 26., 102.]])"
      ]
     },
     "execution_count": 18,
     "metadata": {},
     "output_type": "execute_result"
    }
   ],
   "source": [
    "C"
   ]
  },
  {
   "cell_type": "code",
   "execution_count": 33,
   "metadata": {},
   "outputs": [
    {
     "name": "stderr",
     "output_type": "stream",
     "text": [
      "\n",
      "  0%|          | 0/400 [00:00<?, ?it/s]\u001b[AE:\\Anaconda\\lib\\site-packages\\ipykernel_launcher.py:3: RuntimeWarning: invalid value encountered in true_divide\n",
      "  This is separate from the ipykernel package so we can avoid doing imports until\n",
      "\n",
      "  0%|          | 1/400 [00:04<31:19,  4.71s/it]\u001b[A\n",
      "  0%|          | 2/400 [00:09<31:21,  4.73s/it]\u001b[A\n",
      "  1%|          | 3/400 [00:14<31:12,  4.72s/it]\u001b[A\n",
      "  1%|          | 4/400 [00:19<31:39,  4.80s/it]\u001b[A\n",
      "  1%|▏         | 5/400 [00:24<31:52,  4.84s/it]\u001b[A\n",
      "  2%|▏         | 6/400 [00:29<32:14,  4.91s/it]\u001b[A\n",
      "  2%|▏         | 7/400 [00:33<31:35,  4.82s/it]\u001b[A\n",
      "  2%|▏         | 8/400 [00:38<31:26,  4.81s/it]\u001b[A\n",
      "  2%|▏         | 9/400 [00:43<31:44,  4.87s/it]\u001b[A\n",
      "  2%|▎         | 10/400 [00:48<31:02,  4.78s/it]\u001b[A\n",
      "  3%|▎         | 11/400 [00:52<31:01,  4.78s/it]\u001b[A\n",
      "  3%|▎         | 12/400 [00:58<31:30,  4.87s/it]\u001b[A\n",
      "  3%|▎         | 13/400 [01:02<31:16,  4.85s/it]\u001b[A\n",
      "  4%|▎         | 14/400 [01:07<30:39,  4.76s/it]\u001b[A\n",
      "  4%|▍         | 15/400 [01:12<30:53,  4.81s/it]\u001b[A\n",
      "  4%|▍         | 16/400 [01:16<30:32,  4.77s/it]\u001b[A\n",
      "  4%|▍         | 17/400 [01:21<30:20,  4.75s/it]\u001b[A\n",
      "  4%|▍         | 18/400 [01:26<30:28,  4.79s/it]\u001b[A\n",
      "  5%|▍         | 19/400 [01:31<30:31,  4.81s/it]\u001b[A\n",
      "  5%|▌         | 20/400 [01:35<29:59,  4.74s/it]\u001b[A\n",
      "  5%|▌         | 21/400 [01:40<29:32,  4.68s/it]\u001b[A\n",
      "  6%|▌         | 22/400 [01:45<29:16,  4.65s/it]\u001b[A\n",
      "  6%|▌         | 23/400 [01:49<29:24,  4.68s/it]\u001b[A\n",
      "  6%|▌         | 24/400 [01:54<29:24,  4.69s/it]\u001b[A\n",
      "  6%|▋         | 25/400 [01:59<28:59,  4.64s/it]\u001b[A\n",
      "  6%|▋         | 26/400 [02:03<29:00,  4.65s/it]\u001b[A\n",
      "  7%|▋         | 27/400 [02:08<28:42,  4.62s/it]\u001b[A\n",
      "  7%|▋         | 28/400 [02:12<28:34,  4.61s/it]\u001b[A\n",
      "  7%|▋         | 29/400 [02:17<28:48,  4.66s/it]\u001b[A\n",
      "  8%|▊         | 30/400 [02:22<28:56,  4.69s/it]\u001b[A\n",
      "  8%|▊         | 31/400 [02:27<28:43,  4.67s/it]\u001b[A\n",
      "  8%|▊         | 32/400 [02:31<28:33,  4.66s/it]\u001b[A\n",
      "  8%|▊         | 33/400 [02:36<28:47,  4.71s/it]\u001b[A\n",
      "  8%|▊         | 34/400 [02:41<28:26,  4.66s/it]\u001b[A\n",
      "  9%|▉         | 35/400 [02:45<28:06,  4.62s/it]\u001b[A\n",
      "  9%|▉         | 36/400 [02:50<28:03,  4.63s/it]\u001b[A\n",
      "  9%|▉         | 37/400 [02:55<28:36,  4.73s/it]\u001b[A\n",
      " 10%|▉         | 38/400 [02:59<28:16,  4.69s/it]\u001b[A\n",
      " 10%|▉         | 39/400 [03:04<28:13,  4.69s/it]\u001b[A\n",
      " 10%|█         | 40/400 [03:09<28:00,  4.67s/it]\u001b[A\n",
      " 10%|█         | 41/400 [03:13<27:42,  4.63s/it]\u001b[A\n",
      " 10%|█         | 42/400 [03:18<28:22,  4.75s/it]\u001b[A\n",
      " 11%|█         | 43/400 [03:23<28:13,  4.74s/it]\u001b[A\n",
      " 11%|█         | 44/400 [03:28<28:23,  4.78s/it]\u001b[A\n",
      " 11%|█▏        | 45/400 [03:32<28:06,  4.75s/it]\u001b[A\n",
      " 12%|█▏        | 46/400 [03:38<28:40,  4.86s/it]\u001b[A\n",
      " 12%|█▏        | 47/400 [03:43<28:43,  4.88s/it]\u001b[A\n",
      " 12%|█▏        | 48/400 [03:47<28:47,  4.91s/it]\u001b[A\n",
      " 12%|█▏        | 49/400 [03:52<28:05,  4.80s/it]\u001b[A\n",
      " 12%|█▎        | 50/400 [03:57<27:46,  4.76s/it]\u001b[A\n",
      " 13%|█▎        | 51/400 [04:02<28:13,  4.85s/it]\u001b[A\n",
      " 13%|█▎        | 52/400 [04:06<27:50,  4.80s/it]\u001b[A\n",
      " 13%|█▎        | 53/400 [04:11<27:49,  4.81s/it]\u001b[A\n",
      " 14%|█▎        | 54/400 [04:16<28:06,  4.87s/it]\u001b[A\n",
      " 14%|█▍        | 55/400 [04:21<27:32,  4.79s/it]\u001b[A\n",
      " 14%|█▍        | 56/400 [04:26<27:20,  4.77s/it]\u001b[A\n",
      " 14%|█▍        | 57/400 [04:31<27:42,  4.85s/it]\u001b[A\n",
      " 14%|█▍        | 58/400 [04:36<28:41,  5.03s/it]\u001b[A\n",
      " 15%|█▍        | 59/400 [04:41<28:33,  5.02s/it]\u001b[A\n",
      " 15%|█▌        | 60/400 [04:47<29:25,  5.19s/it]\u001b[A\n",
      " 15%|█▌        | 61/400 [04:52<28:58,  5.13s/it]\u001b[A\n",
      " 16%|█▌        | 62/400 [04:56<27:56,  4.96s/it]\u001b[A\n",
      " 16%|█▌        | 63/400 [05:01<28:07,  5.01s/it]\u001b[A\n",
      " 16%|█▌        | 64/400 [05:06<27:27,  4.90s/it]\u001b[A\n",
      " 16%|█▋        | 65/400 [05:11<27:11,  4.87s/it]\u001b[A\n",
      " 16%|█▋        | 66/400 [05:16<27:06,  4.87s/it]\u001b[A\n",
      " 17%|█▋        | 67/400 [05:21<26:58,  4.86s/it]\u001b[A\n",
      " 17%|█▋        | 68/400 [05:25<26:22,  4.77s/it]\u001b[A\n",
      " 17%|█▋        | 69/400 [05:30<26:03,  4.72s/it]\u001b[A\n",
      " 18%|█▊        | 70/400 [05:34<25:54,  4.71s/it]\u001b[A\n",
      " 18%|█▊        | 71/400 [05:39<25:43,  4.69s/it]\u001b[A\n",
      " 18%|█▊        | 72/400 [05:44<25:30,  4.67s/it]\u001b[A\n",
      " 18%|█▊        | 73/400 [05:48<25:32,  4.69s/it]\u001b[A\n",
      " 18%|█▊        | 74/400 [05:53<25:10,  4.63s/it]\u001b[A\n",
      " 19%|█▉        | 75/400 [05:58<25:09,  4.64s/it]\u001b[A\n",
      " 19%|█▉        | 76/400 [06:03<25:39,  4.75s/it]\u001b[A\n",
      " 19%|█▉        | 77/400 [06:08<26:09,  4.86s/it]\u001b[A\n",
      " 20%|█▉        | 78/400 [06:12<25:58,  4.84s/it]\u001b[A\n",
      " 20%|█▉        | 79/400 [06:18<26:34,  4.97s/it]\u001b[A\n",
      " 20%|██        | 80/400 [06:22<26:10,  4.91s/it]\u001b[A\n",
      " 20%|██        | 81/400 [06:27<25:44,  4.84s/it]\u001b[A\n",
      " 20%|██        | 82/400 [06:32<25:12,  4.76s/it]\u001b[A\n",
      " 21%|██        | 83/400 [06:37<25:28,  4.82s/it]\u001b[A\n",
      " 21%|██        | 84/400 [06:41<25:20,  4.81s/it]\u001b[A\n",
      " 21%|██▏       | 85/400 [06:46<25:10,  4.79s/it]\u001b[A\n",
      " 22%|██▏       | 86/400 [06:51<25:18,  4.84s/it]\u001b[A\n",
      " 22%|██▏       | 87/400 [06:56<24:56,  4.78s/it]\u001b[A\n",
      " 22%|██▏       | 88/400 [07:01<24:47,  4.77s/it]\u001b[A\n",
      " 22%|██▏       | 89/400 [07:05<24:49,  4.79s/it]\u001b[A\n",
      " 22%|██▎       | 90/400 [07:11<25:32,  4.95s/it]\u001b[A\n",
      " 23%|██▎       | 91/400 [07:15<24:57,  4.84s/it]\u001b[A\n",
      " 23%|██▎       | 92/400 [07:20<24:38,  4.80s/it]\u001b[A\n",
      " 23%|██▎       | 93/400 [07:25<24:32,  4.80s/it]\u001b[A\n",
      " 24%|██▎       | 94/400 [07:30<24:23,  4.78s/it]\u001b[A\n",
      " 24%|██▍       | 95/400 [07:35<24:41,  4.86s/it]\u001b[A\n",
      " 24%|██▍       | 96/400 [07:40<25:09,  4.96s/it]\u001b[A\n",
      " 24%|██▍       | 97/400 [07:45<25:08,  4.98s/it]\u001b[A\n",
      " 24%|██▍       | 98/400 [07:49<24:27,  4.86s/it]\u001b[A\n",
      " 25%|██▍       | 99/400 [07:54<23:59,  4.78s/it]\u001b[A\n",
      " 25%|██▌       | 100/400 [07:59<23:41,  4.74s/it]\u001b[A\n",
      " 25%|██▌       | 101/400 [08:03<23:46,  4.77s/it]\u001b[A\n",
      " 26%|██▌       | 102/400 [08:08<23:46,  4.79s/it]\u001b[A\n",
      " 26%|██▌       | 103/400 [08:13<23:37,  4.77s/it]\u001b[A\n",
      " 26%|██▌       | 104/400 [08:18<23:26,  4.75s/it]\u001b[A\n",
      " 26%|██▋       | 105/400 [08:22<23:20,  4.75s/it]\u001b[A\n",
      " 26%|██▋       | 106/400 [08:28<23:54,  4.88s/it]\u001b[A\n",
      " 27%|██▋       | 107/400 [08:32<23:26,  4.80s/it]\u001b[A\n",
      " 27%|██▋       | 108/400 [08:37<23:18,  4.79s/it]\u001b[A\n",
      " 27%|██▋       | 109/400 [08:42<23:08,  4.77s/it]\u001b[A\n",
      " 28%|██▊       | 110/400 [08:46<22:51,  4.73s/it]\u001b[A\n",
      " 28%|██▊       | 111/400 [08:51<22:40,  4.71s/it]\u001b[A\n",
      " 28%|██▊       | 112/400 [08:56<22:43,  4.73s/it]\u001b[A\n",
      " 28%|██▊       | 113/400 [09:01<22:46,  4.76s/it]\u001b[A\n",
      " 28%|██▊       | 114/400 [09:05<22:34,  4.74s/it]\u001b[A\n",
      " 29%|██▉       | 115/400 [09:11<23:12,  4.89s/it]\u001b[A\n",
      " 29%|██▉       | 116/400 [09:16<23:09,  4.89s/it]\u001b[A\n",
      " 29%|██▉       | 117/400 [09:21<23:24,  4.96s/it]\u001b[A\n",
      " 30%|██▉       | 118/400 [09:26<23:21,  4.97s/it]\u001b[A\n",
      " 30%|██▉       | 119/400 [09:30<23:03,  4.92s/it]\u001b[A\n",
      " 30%|███       | 120/400 [09:35<22:37,  4.85s/it]\u001b[A\n",
      " 30%|███       | 121/400 [09:40<22:55,  4.93s/it]\u001b[A\n",
      " 30%|███       | 122/400 [09:46<23:20,  5.04s/it]\u001b[A\n",
      " 31%|███       | 123/400 [09:50<23:07,  5.01s/it]\u001b[A\n",
      " 31%|███       | 124/400 [09:55<22:38,  4.92s/it]\u001b[A\n",
      " 31%|███▏      | 125/400 [10:00<22:15,  4.86s/it]\u001b[A\n",
      " 32%|███▏      | 126/400 [10:05<21:59,  4.82s/it]\u001b[A\n",
      " 32%|███▏      | 127/400 [10:09<21:36,  4.75s/it]\u001b[A\n",
      " 32%|███▏      | 128/400 [10:14<21:31,  4.75s/it]\u001b[A\n",
      " 32%|███▏      | 129/400 [10:19<21:26,  4.75s/it]\u001b[A\n",
      " 32%|███▎      | 130/400 [10:24<21:39,  4.81s/it]\u001b[A\n",
      " 33%|███▎      | 131/400 [10:29<21:47,  4.86s/it]\u001b[A\n",
      " 33%|███▎      | 132/400 [10:33<21:25,  4.80s/it]\u001b[A\n",
      " 33%|███▎      | 133/400 [10:38<21:16,  4.78s/it]\u001b[A\n",
      " 34%|███▎      | 134/400 [10:43<21:27,  4.84s/it]\u001b[A\n",
      " 34%|███▍      | 135/400 [10:48<21:13,  4.80s/it]\u001b[A\n",
      " 34%|███▍      | 136/400 [10:53<21:13,  4.82s/it]\u001b[A\n",
      " 34%|███▍      | 137/400 [10:58<21:26,  4.89s/it]\u001b[A\n",
      " 34%|███▍      | 138/400 [11:02<21:13,  4.86s/it]\u001b[A\n",
      " 35%|███▍      | 139/400 [11:07<21:14,  4.88s/it]\u001b[A\n",
      " 35%|███▌      | 140/400 [11:12<20:51,  4.81s/it]\u001b[A\n",
      " 35%|███▌      | 141/400 [11:17<21:19,  4.94s/it]\u001b[A\n",
      " 36%|███▌      | 142/400 [11:22<21:02,  4.89s/it]\u001b[A\n",
      " 36%|███▌      | 143/400 [11:27<20:51,  4.87s/it]\u001b[A\n",
      " 36%|███▌      | 144/400 [11:32<20:44,  4.86s/it]\u001b[A\n",
      " 36%|███▋      | 145/400 [11:36<20:32,  4.84s/it]\u001b[A\n",
      " 36%|███▋      | 146/400 [11:41<20:35,  4.86s/it]\u001b[A\n",
      " 37%|███▋      | 147/400 [11:46<20:16,  4.81s/it]\u001b[A\n",
      " 37%|███▋      | 148/400 [11:51<20:14,  4.82s/it]\u001b[A\n",
      " 37%|███▋      | 149/400 [11:56<20:13,  4.84s/it]\u001b[A\n",
      " 38%|███▊      | 150/400 [12:01<19:59,  4.80s/it]\u001b[A\n",
      " 38%|███▊      | 151/400 [12:05<20:01,  4.83s/it]\u001b[A\n",
      " 38%|███▊      | 152/400 [12:11<20:25,  4.94s/it]\u001b[A\n",
      " 38%|███▊      | 153/400 [12:15<19:57,  4.85s/it]\u001b[A\n",
      " 38%|███▊      | 154/400 [12:20<19:29,  4.75s/it]\u001b[A\n",
      " 39%|███▉      | 155/400 [12:25<20:12,  4.95s/it]\u001b[A\n",
      " 39%|███▉      | 156/400 [12:32<22:27,  5.52s/it]\u001b[A\n",
      " 39%|███▉      | 157/400 [12:37<21:26,  5.29s/it]\u001b[A\n",
      " 40%|███▉      | 158/400 [12:42<21:11,  5.25s/it]\u001b[A\n",
      " 40%|███▉      | 159/400 [12:47<20:29,  5.10s/it]\u001b[A\n",
      " 40%|████      | 160/400 [12:51<19:48,  4.95s/it]\u001b[A\n",
      " 40%|████      | 161/400 [12:56<19:26,  4.88s/it]\u001b[A\n",
      " 40%|████      | 162/400 [13:01<19:26,  4.90s/it]\u001b[A\n",
      " 41%|████      | 163/400 [13:06<19:09,  4.85s/it]\u001b[A\n",
      " 41%|████      | 164/400 [13:11<19:02,  4.84s/it]\u001b[A\n",
      " 41%|████▏     | 165/400 [13:15<18:57,  4.84s/it]\u001b[A\n",
      " 42%|████▏     | 166/400 [13:20<18:52,  4.84s/it]\u001b[A\n",
      " 42%|████▏     | 167/400 [13:25<18:52,  4.86s/it]\u001b[A\n",
      " 42%|████▏     | 168/400 [13:30<18:46,  4.85s/it]\u001b[A\n",
      " 42%|████▏     | 169/400 [13:35<18:33,  4.82s/it]\u001b[A\n",
      " 42%|████▎     | 170/400 [13:40<18:32,  4.83s/it]\u001b[A\n",
      " 43%|████▎     | 171/400 [13:44<18:32,  4.86s/it]\u001b[A\n",
      " 43%|████▎     | 172/400 [13:49<18:22,  4.83s/it]\u001b[A\n",
      " 43%|████▎     | 173/400 [13:54<18:30,  4.89s/it]\u001b[A\n",
      " 44%|████▎     | 174/400 [13:59<18:24,  4.89s/it]\u001b[A\n",
      " 44%|████▍     | 175/400 [14:04<18:21,  4.90s/it]\u001b[A\n",
      " 44%|████▍     | 176/400 [14:09<17:53,  4.79s/it]\u001b[A\n",
      " 44%|████▍     | 177/400 [14:14<18:03,  4.86s/it]\u001b[A\n",
      " 44%|████▍     | 178/400 [14:18<17:49,  4.82s/it]\u001b[A\n",
      " 45%|████▍     | 179/400 [14:23<17:27,  4.74s/it]\u001b[A\n",
      " 45%|████▌     | 180/400 [14:28<17:39,  4.82s/it]\u001b[A\n",
      " 45%|████▌     | 181/400 [14:33<17:26,  4.78s/it]\u001b[A\n",
      " 46%|████▌     | 182/400 [14:38<17:28,  4.81s/it]\u001b[A\n",
      " 46%|████▌     | 183/400 [14:43<17:41,  4.89s/it]\u001b[A\n",
      " 46%|████▌     | 184/400 [14:48<18:04,  5.02s/it]\u001b[A\n",
      " 46%|████▋     | 185/400 [14:56<20:48,  5.81s/it]\u001b[A\n",
      " 46%|████▋     | 186/400 [15:00<19:29,  5.46s/it]\u001b[A\n",
      " 47%|████▋     | 187/400 [15:05<18:20,  5.17s/it]\u001b[A\n",
      " 47%|████▋     | 188/400 [15:09<17:39,  5.00s/it]\u001b[A\n",
      " 47%|████▋     | 189/400 [15:14<17:14,  4.90s/it]\u001b[A\n",
      " 48%|████▊     | 190/400 [15:18<16:36,  4.75s/it]\u001b[A\n",
      " 48%|████▊     | 191/400 [15:23<16:30,  4.74s/it]\u001b[A\n",
      " 48%|████▊     | 192/400 [15:28<16:33,  4.78s/it]\u001b[A\n",
      " 48%|████▊     | 193/400 [15:32<16:11,  4.69s/it]\u001b[A\n",
      " 48%|████▊     | 194/400 [15:37<15:56,  4.64s/it]\u001b[A\n",
      " 49%|████▉     | 195/400 [15:41<15:41,  4.59s/it]\u001b[A\n",
      " 49%|████▉     | 196/400 [15:46<15:24,  4.53s/it]\u001b[A\n",
      " 49%|████▉     | 197/400 [15:50<15:25,  4.56s/it]\u001b[A\n",
      " 50%|████▉     | 198/400 [15:55<15:41,  4.66s/it]\u001b[A\n",
      " 50%|████▉     | 199/400 [16:00<15:38,  4.67s/it]\u001b[A\n",
      " 50%|█████     | 200/400 [16:05<15:24,  4.62s/it]\u001b[A\n",
      " 50%|█████     | 201/400 [16:09<15:14,  4.60s/it]\u001b[A\n",
      " 50%|█████     | 202/400 [16:14<15:10,  4.60s/it]\u001b[A\n",
      " 51%|█████     | 203/400 [16:18<15:13,  4.64s/it]\u001b[A\n",
      " 51%|█████     | 204/400 [16:23<15:02,  4.60s/it]\u001b[A\n",
      " 51%|█████▏    | 205/400 [16:28<15:01,  4.62s/it]\u001b[A\n",
      " 52%|█████▏    | 206/400 [16:32<14:55,  4.62s/it]\u001b[A\n",
      " 52%|█████▏    | 207/400 [16:37<14:51,  4.62s/it]\u001b[A\n",
      " 52%|█████▏    | 208/400 [16:41<14:41,  4.59s/it]\u001b[A\n",
      " 52%|█████▏    | 209/400 [16:46<14:40,  4.61s/it]\u001b[A\n",
      " 52%|█████▎    | 210/400 [16:51<14:44,  4.65s/it]\u001b[A\n",
      " 53%|█████▎    | 211/400 [16:55<14:33,  4.62s/it]\u001b[A\n",
      " 53%|█████▎    | 212/400 [17:00<14:49,  4.73s/it]\u001b[A\n",
      " 53%|█████▎    | 213/400 [17:05<14:41,  4.71s/it]\u001b[A\n",
      " 54%|█████▎    | 214/400 [17:10<14:31,  4.68s/it]\u001b[A\n",
      " 54%|█████▍    | 215/400 [17:14<14:20,  4.65s/it]\u001b[A\n",
      " 54%|█████▍    | 216/400 [17:19<14:09,  4.61s/it]\u001b[A\n",
      " 54%|█████▍    | 217/400 [17:23<14:00,  4.59s/it]\u001b[A\n",
      " 55%|█████▍    | 218/400 [17:28<13:58,  4.61s/it]\u001b[A\n",
      " 55%|█████▍    | 219/400 [17:33<13:58,  4.63s/it]\u001b[A\n",
      " 55%|█████▌    | 220/400 [17:37<13:52,  4.63s/it]\u001b[A\n",
      " 55%|█████▌    | 221/400 [17:42<14:10,  4.75s/it]\u001b[A\n",
      " 56%|█████▌    | 222/400 [17:47<13:52,  4.68s/it]\u001b[A\n",
      " 56%|█████▌    | 223/400 [17:51<13:44,  4.66s/it]\u001b[A\n",
      " 56%|█████▌    | 224/400 [17:56<13:36,  4.64s/it]\u001b[A\n",
      " 56%|█████▋    | 225/400 [18:01<13:39,  4.68s/it]\u001b[A\n",
      " 56%|█████▋    | 226/400 [18:05<13:29,  4.65s/it]\u001b[A\n",
      " 57%|█████▋    | 227/400 [18:10<13:13,  4.59s/it]\u001b[A\n",
      " 57%|█████▋    | 228/400 [18:15<13:21,  4.66s/it]\u001b[A\n",
      " 57%|█████▋    | 229/400 [18:19<13:13,  4.64s/it]\u001b[A\n",
      " 57%|█████▊    | 230/400 [18:24<13:15,  4.68s/it]\u001b[A\n",
      " 58%|█████▊    | 231/400 [18:28<13:02,  4.63s/it]\u001b[A\n",
      " 58%|█████▊    | 232/400 [18:33<12:55,  4.61s/it]\u001b[A\n",
      " 58%|█████▊    | 233/400 [18:38<12:56,  4.65s/it]\u001b[A\n",
      " 58%|█████▊    | 234/400 [18:42<12:46,  4.62s/it]\u001b[A\n",
      " 59%|█████▉    | 235/400 [18:47<12:42,  4.62s/it]\u001b[A\n",
      " 59%|█████▉    | 236/400 [18:52<12:38,  4.63s/it]\u001b[A\n",
      " 59%|█████▉    | 237/400 [18:56<12:26,  4.58s/it]\u001b[A\n",
      " 60%|█████▉    | 238/400 [19:01<12:23,  4.59s/it]\u001b[A\n",
      " 60%|█████▉    | 239/400 [19:05<12:28,  4.65s/it]\u001b[A\n",
      " 60%|██████    | 240/400 [19:10<12:16,  4.60s/it]\u001b[A\n",
      " 60%|██████    | 241/400 [19:14<12:10,  4.59s/it]\u001b[A\n",
      " 60%|██████    | 242/400 [19:19<12:00,  4.56s/it]\u001b[A\n",
      " 61%|██████    | 243/400 [19:24<11:55,  4.56s/it]\u001b[A\n",
      " 61%|██████    | 244/400 [19:28<11:47,  4.54s/it]\u001b[A\n",
      " 61%|██████▏   | 245/400 [19:32<11:40,  4.52s/it]\u001b[A\n",
      " 62%|██████▏   | 246/400 [19:38<11:59,  4.67s/it]\u001b[A\n",
      " 62%|██████▏   | 247/400 [19:42<11:44,  4.61s/it]\u001b[A\n",
      " 62%|██████▏   | 248/400 [19:47<11:58,  4.72s/it]\u001b[A\n",
      " 62%|██████▏   | 249/400 [19:52<11:53,  4.73s/it]\u001b[A\n",
      " 62%|██████▎   | 250/400 [19:56<11:43,  4.69s/it]\u001b[A\n",
      " 63%|██████▎   | 251/400 [20:01<11:28,  4.62s/it]\u001b[A\n",
      " 63%|██████▎   | 252/400 [20:05<11:16,  4.57s/it]\u001b[A\n",
      " 63%|██████▎   | 253/400 [20:10<11:06,  4.54s/it]\u001b[A\n",
      " 64%|██████▎   | 254/400 [20:14<11:03,  4.54s/it]\u001b[A\n",
      " 64%|██████▍   | 255/400 [20:19<10:59,  4.55s/it]\u001b[A\n",
      " 64%|██████▍   | 256/400 [20:23<10:58,  4.57s/it]\u001b[A\n",
      " 64%|██████▍   | 257/400 [20:28<11:08,  4.68s/it]\u001b[A\n",
      " 64%|██████▍   | 258/400 [20:33<10:56,  4.62s/it]\u001b[A\n",
      " 65%|██████▍   | 259/400 [20:37<10:45,  4.58s/it]\u001b[A\n",
      " 65%|██████▌   | 260/400 [20:42<10:42,  4.59s/it]\u001b[A\n",
      " 65%|██████▌   | 261/400 [20:47<10:43,  4.63s/it]\u001b[A\n",
      " 66%|██████▌   | 262/400 [20:51<10:38,  4.62s/it]\u001b[A\n",
      " 66%|██████▌   | 263/400 [20:56<10:33,  4.62s/it]\u001b[A\n",
      " 66%|██████▌   | 264/400 [21:01<10:31,  4.64s/it]\u001b[A\n",
      " 66%|██████▋   | 265/400 [21:06<10:50,  4.82s/it]\u001b[A\n",
      " 66%|██████▋   | 266/400 [21:11<10:58,  4.92s/it]\u001b[A\n",
      " 67%|██████▋   | 267/400 [21:16<10:43,  4.84s/it]\u001b[A\n",
      " 67%|██████▋   | 268/400 [21:21<10:54,  4.96s/it]\u001b[A\n",
      " 67%|██████▋   | 269/400 [21:26<10:58,  5.03s/it]\u001b[A\n",
      " 68%|██████▊   | 270/400 [21:31<10:39,  4.92s/it]\u001b[A\n",
      " 68%|██████▊   | 271/400 [21:35<10:29,  4.88s/it]\u001b[A\n",
      " 68%|██████▊   | 272/400 [21:40<10:14,  4.80s/it]\u001b[A\n",
      " 68%|██████▊   | 273/400 [21:45<10:07,  4.78s/it]\u001b[A\n",
      " 68%|██████▊   | 274/400 [21:50<10:04,  4.79s/it]\u001b[A\n",
      " 69%|██████▉   | 275/400 [21:54<09:55,  4.76s/it]\u001b[A\n",
      " 69%|██████▉   | 276/400 [21:59<10:03,  4.87s/it]\u001b[A\n",
      " 69%|██████▉   | 277/400 [22:07<11:20,  5.53s/it]\u001b[A\n",
      " 70%|██████▉   | 278/400 [22:12<11:05,  5.46s/it]\u001b[A\n",
      " 70%|██████▉   | 279/400 [22:17<10:57,  5.44s/it]\u001b[A\n",
      " 70%|███████   | 280/400 [22:22<10:26,  5.22s/it]\u001b[A\n",
      " 70%|███████   | 281/400 [22:27<10:08,  5.11s/it]\u001b[A\n",
      " 70%|███████   | 282/400 [22:32<09:52,  5.02s/it]\u001b[A\n",
      " 71%|███████   | 283/400 [22:37<09:47,  5.02s/it]\u001b[A\n",
      " 71%|███████   | 284/400 [22:42<09:42,  5.02s/it]\u001b[A\n",
      " 71%|███████▏  | 285/400 [22:49<10:58,  5.72s/it]\u001b[A\n",
      " 72%|███████▏  | 286/400 [23:07<18:02,  9.50s/it]\u001b[A\n",
      " 72%|███████▏  | 287/400 [23:25<22:16, 11.83s/it]\u001b[A\n",
      " 72%|███████▏  | 288/400 [23:41<24:50, 13.31s/it]\u001b[A\n",
      " 72%|███████▏  | 289/400 [23:57<25:59, 14.05s/it]\u001b[A\n",
      " 72%|███████▎  | 290/400 [24:13<26:36, 14.52s/it]\u001b[A\n",
      " 73%|███████▎  | 291/400 [24:31<28:24, 15.63s/it]\u001b[A\n",
      " 73%|███████▎  | 292/400 [24:48<28:52, 16.04s/it]\u001b[A\n",
      " 73%|███████▎  | 293/400 [25:06<29:35, 16.60s/it]\u001b[A\n",
      " 74%|███████▎  | 294/400 [25:23<29:49, 16.88s/it]\u001b[A\n",
      " 74%|███████▍  | 295/400 [25:40<29:36, 16.92s/it]\u001b[A\n",
      " 74%|███████▍  | 296/400 [26:00<30:28, 17.58s/it]\u001b[A\n",
      " 74%|███████▍  | 297/400 [26:19<30:55, 18.01s/it]\u001b[A\n",
      " 74%|███████▍  | 298/400 [26:43<34:09, 20.09s/it]\u001b[A\n",
      " 75%|███████▍  | 299/400 [27:04<33:56, 20.16s/it]\u001b[A\n",
      " 75%|███████▌  | 300/400 [27:34<38:23, 23.04s/it]\u001b[A\n",
      " 75%|███████▌  | 301/400 [28:04<41:34, 25.20s/it]\u001b[A\n",
      " 76%|███████▌  | 302/400 [28:24<38:38, 23.66s/it]\u001b[A\n",
      " 76%|███████▌  | 303/400 [28:45<37:11, 23.00s/it]\u001b[A\n",
      " 76%|███████▌  | 304/400 [29:02<33:56, 21.21s/it]\u001b[A\n",
      " 76%|███████▋  | 305/400 [29:22<32:58, 20.83s/it]\u001b[A\n",
      " 76%|███████▋  | 306/400 [29:40<30:59, 19.78s/it]\u001b[A\n"
     ]
    },
    {
     "name": "stderr",
     "output_type": "stream",
     "text": [
      " 77%|███████▋  | 307/400 [29:56<29:18, 18.90s/it]\u001b[A\n",
      " 77%|███████▋  | 308/400 [30:20<30:59, 20.21s/it]\u001b[A\n",
      " 77%|███████▋  | 309/400 [30:39<30:06, 19.86s/it]\u001b[A\n",
      " 78%|███████▊  | 310/400 [30:57<29:10, 19.45s/it]\u001b[A\n",
      " 78%|███████▊  | 311/400 [31:17<28:47, 19.41s/it]\u001b[A\n",
      " 78%|███████▊  | 312/400 [31:36<28:22, 19.34s/it]\u001b[A\n",
      " 78%|███████▊  | 313/400 [31:56<28:16, 19.50s/it]\u001b[A\n",
      " 78%|███████▊  | 314/400 [32:16<28:15, 19.72s/it]\u001b[A\n",
      " 79%|███████▉  | 315/400 [32:34<27:16, 19.26s/it]\u001b[A\n",
      " 79%|███████▉  | 316/400 [32:51<25:56, 18.53s/it]\u001b[A\n",
      " 79%|███████▉  | 317/400 [33:11<26:06, 18.87s/it]\u001b[A\n",
      " 80%|███████▉  | 318/400 [33:28<25:23, 18.58s/it]\u001b[A\n",
      " 80%|███████▉  | 319/400 [33:45<24:14, 17.96s/it]\u001b[A\n",
      " 80%|████████  | 320/400 [34:04<24:33, 18.41s/it]\u001b[A\n",
      " 80%|████████  | 321/400 [34:29<26:46, 20.34s/it]\u001b[A\n",
      " 80%|████████  | 322/400 [34:54<28:14, 21.73s/it]\u001b[A\n",
      " 81%|████████  | 323/400 [35:13<26:41, 20.80s/it]\u001b[A\n",
      " 81%|████████  | 324/400 [35:32<25:45, 20.33s/it]\u001b[A\n",
      " 81%|████████▏ | 325/400 [35:51<25:00, 20.00s/it]\u001b[A\n",
      " 82%|████████▏ | 326/400 [36:11<24:32, 19.89s/it]\u001b[A\n",
      " 82%|████████▏ | 327/400 [36:31<24:04, 19.79s/it]\u001b[A\n",
      " 82%|████████▏ | 328/400 [36:49<23:25, 19.52s/it]\u001b[A\n",
      " 82%|████████▏ | 329/400 [37:13<24:32, 20.74s/it]\u001b[A\n",
      " 82%|████████▎ | 330/400 [37:42<27:07, 23.26s/it]\u001b[A\n",
      " 83%|████████▎ | 331/400 [38:00<25:03, 21.79s/it]\u001b[A\n",
      " 83%|████████▎ | 332/400 [38:17<22:57, 20.25s/it]\u001b[A\n",
      " 83%|████████▎ | 333/400 [38:37<22:24, 20.06s/it]\u001b[A\n",
      " 84%|████████▎ | 334/400 [39:05<24:53, 22.63s/it]\u001b[A\n",
      " 84%|████████▍ | 335/400 [39:30<25:10, 23.24s/it]\u001b[A\n",
      " 84%|████████▍ | 336/400 [39:50<23:36, 22.13s/it]\u001b[A\n",
      " 84%|████████▍ | 337/400 [40:12<23:10, 22.08s/it]\u001b[A\n",
      " 84%|████████▍ | 338/400 [40:30<21:44, 21.04s/it]\u001b[A\n",
      " 85%|████████▍ | 339/400 [40:48<20:31, 20.19s/it]\u001b[A\n",
      " 85%|████████▌ | 340/400 [41:06<19:22, 19.38s/it]\u001b[A\n",
      " 85%|████████▌ | 341/400 [41:24<18:34, 18.88s/it]\u001b[A\n",
      " 86%|████████▌ | 342/400 [41:41<17:50, 18.45s/it]\u001b[A\n",
      " 86%|████████▌ | 343/400 [41:59<17:28, 18.40s/it]\u001b[A\n",
      " 86%|████████▌ | 344/400 [42:17<16:52, 18.09s/it]\u001b[A\n",
      " 86%|████████▋ | 345/400 [42:35<16:39, 18.18s/it]\u001b[A\n",
      " 86%|████████▋ | 346/400 [42:53<16:15, 18.07s/it]\u001b[A\n",
      " 87%|████████▋ | 347/400 [43:11<15:51, 17.95s/it]\u001b[A\n",
      " 87%|████████▋ | 348/400 [43:32<16:23, 18.91s/it]\u001b[A\n",
      " 87%|████████▋ | 349/400 [43:52<16:18, 19.19s/it]\u001b[A\n",
      " 88%|████████▊ | 350/400 [44:10<15:48, 18.97s/it]\u001b[A\n",
      " 88%|████████▊ | 351/400 [44:29<15:22, 18.82s/it]\u001b[A\n",
      " 88%|████████▊ | 352/400 [44:47<14:53, 18.62s/it]\u001b[A\n",
      " 88%|████████▊ | 353/400 [45:04<14:20, 18.32s/it]\u001b[A\n",
      " 88%|████████▊ | 354/400 [45:23<14:04, 18.36s/it]\u001b[A\n",
      " 89%|████████▉ | 355/400 [45:41<13:40, 18.24s/it]\u001b[A\n",
      " 89%|████████▉ | 356/400 [45:58<13:16, 18.10s/it]\u001b[A\n",
      " 89%|████████▉ | 357/400 [46:16<12:46, 17.82s/it]\u001b[A\n",
      " 90%|████████▉ | 358/400 [46:34<12:29, 17.85s/it]\u001b[A\n",
      " 90%|████████▉ | 359/400 [46:52<12:16, 17.95s/it]\u001b[A\n",
      " 90%|█████████ | 360/400 [47:10<11:56, 17.90s/it]\u001b[A\n",
      " 90%|█████████ | 361/400 [47:29<11:54, 18.33s/it]\u001b[A\n",
      " 90%|█████████ | 362/400 [47:48<11:41, 18.45s/it]\u001b[A\n",
      " 91%|█████████ | 363/400 [48:07<11:34, 18.78s/it]\u001b[A\n",
      " 91%|█████████ | 364/400 [48:25<11:05, 18.48s/it]\u001b[A\n",
      " 91%|█████████▏| 365/400 [48:43<10:40, 18.29s/it]\u001b[A\n",
      " 92%|█████████▏| 366/400 [49:01<10:16, 18.13s/it]\u001b[A\n",
      " 92%|█████████▏| 367/400 [49:18<09:52, 17.95s/it]\u001b[A\n",
      " 92%|█████████▏| 368/400 [49:36<09:34, 17.94s/it]\u001b[A\n",
      " 92%|█████████▏| 369/400 [49:53<09:09, 17.71s/it]\u001b[A\n",
      " 92%|█████████▎| 370/400 [50:11<08:52, 17.77s/it]\u001b[A\n",
      " 93%|█████████▎| 371/400 [50:34<09:24, 19.46s/it]\u001b[A\n",
      " 93%|█████████▎| 372/400 [51:00<09:59, 21.39s/it]\u001b[A\n",
      " 93%|█████████▎| 373/400 [51:26<10:11, 22.64s/it]\u001b[A\n",
      " 94%|█████████▎| 374/400 [51:52<10:14, 23.62s/it]\u001b[A\n",
      " 94%|█████████▍| 375/400 [52:13<09:30, 22.82s/it]\u001b[A\n",
      " 94%|█████████▍| 376/400 [52:43<10:04, 25.18s/it]\u001b[A\n",
      " 94%|█████████▍| 377/400 [53:14<10:15, 26.75s/it]\u001b[A\n",
      " 94%|█████████▍| 378/400 [53:38<09:33, 26.07s/it]\u001b[A\n",
      " 95%|█████████▍| 379/400 [54:03<08:59, 25.70s/it]\u001b[A\n",
      " 95%|█████████▌| 380/400 [54:30<08:38, 25.92s/it]\u001b[A\n",
      " 95%|█████████▌| 381/400 [54:58<08:27, 26.69s/it]\u001b[A\n",
      " 96%|█████████▌| 382/400 [55:25<08:01, 26.74s/it]\u001b[A\n",
      " 96%|█████████▌| 383/400 [55:54<07:44, 27.33s/it]\u001b[A\n",
      " 96%|█████████▌| 384/400 [56:19<07:06, 26.68s/it]\u001b[A\n",
      " 96%|█████████▋| 385/400 [56:43<06:27, 25.83s/it]\u001b[A\n",
      " 96%|█████████▋| 386/400 [57:05<05:48, 24.92s/it]\u001b[A\n",
      " 97%|█████████▋| 387/400 [57:30<05:20, 24.69s/it]\u001b[A\n",
      " 97%|█████████▋| 388/400 [57:55<04:57, 24.79s/it]\u001b[A\n",
      " 97%|█████████▋| 389/400 [58:19<04:31, 24.70s/it]\u001b[A\n",
      " 98%|█████████▊| 390/400 [58:41<03:58, 23.84s/it]\u001b[A\n",
      " 98%|█████████▊| 391/400 [59:02<03:26, 22.90s/it]\u001b[A\n",
      " 98%|█████████▊| 392/400 [59:26<03:07, 23.47s/it]\u001b[A\n",
      " 98%|█████████▊| 393/400 [59:48<02:40, 22.99s/it]\u001b[A\n",
      " 98%|█████████▊| 394/400 [1:00:10<02:15, 22.62s/it]\u001b[A\n",
      " 99%|█████████▉| 395/400 [1:00:32<01:52, 22.46s/it]\u001b[A\n",
      " 99%|█████████▉| 396/400 [1:00:53<01:27, 21.87s/it]\u001b[A\n",
      " 99%|█████████▉| 397/400 [1:01:15<01:06, 22.12s/it]\u001b[A\n",
      "100%|█████████▉| 398/400 [1:01:38<00:44, 22.35s/it]\u001b[A\n",
      "100%|█████████▉| 399/400 [1:01:59<00:22, 22.01s/it]\u001b[A\n",
      "100%|██████████| 400/400 [1:02:21<00:00,  9.35s/it]\u001b[A\n"
     ]
    }
   ],
   "source": [
    "from tqdm import tqdm\n",
    "Precision = []\n",
    "Recall = []\n",
    "ACC = []\n",
    "F1_score = []\n",
    "kk = range(1,300)\n",
    "for h in tqdm(np.linspace(0.01,40,400)):\n",
    "    C = np.zeros((2,2)) #[[]]\n",
    "    cov = np.eye(X_train.shape[1],dtype = np.float)\n",
    "    for i in range((X_test_0.shape[0])):\n",
    "        y_pred = prediction(X_test_0[i], X_0,X_1, P, cov*h, 0.5)\n",
    "        C[y_pred, 0] += 1\n",
    "    for i in range((X_test_1.shape[0])):\n",
    "        y_pred = prediction(X_test_1[i], X_0, X_1, P, cov*h, 0.5)\n",
    "        C[y_pred, 1] += 1\n",
    "    acc = (C[0,0] + C[1,1])/np.sum(C) \n",
    "    pr = C[1,1]/(C[1,1] + C[1,0])\n",
    "    rec = C[1,1]/(C[1,1] + C[0,1])\n",
    "    f1 = 2*(pr*rec)/(pr + rec)\n",
    "    Precision.append(pr)\n",
    "    Recall.append(rec)\n",
    "    F1_score.append(f1)\n",
    "    ACC.append(acc)"
   ]
  },
  {
   "cell_type": "code",
   "execution_count": 34,
   "metadata": {},
   "outputs": [
    {
     "data": {
      "text/plain": [
       "array([[2., 0., 0.],\n",
       "       [0., 2., 0.],\n",
       "       [0., 0., 2.]])"
      ]
     },
     "execution_count": 34,
     "metadata": {},
     "output_type": "execute_result"
    }
   ],
   "source": [
    "cov = np.eye(X_train.shape[1],dtype = np.float)*2\n",
    "cov"
   ]
  },
  {
   "cell_type": "code",
   "execution_count": 35,
   "metadata": {},
   "outputs": [],
   "source": [
    "kk = np.linspace(0.01,30,400)"
   ]
  },
  {
   "cell_type": "code",
   "execution_count": 36,
   "metadata": {},
   "outputs": [
    {
     "data": {
      "image/png": "[encoded data removed]",
      "text/plain": [
       "<Figure size 432x288 with 1 Axes>"
      ]
     },
     "metadata": {
      "needs_background": "light"
     },
     "output_type": "display_data"
    }
   ],
   "source": [
    "plt.plot(kk ,ACC, '-')\n",
    "plt.xlabel('k_value'); plt.ylabel('ACCURACY'); plt.title('ACCURACY VS K curve');"
   ]
  },
  {
   "cell_type": "code",
   "execution_count": 37,
   "metadata": {},
   "outputs": [
    {
     "data": {
      "image/png": "[encoded data removed]",
      "text/plain": [
       "<Figure size 432x288 with 1 Axes>"
      ]
     },
     "metadata": {
      "needs_background": "light"
     },
     "output_type": "display_data"
    }
   ],
   "source": [
    "plt.plot(kk, Recall, '-')\n",
    "plt.xlabel('k_value'); plt.ylabel('RECALL'); plt.title('RECALL VS K curve');"
   ]
  },
  {
   "cell_type": "code",
   "execution_count": 38,
   "metadata": {},
   "outputs": [
    {
     "data": {
      "image/png": "[encoded data removed]",
      "text/plain": [
       "<Figure size 432x288 with 1 Axes>"
      ]
     },
     "metadata": {
      "needs_background": "light"
     },
     "output_type": "display_data"
    }
   ],
   "source": [
    "plt.plot(kk, Precision, '-')\n",
    "plt.xlabel('k_value'); plt.ylabel('PRECISION'); plt.title('PRECISION VS K curve');"
   ]
  },
  {
   "cell_type": "code",
   "execution_count": 39,
   "metadata": {},
   "outputs": [
    {
     "data": {
      "image/png": "[encoded data removed]",
      "text/plain": [
       "<Figure size 432x288 with 1 Axes>"
      ]
     },
     "metadata": {
      "needs_background": "light"
     },
     "output_type": "display_data"
    }
   ],
   "source": [
    "plt.plot(kk, F1_score, '-')\n",
    "plt.xlabel('k_value'); plt.ylabel('F1_SCORE'); plt.title('F1_SCORE VS K curve');"
   ]
  },
  {
   "cell_type": "code",
   "execution_count": 40,
   "metadata": {},
   "outputs": [
    {
     "name": "stdout",
     "output_type": "stream",
     "text": [
      "0.8291139240506329\n"
     ]
    }
   ],
   "source": [
    "print(ACC[-1])"
   ]
  },
  {
   "cell_type": "code",
   "execution_count": 41,
   "metadata": {},
   "outputs": [
    {
     "name": "stdout",
     "output_type": "stream",
     "text": [
      "0.8029197080291971\n"
     ]
    }
   ],
   "source": [
    "print(F1_score[-1])"
   ]
  },
  {
   "cell_type": "code",
   "execution_count": 42,
   "metadata": {},
   "outputs": [
    {
     "name": "stdout",
     "output_type": "stream",
     "text": [
      "0.8396946564885496\n"
     ]
    }
   ],
   "source": [
    "print(Precision[-1])"
   ]
  },
  {
   "cell_type": "code",
   "execution_count": 43,
   "metadata": {},
   "outputs": [
    {
     "name": "stdout",
     "output_type": "stream",
     "text": [
      "0.7692307692307693\n"
     ]
    }
   ],
   "source": [
    "print(Recall[-1])"
   ]
  },
  {
   "cell_type": "markdown",
   "metadata": {},
   "source": [
    "## Question3"
   ]
  },
  {
   "cell_type": "markdown",
   "metadata": {},
   "source": [
    "# HyperCube"
   ]
  },
  {
   "cell_type": "code",
   "execution_count": 6,
   "metadata": {},
   "outputs": [],
   "source": [
    "no_of_classes = 5"
   ]
  },
  {
   "cell_type": "code",
   "execution_count": 7,
   "metadata": {},
   "outputs": [],
   "source": [
    "#calculation of posterior\n",
    "def posterior(X_train, data, P,h):\n",
    "    prob = np.zeros(no_of_classes, dtype = np.float64)\n",
    "    class_probabilities  = np.zeros(no_of_classes)\n",
    "    features = 0;\n",
    "    for i in range(no_of_classes):\n",
    "        class_probabilities = parzen_estimation_for_hyper_cube(X_train[i,:], data, h, features)\n",
    "    #print(probabilities)\n",
    "    for i in range(no_of_classes):\n",
    "        prob[i] = class_probabilities[i]*P[i]\n",
    "    return prob"
   ]
  },
  {
   "cell_type": "code",
   "execution_count": 8,
   "metadata": {},
   "outputs": [],
   "source": [
    "def prediction(data, X_train,P, h, Th):\n",
    "    Probabilities = posterior(X_train, data, P, h)\n",
    "    Probabilities = Probabilities/sum(Probabilities)\n",
    "    #print(Probabilities)\n",
    "    if Probabilities[1] > Th:\n",
    "        return 1\n",
    "    else:\n",
    "        return 0"
   ]
  },
  {
   "cell_type": "code",
   "execution_count": 11,
   "metadata": {},
   "outputs": [],
   "source": [
    "X_test =np.array([])\n",
    "#computing accuracy on test data.\n",
    "C = np.zeros((no_of_classes,no_of_classes)) #[[]]\n",
    "for j in range(no_of_classes):\n",
    "    for i in range((X_test.shape[0])):\n",
    "        y_pred = prediction(X_test[i], X, P, 1,0.5)\n",
    "        C[y_pred, j] += 1"
   ]
  },
  {
   "cell_type": "markdown",
   "metadata": {},
   "source": [
    "## Gaussian"
   ]
  },
  {
   "cell_type": "code",
   "execution_count": null,
   "metadata": {},
   "outputs": [],
   "source": []
  }
 ],
 "metadata": {
  "kernelspec": {
   "display_name": "Python 3",
   "language": "python",
   "name": "python3"
  },
  "language_info": {
   "codemirror_mode": {
    "name": "ipython",
    "version": 3
   },
   "file_extension": ".py",
   "mimetype": "text/x-python",
   "name": "python",
   "nbconvert_exporter": "python",
   "pygments_lexer": "ipython3",
   "version": "3.7.6"
  }
 },
 "nbformat": 4,
 "nbformat_minor": 4
}
