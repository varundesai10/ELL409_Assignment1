{
 "cells": [
  {
   "cell_type": "code",
   "execution_count": 1,
   "metadata": {},
   "outputs": [],
   "source": [
    "import numpy as np\n",
    "import pandas as pd\n",
    "import matplotlib.pyplot as plt\n",
    "import math\n",
    "import sklearn"
   ]
  },
  {
   "cell_type": "code",
   "execution_count": 2,
   "metadata": {},
   "outputs": [
    {
     "data": {
      "text/html": [
       "<div>\n",
       "<style scoped>\n",
       "    .dataframe tbody tr th:only-of-type {\n",
       "        vertical-align: middle;\n",
       "    }\n",
       "\n",
       "    .dataframe tbody tr th {\n",
       "        vertical-align: top;\n",
       "    }\n",
       "\n",
       "    .dataframe thead th {\n",
       "        text-align: right;\n",
       "    }\n",
       "</style>\n",
       "<table border=\"1\" class=\"dataframe\">\n",
       "  <thead>\n",
       "    <tr style=\"text-align: right;\">\n",
       "      <th></th>\n",
       "      <th>age</th>\n",
       "      <th>restbps</th>\n",
       "      <th>chol</th>\n",
       "      <th>category</th>\n",
       "    </tr>\n",
       "  </thead>\n",
       "  <tbody>\n",
       "    <tr>\n",
       "      <th>0</th>\n",
       "      <td>26</td>\n",
       "      <td>109</td>\n",
       "      <td>243</td>\n",
       "      <td>0</td>\n",
       "    </tr>\n",
       "    <tr>\n",
       "      <th>1</th>\n",
       "      <td>27</td>\n",
       "      <td>106</td>\n",
       "      <td>156</td>\n",
       "      <td>0</td>\n",
       "    </tr>\n",
       "    <tr>\n",
       "      <th>2</th>\n",
       "      <td>28</td>\n",
       "      <td>107</td>\n",
       "      <td>225</td>\n",
       "      <td>0</td>\n",
       "    </tr>\n",
       "    <tr>\n",
       "      <th>3</th>\n",
       "      <td>27</td>\n",
       "      <td>105</td>\n",
       "      <td>277</td>\n",
       "      <td>0</td>\n",
       "    </tr>\n",
       "    <tr>\n",
       "      <th>4</th>\n",
       "      <td>30</td>\n",
       "      <td>96</td>\n",
       "      <td>221</td>\n",
       "      <td>0</td>\n",
       "    </tr>\n",
       "  </tbody>\n",
       "</table>\n",
       "</div>"
      ],
      "text/plain": [
       "   age  restbps  chol  category\n",
       "0   26      109   243         0\n",
       "1   27      106   156         0\n",
       "2   28      107   225         0\n",
       "3   27      105   277         0\n",
       "4   30       96   221         0"
      ]
     },
     "execution_count": 2,
     "metadata": {},
     "output_type": "execute_result"
    }
   ],
   "source": [
    "data = pd.read_csv('health_data.csv')\n",
    "data.head()"
   ]
  },
  {
   "cell_type": "code",
   "execution_count": 3,
   "metadata": {},
   "outputs": [
    {
     "name": "stdout",
     "output_type": "stream",
     "text": [
      "(303, 3)\n"
     ]
    },
    {
     "name": "stderr",
     "output_type": "stream",
     "text": [
      "E:\\Anaconda\\lib\\site-packages\\ipykernel_launcher.py:7: FutureWarning: Using a non-tuple sequence for multidimensional indexing is deprecated; use `arr[tuple(seq)]` instead of `arr[seq]`. In the future this will be interpreted as an array index, `arr[np.array(seq)]`, which will result either in an error or a different result.\n",
      "  import sys\n",
      "E:\\Anaconda\\lib\\site-packages\\ipykernel_launcher.py:8: FutureWarning: Using a non-tuple sequence for multidimensional indexing is deprecated; use `arr[tuple(seq)]` instead of `arr[seq]`. In the future this will be interpreted as an array index, `arr[np.array(seq)]`, which will result either in an error or a different result.\n",
      "  \n",
      "E:\\Anaconda\\lib\\site-packages\\ipykernel_launcher.py:10: FutureWarning: Using a non-tuple sequence for multidimensional indexing is deprecated; use `arr[tuple(seq)]` instead of `arr[seq]`. In the future this will be interpreted as an array index, `arr[np.array(seq)]`, which will result either in an error or a different result.\n",
      "  # Remove the CWD from sys.path while we load stuff.\n",
      "E:\\Anaconda\\lib\\site-packages\\ipykernel_launcher.py:11: FutureWarning: Using a non-tuple sequence for multidimensional indexing is deprecated; use `arr[tuple(seq)]` instead of `arr[seq]`. In the future this will be interpreted as an array index, `arr[np.array(seq)]`, which will result either in an error or a different result.\n",
      "  # This is added back by InteractiveShellApp.init_path()\n"
     ]
    }
   ],
   "source": [
    "X = data.to_numpy()[:, :3]\n",
    "Y = data.to_numpy()[:, 3]\n",
    "split = 0.8 #using 70:30 split, random each time\n",
    "train_samples = np.random.choice(X.shape[0], int(split*X.shape[0]))\n",
    "test_samples = np.array([i for i in range(X.shape[0]) if i not in list(train_samples)])\n",
    "\n",
    "X_train = X[[train_samples]]\n",
    "Y_train = Y[[train_samples]]\n",
    "\n",
    "X_test = X[[test_samples]]\n",
    "Y_test = Y[[test_samples]]\n",
    "\n",
    "X_0 = X_train[Y_train == 0]\n",
    "X_1 = X_train[Y_train == 1]\n",
    "\n",
    "X_test_0 = X_test[Y_test == 0]\n",
    "X_test_1 = X_test[Y_test==1]\n",
    "print(X_test.shape)"
   ]
  },
  {
   "cell_type": "code",
   "execution_count": 4,
   "metadata": {},
   "outputs": [],
   "source": [
    "X_00 = data[data['category'] == 0].to_numpy()[:, :3]\n",
    "X_11 = data[data['category'] == 1].to_numpy()[:, :3]"
   ]
  },
  {
   "cell_type": "code",
   "execution_count": 5,
   "metadata": {},
   "outputs": [
    {
     "name": "stderr",
     "output_type": "stream",
     "text": [
      "E:\\Anaconda\\lib\\site-packages\\ipykernel_launcher.py:1: MatplotlibDeprecationWarning: \n",
      "The 'normed' kwarg was deprecated in Matplotlib 2.1 and will be removed in 3.1. Use 'density' instead.\n",
      "  \"\"\"Entry point for launching an IPython kernel.\n"
     ]
    },
    {
     "data": {
      "image/png": "[encoded data removed]",
      "text/plain": [
       "<Figure size 432x288 with 1 Axes>"
      ]
     },
     "metadata": {
      "needs_background": "light"
     },
     "output_type": "display_data"
    }
   ],
   "source": [
    "hist1 = plt.hist(X_00[:, 0], bins=40, normed=True)"
   ]
  },
  {
   "cell_type": "code",
   "execution_count": 6,
   "metadata": {},
   "outputs": [
    {
     "name": "stderr",
     "output_type": "stream",
     "text": [
      "E:\\Anaconda\\lib\\site-packages\\ipykernel_launcher.py:1: MatplotlibDeprecationWarning: \n",
      "The 'normed' kwarg was deprecated in Matplotlib 2.1 and will be removed in 3.1. Use 'density' instead.\n",
      "  \"\"\"Entry point for launching an IPython kernel.\n"
     ]
    },
    {
     "data": {
      "image/png": "[encoded data removed]",
      "text/plain": [
       "<Figure size 432x288 with 1 Axes>"
      ]
     },
     "metadata": {
      "needs_background": "light"
     },
     "output_type": "display_data"
    }
   ],
   "source": [
    "hist2 = plt.hist(X_00[:, 1], bins=30, normed=True)"
   ]
  },
  {
   "cell_type": "code",
   "execution_count": 7,
   "metadata": {},
   "outputs": [
    {
     "name": "stderr",
     "output_type": "stream",
     "text": [
      "E:\\Anaconda\\lib\\site-packages\\ipykernel_launcher.py:1: MatplotlibDeprecationWarning: \n",
      "The 'normed' kwarg was deprecated in Matplotlib 2.1 and will be removed in 3.1. Use 'density' instead.\n",
      "  \"\"\"Entry point for launching an IPython kernel.\n"
     ]
    },
    {
     "data": {
      "image/png": "[encoded data removed]",
      "text/plain": [
       "<Figure size 432x288 with 1 Axes>"
      ]
     },
     "metadata": {
      "needs_background": "light"
     },
     "output_type": "display_data"
    }
   ],
   "source": [
    "hist3 = plt.hist(X_00[:, 2], bins=30, normed=True)"
   ]
  },
  {
   "cell_type": "code",
   "execution_count": 8,
   "metadata": {},
   "outputs": [
    {
     "name": "stderr",
     "output_type": "stream",
     "text": [
      "E:\\Anaconda\\lib\\site-packages\\ipykernel_launcher.py:1: MatplotlibDeprecationWarning: \n",
      "The 'normed' kwarg was deprecated in Matplotlib 2.1 and will be removed in 3.1. Use 'density' instead.\n",
      "  \"\"\"Entry point for launching an IPython kernel.\n"
     ]
    },
    {
     "data": {
      "image/png": "[encoded data removed]",
      "text/plain": [
       "<Figure size 432x288 with 1 Axes>"
      ]
     },
     "metadata": {
      "needs_background": "light"
     },
     "output_type": "display_data"
    }
   ],
   "source": [
    "hist11 = plt.hist(X_11[:, 0], bins=20, normed=True)"
   ]
  },
  {
   "cell_type": "code",
   "execution_count": 9,
   "metadata": {},
   "outputs": [
    {
     "name": "stderr",
     "output_type": "stream",
     "text": [
      "E:\\Anaconda\\lib\\site-packages\\ipykernel_launcher.py:1: MatplotlibDeprecationWarning: \n",
      "The 'normed' kwarg was deprecated in Matplotlib 2.1 and will be removed in 3.1. Use 'density' instead.\n",
      "  \"\"\"Entry point for launching an IPython kernel.\n"
     ]
    },
    {
     "data": {
      "image/png": "[encoded data removed]",
      "text/plain": [
       "<Figure size 432x288 with 1 Axes>"
      ]
     },
     "metadata": {
      "needs_background": "light"
     },
     "output_type": "display_data"
    }
   ],
   "source": [
    "hist12 = plt.hist(X_11[:, 1], bins=30, normed=True)"
   ]
  },
  {
   "cell_type": "code",
   "execution_count": 10,
   "metadata": {},
   "outputs": [
    {
     "name": "stderr",
     "output_type": "stream",
     "text": [
      "E:\\Anaconda\\lib\\site-packages\\ipykernel_launcher.py:1: MatplotlibDeprecationWarning: \n",
      "The 'normed' kwarg was deprecated in Matplotlib 2.1 and will be removed in 3.1. Use 'density' instead.\n",
      "  \"\"\"Entry point for launching an IPython kernel.\n"
     ]
    },
    {
     "data": {
      "image/png": "[encoded data removed]",
      "text/plain": [
       "<Figure size 432x288 with 1 Axes>"
      ]
     },
     "metadata": {
      "needs_background": "light"
     },
     "output_type": "display_data"
    }
   ],
   "source": [
    "hist13 = plt.hist(X_11[:, 2], bins=40, normed=True)"
   ]
  },
  {
   "cell_type": "code",
   "execution_count": 11,
   "metadata": {},
   "outputs": [],
   "source": [
    "#Hypercube_Kernel\n",
    "def hypercube_kernel(h, x, x_i):\n",
    "    assert (x.shape == x_i.shape)\n",
    "    return (x - x_i) / (h)\n",
    "\n",
    "\n",
    "#Window_function   \n",
    "def parzen_window_func(x_vec):\n",
    "    for row in x_vec:\n",
    "        if np.abs(row) > (1/2):\n",
    "            return 0\n",
    "        return 1\n",
    "\n",
    "#Estimation\n",
    "def parzen_estimation_for_hyper_cube(x_samples, point_x, h, d):\n",
    "    dimensions = x_samples.shape[1]\n",
    "    assert (len(point_x) == dimensions)\n",
    "    k_n = 0\n",
    "    for row in x_samples:\n",
    "        x_i = hypercube_kernel(h=h, x=point_x, x_i=row)\n",
    "        k_n += parzen_window_func(x_i)\n",
    "    return (k_n / len(x_samples)) / (h**d)"
   ]
  },
  {
   "cell_type": "code",
   "execution_count": 12,
   "metadata": {},
   "outputs": [],
   "source": [
    "def pdf_multivariate_gauss(x, mu, cov):\n",
    "    assert(mu.shape[0] > mu.shape[1])\n",
    "    assert(x.shape[0] > x.shape[1])\n",
    "    assert(cov.shape[0] == cov.shape[1])\n",
    "    assert(mu.shape[0] == cov.shape[0])\n",
    "    assert(mu.shape[0] == x.shape[0])\n",
    "    part1 = 1 / ( ((2* np.pi)**(len(mu)/2)) * (np.linalg.det(cov)**(1/2)) )\n",
    "    part2 = (-1/2) * ((x-mu).T.dot(np.linalg.inv(cov))).dot((x-mu))\n",
    "    return float(part1 * np.exp(part2))"
   ]
  },
  {
   "cell_type": "code",
   "execution_count": 35,
   "metadata": {},
   "outputs": [],
   "source": [
    "#Gaussian_kernel_and_window_function\n",
    "def gaussian_window_function(cov, x, x_i):\n",
    "    assert (x.shape == x_i.shape)\n",
    "    assert(cov.shape[0] == cov.shape[1])\n",
    "    assert(x_i.shape[0] == cov.shape[0])\n",
    "    return pdf_multivariate_gauss(x, x_i,cov)\n",
    "\n",
    "\n",
    "#Estimation\n",
    "def parzen_estimation_for_gaussian(x_samples, point_x, cov):\n",
    "    point_x = point_x.reshape((3,1))\n",
    "    prob = 0.0\n",
    "    for row in x_samples:\n",
    "        row = row.reshape((3,1))\n",
    "        prob += gaussian_window_function(cov,point_x,row)\n",
    "    return prob "
   ]
  },
  {
   "cell_type": "code",
   "execution_count": 33,
   "metadata": {},
   "outputs": [
    {
     "data": {
      "text/plain": [
       "[0.5642857142857143, 0.4357142857142857]"
      ]
     },
     "execution_count": 33,
     "metadata": {},
     "output_type": "execute_result"
    }
   ],
   "source": [
    "#prior calculation\n",
    "P = [float(len(X_0))/ float(len(X_0) + len(X_1)) ,float(len(X_1))/ float(len(X_0) + len(X_1)) ]\n",
    "P"
   ]
  },
  {
   "cell_type": "markdown",
   "metadata": {},
   "source": [
    "# Hyper_Cube"
   ]
  },
  {
   "cell_type": "code",
   "execution_count": 45,
   "metadata": {},
   "outputs": [],
   "source": [
    "#calculation of posterior\n",
    "def posterior(X_train_0,X_train_1, data, P,h,d):\n",
    "    prob = np.zeros(2, dtype = np.float64)\n",
    "    class_probabilities = [parzen_estimation_for_hyper_cube(X_train_0, data, h, d), parzen_estimation_for_hyper_cube(X_train_1, data, h, d)]\n",
    "    \n",
    "    #print(probabilities)\n",
    "    for i in range(2):\n",
    "        prob[i] = class_probabilities[i]*P[i]\n",
    "    return prob"
   ]
  },
  {
   "cell_type": "code",
   "execution_count": 46,
   "metadata": {},
   "outputs": [],
   "source": [
    "def prediction(data, X_train_0, X_train_1,P, h, Th):\n",
    "    Probabilities = posterior(X_train_0, X_train_1, data, P, h, X_train.shape[1])\n",
    "    Probabilities = Probabilities/sum(Probabilities)\n",
    "    #print(Probabilities)\n",
    "    if Probabilities[1] > Th:\n",
    "        return 1\n",
    "    else:\n",
    "        return 0"
   ]
  },
  {
   "cell_type": "code",
   "execution_count": 47,
   "metadata": {},
   "outputs": [
    {
     "name": "stderr",
     "output_type": "stream",
     "text": [
      "E:\\Anaconda\\lib\\site-packages\\ipykernel_launcher.py:3: RuntimeWarning: invalid value encountered in true_divide\n",
      "  This is separate from the ipykernel package so we can avoid doing imports until\n"
     ]
    }
   ],
   "source": [
    "#computing accuracy on test data.\n",
    "C = np.zeros((2,2)) #[[]]\n",
    "for i in range((X_test_0.shape[0])):\n",
    "    y_pred = prediction(X_test_0[i], X_0,X_1, P, 1, 0.5)\n",
    "    C[y_pred, 0] += 1\n",
    "for i in range((X_test_1.shape[0])):\n",
    "    y_pred = prediction(X_test_1[i], X_0, X_1, P, 1, 0.5)\n",
    "    C[y_pred, 1] += 1"
   ]
  },
  {
   "cell_type": "code",
   "execution_count": 48,
   "metadata": {},
   "outputs": [
    {
     "data": {
      "text/plain": [
       "array([[156.,  33.],\n",
       "       [ 22.,  92.]])"
      ]
     },
     "execution_count": 48,
     "metadata": {},
     "output_type": "execute_result"
    }
   ],
   "source": [
    "C"
   ]
  },
  {
   "cell_type": "code",
   "execution_count": 49,
   "metadata": {},
   "outputs": [
    {
     "name": "stdout",
     "output_type": "stream",
     "text": [
      "0.8184818481848185\n"
     ]
    }
   ],
   "source": [
    "acc = (C[0,0] + C[1,1])/np.sum(C)\n",
    "print(acc)"
   ]
  },
  {
   "cell_type": "code",
   "execution_count": 50,
   "metadata": {},
   "outputs": [
    {
     "data": {
      "text/plain": [
       "0.8070175438596491"
      ]
     },
     "execution_count": 50,
     "metadata": {},
     "output_type": "execute_result"
    }
   ],
   "source": [
    "precision = (C[1,1])/(C[1,0] + C[1,1])\n",
    "precision"
   ]
  },
  {
   "cell_type": "code",
   "execution_count": 51,
   "metadata": {},
   "outputs": [
    {
     "data": {
      "text/plain": [
       "0.736"
      ]
     },
     "execution_count": 51,
     "metadata": {},
     "output_type": "execute_result"
    }
   ],
   "source": [
    "Recall = (C[1,1])/(C[0,1] + C[1,1])\n",
    "Recall"
   ]
  },
  {
   "cell_type": "code",
   "execution_count": null,
   "metadata": {},
   "outputs": [
    {
     "name": "stderr",
     "output_type": "stream",
     "text": [
      "  0%|          | 0/100 [00:00<?, ?it/s]E:\\Anaconda\\lib\\site-packages\\ipykernel_launcher.py:3: RuntimeWarning: invalid value encountered in true_divide\n",
      "  This is separate from the ipykernel package so we can avoid doing imports until\n",
      " 13%|█▎        | 13/100 [00:09<01:00,  1.43it/s]"
     ]
    }
   ],
   "source": [
    "from tqdm import tqdm\n",
    "Precision = []\n",
    "Recall = []\n",
    "ACC = []\n",
    "F1_score = []\n",
    "kk = range(1,300)\n",
    "for h in tqdm(np.linspace(0.01,10,100)):\n",
    "    C = np.zeros((2,2)) #[[]]\n",
    "    for i in range((X_test_0.shape[0])):\n",
    "        y_pred = prediction(X_test_0[i], X_0,X_1, P, h, 0.5)\n",
    "        C[y_pred, 0] += 1\n",
    "    for i in range((X_test_1.shape[0])):\n",
    "        y_pred = prediction(X_test_1[i], X_0, X_1, P, h, 0.5)\n",
    "        C[y_pred, 1] += 1\n",
    "    acc = (C[0,0] + C[1,1])/np.sum(C) \n",
    "    pr = C[1,1]/(C[1,1] + C[1,0])\n",
    "    rec = C[1,1]/(C[1,1] + C[0,1])\n",
    "    f1 = 2*(pr*rec)/(pr + rec)\n",
    "    Precision.append(pr)\n",
    "    Recall.append(rec)\n",
    "    F1_score.append(f1)\n",
    "    ACC.append(acc)\n",
    "#plt.xlabel('False Positive Rate'); plt.ylabel('True Positive Rate'); plt.title('ROC curve');"
   ]
  },
  {
   "cell_type": "code",
   "execution_count": null,
   "metadata": {},
   "outputs": [],
   "source": [
    "kk = np.linspace(0.01,10,100)"
   ]
  },
  {
   "cell_type": "code",
   "execution_count": null,
   "metadata": {},
   "outputs": [],
   "source": [
    "plt.plot(kk ,ACC, '-')\n",
    "plt.xlabel('k_value'); plt.ylabel('ACCURACY'); plt.title('ACCURACY VS K curve');"
   ]
  },
  {
   "cell_type": "code",
   "execution_count": null,
   "metadata": {},
   "outputs": [],
   "source": [
    "plt.plot(kk, Recall, '-')\n",
    "plt.xlabel('k_value'); plt.ylabel('RECALL'); plt.title('RECALL VS K curve');"
   ]
  },
  {
   "cell_type": "code",
   "execution_count": null,
   "metadata": {},
   "outputs": [],
   "source": [
    "plt.plot(kk, Precision, '-')\n",
    "plt.xlabel('k_value'); plt.ylabel('PRECISION'); plt.title('PRECISION VS K curve');"
   ]
  },
  {
   "cell_type": "code",
   "execution_count": null,
   "metadata": {},
   "outputs": [],
   "source": [
    "plt.plot(kk, F1_score, '-')\n",
    "plt.xlabel('k_value'); plt.ylabel('F1_SCORE'); plt.title('F1_SCORE VS K curve');"
   ]
  },
  {
   "cell_type": "markdown",
   "metadata": {},
   "source": [
    "# Gaussian Window function"
   ]
  },
  {
   "cell_type": "code",
   "execution_count": 29,
   "metadata": {},
   "outputs": [],
   "source": [
    "#calculation of posterior\n",
    "def posterior(X_train_0,X_train_1, data, P,cov):\n",
    "    prob = np.zeros(2, dtype = np.float64)\n",
    "    class_probabilities = [parzen_estimation_for_gaussian(X_train_0, data,cov ), parzen_estimation_for_gaussian(X_train_1, data,cov)]\n",
    "    \n",
    "    #print(probabilities)\n",
    "    for i in range(2):\n",
    "        prob[i] = class_probabilities[i]*P[i]\n",
    "    return prob"
   ]
  },
  {
   "cell_type": "code",
   "execution_count": 30,
   "metadata": {},
   "outputs": [],
   "source": [
    "def prediction(data, X_train_0, X_train_1,P, cov, Th):\n",
    "    Probabilities = posterior(X_train_0, X_train_1, data, P, cov)\n",
    "    Probabilities = Probabilities/sum(Probabilities)\n",
    "    #print(Probabilities)\n",
    "    if Probabilities[1] > Th:\n",
    "        return 1\n",
    "    else:\n",
    "        return 0"
   ]
  },
  {
   "cell_type": "code",
   "execution_count": 36,
   "metadata": {},
   "outputs": [],
   "source": [
    "#computing accuracy on test data.\n",
    "C = np.zeros((2,2)) #[[]]\n",
    "cov = np.eye(X_train.shape[1],dtype = np.float)\n",
    "for i in range((X_test_0.shape[0])):\n",
    "    y_pred = prediction(X_test_0[i], X_0,X_1, P, cov, 0.5)\n",
    "    C[y_pred, 0] += 1\n",
    "for i in range((X_test_1.shape[0])):\n",
    "    y_pred = prediction(X_test_1[i], X_0, X_1, P, cov, 0.5)\n",
    "    C[y_pred, 1] += 1"
   ]
  },
  {
   "cell_type": "code",
   "execution_count": 37,
   "metadata": {},
   "outputs": [
    {
     "data": {
      "text/plain": [
       "array([[141.,  40.],\n",
       "       [ 37.,  85.]])"
      ]
     },
     "execution_count": 37,
     "metadata": {},
     "output_type": "execute_result"
    }
   ],
   "source": [
    "C"
   ]
  },
  {
   "cell_type": "code",
   "execution_count": 39,
   "metadata": {},
   "outputs": [
    {
     "name": "stderr",
     "output_type": "stream",
     "text": [
      "  0%|          | 0/100 [00:00<?, ?it/s]E:\\Anaconda\\lib\\site-packages\\ipykernel_launcher.py:3: RuntimeWarning: invalid value encountered in true_divide\n",
      "  This is separate from the ipykernel package so we can avoid doing imports until\n",
      "100%|██████████| 100/100 [08:02<00:00,  4.82s/it]\n"
     ]
    }
   ],
   "source": [
    "from tqdm import tqdm\n",
    "Precision = []\n",
    "Recall = []\n",
    "ACC = []\n",
    "F1_score = []\n",
    "kk = range(1,300)\n",
    "for h in tqdm(np.linspace(0.01,10,100)):\n",
    "    C = np.zeros((2,2)) #[[]]\n",
    "    cov = np.eye(X_train.shape[1],dtype = np.float)\n",
    "    for i in range((X_test_0.shape[0])):\n",
    "        y_pred = prediction(X_test_0[i], X_0,X_1, P, cov*h, 0.5)\n",
    "        C[y_pred, 0] += 1\n",
    "    for i in range((X_test_1.shape[0])):\n",
    "        y_pred = prediction(X_test_1[i], X_0, X_1, P, cov*h, 0.5)\n",
    "        C[y_pred, 1] += 1\n",
    "    acc = (C[0,0] + C[1,1])/np.sum(C) \n",
    "    pr = C[1,1]/(C[1,1] + C[1,0])\n",
    "    rec = C[1,1]/(C[1,1] + C[0,1])\n",
    "    f1 = 2*(pr*rec)/(pr + rec)\n",
    "    Precision.append(pr)\n",
    "    Recall.append(rec)\n",
    "    F1_score.append(f1)\n",
    "    ACC.append(acc)"
   ]
  },
  {
   "cell_type": "code",
   "execution_count": 38,
   "metadata": {},
   "outputs": [
    {
     "data": {
      "text/plain": [
       "array([[2., 0., 0.],\n",
       "       [0., 2., 0.],\n",
       "       [0., 0., 2.]])"
      ]
     },
     "execution_count": 38,
     "metadata": {},
     "output_type": "execute_result"
    }
   ],
   "source": [
    "cov = np.eye(X_train.shape[1],dtype = np.float)*2\n",
    "cov"
   ]
  },
  {
   "cell_type": "code",
   "execution_count": 40,
   "metadata": {},
   "outputs": [],
   "source": [
    "kk = np.linspace(0.01,10,100)"
   ]
  },
  {
   "cell_type": "code",
   "execution_count": 41,
   "metadata": {},
   "outputs": [
    {
     "data": {
      "image/png": "[encoded data removed]",
      "text/plain": [
       "<Figure size 432x288 with 1 Axes>"
      ]
     },
     "metadata": {
      "needs_background": "light"
     },
     "output_type": "display_data"
    }
   ],
   "source": [
    "plt.plot(kk ,ACC, '-')\n",
    "plt.xlabel('k_value'); plt.ylabel('ACCURACY'); plt.title('ACCURACY VS K curve');"
   ]
  },
  {
   "cell_type": "code",
   "execution_count": 42,
   "metadata": {},
   "outputs": [
    {
     "data": {
      "image/png": "[encoded data removed]",
      "text/plain": [
       "<Figure size 432x288 with 1 Axes>"
      ]
     },
     "metadata": {
      "needs_background": "light"
     },
     "output_type": "display_data"
    }
   ],
   "source": [
    "plt.plot(kk, Recall, '-')\n",
    "plt.xlabel('k_value'); plt.ylabel('RECALL'); plt.title('RECALL VS K curve');"
   ]
  },
  {
   "cell_type": "code",
   "execution_count": 43,
   "metadata": {},
   "outputs": [
    {
     "data": {
      "image/png": "[encoded data removed]",
      "text/plain": [
       "<Figure size 432x288 with 1 Axes>"
      ]
     },
     "metadata": {
      "needs_background": "light"
     },
     "output_type": "display_data"
    }
   ],
   "source": [
    "plt.plot(kk, Precision, '-')\n",
    "plt.xlabel('k_value'); plt.ylabel('PRECISION'); plt.title('PRECISION VS K curve');"
   ]
  },
  {
   "cell_type": "code",
   "execution_count": 44,
   "metadata": {},
   "outputs": [
    {
     "data": {
      "image/png": "[encoded data removed]",
      "text/plain": [
       "<Figure size 432x288 with 1 Axes>"
      ]
     },
     "metadata": {
      "needs_background": "light"
     },
     "output_type": "display_data"
    }
   ],
   "source": [
    "plt.plot(kk, F1_score, '-')\n",
    "plt.xlabel('k_value'); plt.ylabel('F1_SCORE'); plt.title('F1_SCORE VS K curve');"
   ]
  },
  {
   "cell_type": "code",
   "execution_count": null,
   "metadata": {},
   "outputs": [],
   "source": []
  }
 ],
 "metadata": {
  "kernelspec": {
   "display_name": "Python 3",
   "language": "python",
   "name": "python3"
  },
  "language_info": {
   "codemirror_mode": {
    "name": "ipython",
    "version": 3
   },
   "file_extension": ".py",
   "mimetype": "text/x-python",
   "name": "python",
   "nbconvert_exporter": "python",
   "pygments_lexer": "ipython3",
   "version": "3.7.6"
  }
 },
 "nbformat": 4,
 "nbformat_minor": 4
}
