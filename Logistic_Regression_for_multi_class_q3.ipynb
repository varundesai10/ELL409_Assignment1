{
 "cells": [
  {
   "cell_type": "code",
   "execution_count": 1,
   "metadata": {},
   "outputs": [],
   "source": [
    "import numpy as np\n",
    "import pandas as pd\n",
    "import matplotlib.pyplot as plt"
   ]
  },
  {
   "cell_type": "code",
   "execution_count": 2,
   "metadata": {},
   "outputs": [],
   "source": [
    "#the number of classes\n",
    "no_of_classes = 5"
   ]
  },
  {
   "cell_type": "code",
   "execution_count": 7,
   "metadata": {},
   "outputs": [],
   "source": [
    "#define sigmoid function:\n",
    "def softmax(z):\n",
    "    activ = np.exp(z)/np.sum(np.exp(z), axis = 0, keepdims = True)\n",
    "    return activ"
   ]
  },
  {
   "cell_type": "code",
   "execution_count": 8,
   "metadata": {},
   "outputs": [],
   "source": [
    "def cost_function_cross_entropy(softmax, Y):\n",
    "    return Y.T*np.log(softmax)"
   ]
  },
  {
   "cell_type": "code",
   "execution_count": 19,
   "metadata": {},
   "outputs": [],
   "source": [
    "def gradient(w,b,X,Y):\n",
    "    \n",
    "    m = X.shape[1]\n",
    "    loss = 0.0;\n",
    "    i = 0\n",
    "    softmax_activ = softmax(np.dot(w,X) + b)\n",
    "    for row in softmax_activ.T:\n",
    "        loss += cost_function_cross_entropy(row.reshape(no_of_classes,1), Y[:, i])\n",
    "        i+= 1\n",
    "    loss = loss/m\n",
    "    dw = np.dot(X, (softmax - Y).T)/m\n",
    "    db = np.sum(logit - Y , axis = 1, keepdims = True)/m\n",
    "    \n",
    "    assert(dw.shape == w.shape)\n",
    "    assert(db.dtype == float)\n",
    "    \n",
    "    gradient = {\"dw\" : dw, \"db\" : db}\n",
    "    return gradient, loss\n",
    "    "
   ]
  },
  {
   "cell_type": "code",
   "execution_count": 18,
   "metadata": {},
   "outputs": [
    {
     "name": "stdout",
     "output_type": "stream",
     "text": [
      "[[1]\n",
      " [2]\n",
      " [3]]\n",
      "[[ 2]\n",
      " [34]\n",
      " [ 4]]\n"
     ]
    }
   ],
   "source": []
  },
  {
   "cell_type": "code",
   "execution_count": 20,
   "metadata": {},
   "outputs": [],
   "source": [
    "#optimize:\n",
    "def optimization(w,b,X,Y, epoches, lr_alpha):\n",
    "    costs = []\n",
    "    for i in range(epoches):\n",
    "        gradients, cost = gradient(w,b,X,Y)\n",
    "        \n",
    "        dw = gradients[\"dw\"]\n",
    "        db = gradients[\"db\"]\n",
    "        \n",
    "        w = w - lr_alpha*dw\n",
    "        b = b - lr_alpha*db\n",
    "        if i % 100 == 0:\n",
    "            costs.append(cost)\n",
    "        params = {\"w\" : w, \"b\" : b}\n",
    "    return params, costs"
   ]
  },
  {
   "cell_type": "code",
   "execution_count": 26,
   "metadata": {},
   "outputs": [],
   "source": [
    "def prediction(w,b,X):\n",
    "    m = X.shape[1] #no of data points\n",
    "    Y_prediction = np.zeros((no_of_classes, m))#prediciton will be one hot encoding for each data\n",
    "    w = w.reshape(no_of_classes, X.shape[0])\n",
    "    b = b.reshape(no_of_classes, 1)\n",
    "    soft = softmax(np.dot(w, X) + b)\n",
    "    #print(logit)\n",
    "    for i in range(soft.shape[1]):\n",
    "        index = np.argmax(soft[:,i].reshape((1, no_of_classes)))\n",
    "        Y_prediction[index, i] = 1\n",
    "    assert(Y_prediction.shape ==(no_of_classes, m))\n",
    "    return Y_prediction"
   ]
  },
  {
   "cell_type": "code",
   "execution_count": 25,
   "metadata": {},
   "outputs": [
    {
     "name": "stdout",
     "output_type": "stream",
     "text": [
      "0\n",
      "0\n",
      "0\n",
      "1\n",
      "0\n"
     ]
    }
   ],
   "source": [
    "x = np.array([[1,3,55,23,2],[1,2,44,55,2]])\n",
    "for i in range(x.shape[1]):\n",
    "    print(np.argmax(x[:, i].reshape(1,2)))"
   ]
  },
  {
   "cell_type": "code",
   "execution_count": null,
   "metadata": {},
   "outputs": [],
   "source": []
  }
 ],
 "metadata": {
  "kernelspec": {
   "display_name": "Python 3",
   "language": "python",
   "name": "python3"
  },
  "language_info": {
   "codemirror_mode": {
    "name": "ipython",
    "version": 3
   },
   "file_extension": ".py",
   "mimetype": "text/x-python",
   "name": "python",
   "nbconvert_exporter": "python",
   "pygments_lexer": "ipython3",
   "version": "3.7.6"
  }
 },
 "nbformat": 4,
 "nbformat_minor": 4
}
