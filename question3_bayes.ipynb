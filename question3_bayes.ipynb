{
 "cells": [
  {
   "cell_type": "code",
   "execution_count": 1,
   "metadata": {},
   "outputs": [
    {
     "name": "stdout",
     "output_type": "stream",
     "text": [
      "C:\\Users\\Acer\\Desktop\\sem5\\ell409\\Assignment_1\\Medical_MNIST\n"
     ]
    }
   ],
   "source": [
    "import numpy as np\n",
    "import matplotlib.pyplot as plt\n",
    "from PIL import Image\n",
    "import os\n",
    "import random\n",
    "from sklearn.decomposition import TruncatedSVD\n",
    "from sklearn.model_selection import KFold #only for basic data handling, which was allowed as mentioned on piazza\n",
    "IMAGE_PATH = './Medical_MNIST'\n",
    "print(os.path.abspath(IMAGE_PATH))\n",
    "n_components = 20\n"
   ]
  },
  {
   "cell_type": "code",
   "execution_count": 2,
   "metadata": {},
   "outputs": [],
   "source": [
    "#data_loader\n",
    "\n",
    "#!DEL *.npz\n",
    "from tqdm import tqdm\n",
    "n_folds = 5\n",
    "split = (n_folds-1)/n_folds #using 70:30 split, random each time\n",
    "def data_loader():\n",
    "    X = []\n",
    "    Y = []\n",
    "    \n",
    "    i = 0\n",
    "    for folder in os.listdir(os.path.abspath(IMAGE_PATH)):\n",
    "        IMAGE_DIR = os.path.join(IMAGE_PATH, folder)\n",
    "        print(\"Reading\" + IMAGE_DIR)\n",
    "        files = os.listdir(IMAGE_DIR)\n",
    "\n",
    "        for file in tqdm(files):\n",
    "            X.append((np.asarray(Image.open(os.path.join(IMAGE_DIR, file)))).reshape(-1))\n",
    "            Y.append(i)\n",
    "\n",
    "        i += 1\n",
    "    print('Completed Loading Data. Saving as np file so that can directy load array nexttime')\n",
    "    np.savez('q3datav2.npz', X = np.array(X), Y = np.array(Y))\n",
    "    return np.array(X), np.array(Y)\n",
    "\n",
    "if 'q3datav2.npz' in os.listdir('./'):\n",
    "    zfile = np.load('q3datav2.npz')\n",
    "    X_ = zfile['X']\n",
    "    Y_ = zfile['Y']\n",
    "else:\n",
    "    X_, Y_ = data_loader()"
   ]
  },
  {
   "cell_type": "code",
   "execution_count": 3,
   "metadata": {},
   "outputs": [],
   "source": [
    "h, w = 64, 64\n",
    "n_classes = 6\n",
    "def fastpca(X, n_pc):\n",
    "    n_samples, n_features = X.shape\n",
    "    mean = np.mean(X, axis=0)\n",
    "    centered_data = X-mean\n",
    "    svd = TruncatedSVD(n_components=n_pc, n_iter=7, random_state=42)\n",
    "    svd.fit(X)\n",
    "    #U, S, V = np.linalg.svd(centered_data)\n",
    "    components = svd.components_\n",
    "    #projected = U[:,:n_pc]*S[:n_pc]\n",
    "    projected = svd.transform(X)\n",
    "    return projected, components, mean, centered_data\n"
   ]
  },
  {
   "cell_type": "code",
   "execution_count": 4,
   "metadata": {},
   "outputs": [
    {
     "name": "stderr",
     "output_type": "stream",
     "text": [
      "C:\\Users\\Acer\\Anaconda3\\lib\\site-packages\\ipykernel_launcher.py:21: FutureWarning: Using a non-tuple sequence for multidimensional indexing is deprecated; use `arr[tuple(seq)]` instead of `arr[seq]`. In the future this will be interpreted as an array index, `arr[np.array(seq)]`, which will result either in an error or a different result.\n",
      "C:\\Users\\Acer\\Anaconda3\\lib\\site-packages\\ipykernel_launcher.py:22: FutureWarning: Using a non-tuple sequence for multidimensional indexing is deprecated; use `arr[tuple(seq)]` instead of `arr[seq]`. In the future this will be interpreted as an array index, `arr[np.array(seq)]`, which will result either in an error or a different result.\n",
      "100%|██████████████████████████████████████████████████████████████████████████████████████████████████████████████████████████████| 11791/11791 [00:05<00:00, 2069.56it/s]\n"
     ]
    },
    {
     "name": "stdout",
     "output_type": "stream",
     "text": [
      "1 fold done.\n"
     ]
    },
    {
     "name": "stderr",
     "output_type": "stream",
     "text": [
      "C:\\Users\\Acer\\Anaconda3\\lib\\site-packages\\ipykernel_launcher.py:21: FutureWarning: Using a non-tuple sequence for multidimensional indexing is deprecated; use `arr[tuple(seq)]` instead of `arr[seq]`. In the future this will be interpreted as an array index, `arr[np.array(seq)]`, which will result either in an error or a different result.\n",
      "C:\\Users\\Acer\\Anaconda3\\lib\\site-packages\\ipykernel_launcher.py:22: FutureWarning: Using a non-tuple sequence for multidimensional indexing is deprecated; use `arr[tuple(seq)]` instead of `arr[seq]`. In the future this will be interpreted as an array index, `arr[np.array(seq)]`, which will result either in an error or a different result.\n",
      "100%|██████████████████████████████████████████████████████████████████████████████████████████████████████████████████████████████| 11791/11791 [00:10<00:00, 1146.21it/s]\n"
     ]
    },
    {
     "name": "stdout",
     "output_type": "stream",
     "text": [
      "2 fold done.\n"
     ]
    },
    {
     "name": "stderr",
     "output_type": "stream",
     "text": [
      "C:\\Users\\Acer\\Anaconda3\\lib\\site-packages\\ipykernel_launcher.py:21: FutureWarning: Using a non-tuple sequence for multidimensional indexing is deprecated; use `arr[tuple(seq)]` instead of `arr[seq]`. In the future this will be interpreted as an array index, `arr[np.array(seq)]`, which will result either in an error or a different result.\n",
      "C:\\Users\\Acer\\Anaconda3\\lib\\site-packages\\ipykernel_launcher.py:22: FutureWarning: Using a non-tuple sequence for multidimensional indexing is deprecated; use `arr[tuple(seq)]` instead of `arr[seq]`. In the future this will be interpreted as an array index, `arr[np.array(seq)]`, which will result either in an error or a different result.\n",
      "100%|██████████████████████████████████████████████████████████████████████████████████████████████████████████████████████████████| 11791/11791 [00:06<00:00, 1801.00it/s]\n"
     ]
    },
    {
     "name": "stdout",
     "output_type": "stream",
     "text": [
      "3 fold done.\n"
     ]
    },
    {
     "name": "stderr",
     "output_type": "stream",
     "text": [
      "C:\\Users\\Acer\\Anaconda3\\lib\\site-packages\\ipykernel_launcher.py:21: FutureWarning: Using a non-tuple sequence for multidimensional indexing is deprecated; use `arr[tuple(seq)]` instead of `arr[seq]`. In the future this will be interpreted as an array index, `arr[np.array(seq)]`, which will result either in an error or a different result.\n",
      "C:\\Users\\Acer\\Anaconda3\\lib\\site-packages\\ipykernel_launcher.py:22: FutureWarning: Using a non-tuple sequence for multidimensional indexing is deprecated; use `arr[tuple(seq)]` instead of `arr[seq]`. In the future this will be interpreted as an array index, `arr[np.array(seq)]`, which will result either in an error or a different result.\n",
      "100%|██████████████████████████████████████████████████████████████████████████████████████████████████████████████████████████████| 11791/11791 [00:08<00:00, 1385.05it/s]\n"
     ]
    },
    {
     "name": "stdout",
     "output_type": "stream",
     "text": [
      "4 fold done.\n"
     ]
    },
    {
     "name": "stderr",
     "output_type": "stream",
     "text": [
      "C:\\Users\\Acer\\Anaconda3\\lib\\site-packages\\ipykernel_launcher.py:21: FutureWarning: Using a non-tuple sequence for multidimensional indexing is deprecated; use `arr[tuple(seq)]` instead of `arr[seq]`. In the future this will be interpreted as an array index, `arr[np.array(seq)]`, which will result either in an error or a different result.\n",
      "C:\\Users\\Acer\\Anaconda3\\lib\\site-packages\\ipykernel_launcher.py:22: FutureWarning: Using a non-tuple sequence for multidimensional indexing is deprecated; use `arr[tuple(seq)]` instead of `arr[seq]`. In the future this will be interpreted as an array index, `arr[np.array(seq)]`, which will result either in an error or a different result.\n",
      "100%|██████████████████████████████████████████████████████████████████████████████████████████████████████████████████████████████| 11790/11790 [00:06<00:00, 1806.11it/s]\n"
     ]
    },
    {
     "name": "stdout",
     "output_type": "stream",
     "text": [
      "5 fold done.\n"
     ]
    }
   ],
   "source": [
    "kf = KFold(n_splits=n_folds, shuffle=True, random_state=42)\n",
    "CONF = []\n",
    "n_iter = 1\n",
    "for train_index, test_index in kf.split(X_):\n",
    "    X = X_[train_index]; Y = Y_[train_index]\n",
    "    X_test = X_[test_index]; Y_test = Y_[test_index]\n",
    "    #performing PCA on training data\n",
    "    X_red, C, M, X_centered=fastpca(X, n_pc=n_components)\n",
    "    \n",
    "    assert(X_red.shape[0] == X.shape[0])\n",
    "    assert(X.shape[0] == Y.shape[0])\n",
    "    assert(X.shape[0] != X_.shape[0])\n",
    "    n_classes = 6\n",
    "    #we assume that the data is zero mean anyways(we centre the data anyways.)\n",
    "    #Assuming equal prior\n",
    "    \n",
    "    P = np.ones(n_classes, dtype=np.float64)/n_classes\n",
    "    S = np.zeros((6, n_components, n_components) )\n",
    "    U = np.zeros((6, n_components))\n",
    "    for i in range(len(P)):\n",
    "        S[i] = np.cov(X_red[[Y==i]], rowvar=False)\n",
    "        U[i] = np.mean(X_red[[Y==i]], axis=0)        \n",
    "    def bayes(x, P):\n",
    "        k = 0\n",
    "        A = np.eye(n_components)*1e-3\n",
    "        maxval = np.log(P[0]) - 0.5*np.log(np.linalg.det(S[0] @ A)) - 0.5*(x-U[0])@np.linalg.inv(S[0])@(x-U[0]).T\n",
    "        for i in range(1, len(P)):\n",
    "            testval = np.log(P[i]) - 0.5*np.log(np.linalg.det(S[i] @ A)) - 0.5*(x-U[i])@np.linalg.inv(S[i])@(x-U[i]).T\n",
    "            if testval > maxval:\n",
    "                k = i\n",
    "                maxval = testval\n",
    "        return k\n",
    "    \n",
    "    \n",
    "    conf = np.zeros((n_classes, n_classes))\n",
    "    P = np.ones(n_classes)/n_classes\n",
    "\n",
    "    for i in tqdm(range(X_test.shape[0])):\n",
    "        x = X_test[i]\n",
    "        x_red = (x) @ C.T\n",
    "        y = bayes(x_red, P)\n",
    "        conf[y, Y_test[i]] += 1\n",
    "    \n",
    "    CONF.append(conf)\n",
    "    print(f'{n_iter} fold done.')\n",
    "    n_iter += 1\n",
    "\n",
    "\n",
    "    "
   ]
  },
  {
   "cell_type": "code",
   "execution_count": 5,
   "metadata": {},
   "outputs": [
    {
     "data": {
      "text/plain": [
       "[array([[2036.,    0.,    0.,    0.,    0.,    0.],\n",
       "        [   0., 1751.,    0.,    0.,    0.,    0.],\n",
       "        [   0.,    0., 1963.,    0.,    0.,    0.],\n",
       "        [   0.,    0.,    0., 1979.,   19.,    0.],\n",
       "        [   9.,    0.,    0.,   10., 2004.,    7.],\n",
       "        [   0.,    0.,    0.,    0.,    0., 2013.]]),\n",
       " array([[2.022e+03, 0.000e+00, 0.000e+00, 0.000e+00, 0.000e+00, 0.000e+00],\n",
       "        [0.000e+00, 1.812e+03, 0.000e+00, 0.000e+00, 1.000e+00, 0.000e+00],\n",
       "        [0.000e+00, 0.000e+00, 1.972e+03, 0.000e+00, 0.000e+00, 0.000e+00],\n",
       "        [0.000e+00, 0.000e+00, 0.000e+00, 2.029e+03, 2.500e+01, 0.000e+00],\n",
       "        [6.000e+00, 0.000e+00, 1.000e+00, 1.000e+01, 1.925e+03, 6.000e+00],\n",
       "        [0.000e+00, 0.000e+00, 0.000e+00, 0.000e+00, 0.000e+00, 1.982e+03]]),\n",
       " array([[1.942e+03, 0.000e+00, 0.000e+00, 0.000e+00, 0.000e+00, 0.000e+00],\n",
       "        [0.000e+00, 1.777e+03, 0.000e+00, 0.000e+00, 0.000e+00, 0.000e+00],\n",
       "        [0.000e+00, 0.000e+00, 1.948e+03, 0.000e+00, 0.000e+00, 0.000e+00],\n",
       "        [0.000e+00, 0.000e+00, 0.000e+00, 2.058e+03, 2.500e+01, 1.000e+00],\n",
       "        [2.000e+00, 0.000e+00, 0.000e+00, 1.100e+01, 2.047e+03, 5.000e+00],\n",
       "        [0.000e+00, 0.000e+00, 0.000e+00, 0.000e+00, 1.000e+00, 1.974e+03]]),\n",
       " array([[1.972e+03, 0.000e+00, 0.000e+00, 0.000e+00, 0.000e+00, 0.000e+00],\n",
       "        [0.000e+00, 1.802e+03, 0.000e+00, 0.000e+00, 0.000e+00, 0.000e+00],\n",
       "        [0.000e+00, 0.000e+00, 2.037e+03, 0.000e+00, 0.000e+00, 0.000e+00],\n",
       "        [0.000e+00, 0.000e+00, 0.000e+00, 1.933e+03, 2.100e+01, 0.000e+00],\n",
       "        [6.000e+00, 0.000e+00, 2.000e+00, 6.000e+00, 1.965e+03, 8.000e+00],\n",
       "        [0.000e+00, 0.000e+00, 0.000e+00, 0.000e+00, 0.000e+00, 2.039e+03]]),\n",
       " array([[2.001e+03, 0.000e+00, 0.000e+00, 0.000e+00, 0.000e+00, 0.000e+00],\n",
       "        [0.000e+00, 1.812e+03, 0.000e+00, 0.000e+00, 0.000e+00, 0.000e+00],\n",
       "        [0.000e+00, 0.000e+00, 2.073e+03, 0.000e+00, 0.000e+00, 0.000e+00],\n",
       "        [0.000e+00, 0.000e+00, 0.000e+00, 1.943e+03, 2.400e+01, 0.000e+00],\n",
       "        [4.000e+00, 0.000e+00, 4.000e+00, 2.100e+01, 1.942e+03, 9.000e+00],\n",
       "        [0.000e+00, 0.000e+00, 0.000e+00, 0.000e+00, 1.000e+00, 1.956e+03]])]"
      ]
     },
     "execution_count": 5,
     "metadata": {},
     "output_type": "execute_result"
    }
   ],
   "source": [
    "CONF"
   ]
  },
  {
   "cell_type": "code",
   "execution_count": 6,
   "metadata": {},
   "outputs": [
    {
     "data": {
      "image/png": "[encoded data removed]",
      "text/plain": [
       "<Figure size 432x288 with 1 Axes>"
      ]
     },
     "metadata": {
      "needs_background": "light"
     },
     "output_type": "display_data"
    }
   ],
   "source": [
    "conf_ = np.mean(CONF, axis=0)\n",
    "conf = conf_.T\n",
    "conf = conf/np.sum(conf, axis=1)\n",
    "plt.imshow(conf)\n",
    "classes = ['AbdCT', 'BreastMRI', 'ChestCT', 'CXR', 'Hand', 'Head']\n",
    "plt.ylabel('$Y_{true}$')\n",
    "plt.xlabel('Y$_{pred}$')\n",
    "plt.xticks(np.arange(n_classes), classes)\n",
    "plt.yticks(np.arange(n_classes), classes)\n",
    "for i in range(conf.shape[0]):\n",
    "    for j in range(conf.shape[1]):\n",
    "        plt.text(j, i, \"{:0.2f}\".format(float(conf[i][j]*100)), horizontalalignment='center', bbox = dict(facecolor='white',alpha=0.8))"
   ]
  },
  {
   "cell_type": "code",
   "execution_count": 7,
   "metadata": {},
   "outputs": [
    {
     "name": "stdout",
     "output_type": "stream",
     "text": [
      "Accuracy = 99.584\n",
      "AbdCT: p = 100.000, r = 99.730, f = 99.865\n",
      "BreastMRI: p = 99.989, r = 100.000, f = 99.994\n",
      "ChestCT: p = 100.000, r = 99.930, f = 99.965\n",
      "CXR: p = 98.857, r = 99.420, f = 99.137\n",
      "Hand: p = 98.731, r = 98.830, f = 98.781\n",
      "Head: p = 99.980, r = 99.640, f = 99.810\n",
      "Macro-F1 score = 99.592\n"
     ]
    }
   ],
   "source": [
    "#TODO: calculate average precision, recall for each class and f1 score.\n",
    "#per class precission, recall\n",
    "diag = np.arange(n_classes)\n",
    "acc = np.sum(conf_[diag, diag])/np.sum(conf_)*100\n",
    "\n",
    "print('Accuracy = {:0.3f}'.format(acc))\n",
    "\n",
    "#per class precision, recall\n",
    "P = []\n",
    "R = []\n",
    "F = []\n",
    "for i in range(n_classes):\n",
    "    P.append(conf_[i,i]/np.sum(conf_[i,:]))\n",
    "    R.append(conf_[i,i]/np.sum(conf_[:,i]))\n",
    "    F.append(2*P[i]*R[i]/(P[i] + R[i]))\n",
    "    print('{}: p = {:0.3f}, r = {:0.3f}, f = {:0.3f}'.format(classes[i], P[i]*100, R[i]*100, F[i]*100))\n",
    "macro_f = sum(F)/len(F)\n",
    "print('Macro-F1 score = {:0.3f}'.format(macro_f*100))"
   ]
  }
 ],
 "metadata": {
  "kernelspec": {
   "display_name": "Python 3",
   "language": "python",
   "name": "python3"
  },
  "language_info": {
   "codemirror_mode": {
    "name": "ipython",
    "version": 3
   },
   "file_extension": ".py",
   "mimetype": "text/x-python",
   "name": "python",
   "nbconvert_exporter": "python",
   "pygments_lexer": "ipython3",
   "version": "3.7.4"
  }
 },
 "nbformat": 4,
 "nbformat_minor": 2
}
