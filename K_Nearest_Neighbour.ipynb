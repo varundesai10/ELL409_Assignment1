{
 "cells": [
  {
   "cell_type": "code",
   "execution_count": 52,
   "metadata": {},
   "outputs": [],
   "source": [
    "import numpy as np\n",
    "import pandas as pd\n",
    "import matplotlib.pyplot as plt\n",
    "import math\n",
    "import sklearn"
   ]
  },
  {
   "cell_type": "code",
   "execution_count": 53,
   "metadata": {},
   "outputs": [
    {
     "data": {
      "text/html": [
       "<div>\n",
       "<style scoped>\n",
       "    .dataframe tbody tr th:only-of-type {\n",
       "        vertical-align: middle;\n",
       "    }\n",
       "\n",
       "    .dataframe tbody tr th {\n",
       "        vertical-align: top;\n",
       "    }\n",
       "\n",
       "    .dataframe thead th {\n",
       "        text-align: right;\n",
       "    }\n",
       "</style>\n",
       "<table border=\"1\" class=\"dataframe\">\n",
       "  <thead>\n",
       "    <tr style=\"text-align: right;\">\n",
       "      <th></th>\n",
       "      <th>age</th>\n",
       "      <th>restbps</th>\n",
       "      <th>chol</th>\n",
       "      <th>category</th>\n",
       "    </tr>\n",
       "  </thead>\n",
       "  <tbody>\n",
       "    <tr>\n",
       "      <th>0</th>\n",
       "      <td>26</td>\n",
       "      <td>109</td>\n",
       "      <td>243</td>\n",
       "      <td>0</td>\n",
       "    </tr>\n",
       "    <tr>\n",
       "      <th>1</th>\n",
       "      <td>27</td>\n",
       "      <td>106</td>\n",
       "      <td>156</td>\n",
       "      <td>0</td>\n",
       "    </tr>\n",
       "    <tr>\n",
       "      <th>2</th>\n",
       "      <td>28</td>\n",
       "      <td>107</td>\n",
       "      <td>225</td>\n",
       "      <td>0</td>\n",
       "    </tr>\n",
       "    <tr>\n",
       "      <th>3</th>\n",
       "      <td>27</td>\n",
       "      <td>105</td>\n",
       "      <td>277</td>\n",
       "      <td>0</td>\n",
       "    </tr>\n",
       "    <tr>\n",
       "      <th>4</th>\n",
       "      <td>30</td>\n",
       "      <td>96</td>\n",
       "      <td>221</td>\n",
       "      <td>0</td>\n",
       "    </tr>\n",
       "  </tbody>\n",
       "</table>\n",
       "</div>"
      ],
      "text/plain": [
       "   age  restbps  chol  category\n",
       "0   26      109   243         0\n",
       "1   27      106   156         0\n",
       "2   28      107   225         0\n",
       "3   27      105   277         0\n",
       "4   30       96   221         0"
      ]
     },
     "execution_count": 53,
     "metadata": {},
     "output_type": "execute_result"
    }
   ],
   "source": [
    "data = pd.read_csv('health_data.csv')\n",
    "data.head()"
   ]
  },
  {
   "cell_type": "code",
   "execution_count": 54,
   "metadata": {},
   "outputs": [
    {
     "name": "stderr",
     "output_type": "stream",
     "text": [
      "E:\\Anaconda\\lib\\site-packages\\ipykernel_launcher.py:7: FutureWarning: Using a non-tuple sequence for multidimensional indexing is deprecated; use `arr[tuple(seq)]` instead of `arr[seq]`. In the future this will be interpreted as an array index, `arr[np.array(seq)]`, which will result either in an error or a different result.\n",
      "  import sys\n",
      "E:\\Anaconda\\lib\\site-packages\\ipykernel_launcher.py:8: FutureWarning: Using a non-tuple sequence for multidimensional indexing is deprecated; use `arr[tuple(seq)]` instead of `arr[seq]`. In the future this will be interpreted as an array index, `arr[np.array(seq)]`, which will result either in an error or a different result.\n",
      "  \n",
      "E:\\Anaconda\\lib\\site-packages\\ipykernel_launcher.py:10: FutureWarning: Using a non-tuple sequence for multidimensional indexing is deprecated; use `arr[tuple(seq)]` instead of `arr[seq]`. In the future this will be interpreted as an array index, `arr[np.array(seq)]`, which will result either in an error or a different result.\n",
      "  # Remove the CWD from sys.path while we load stuff.\n",
      "E:\\Anaconda\\lib\\site-packages\\ipykernel_launcher.py:11: FutureWarning: Using a non-tuple sequence for multidimensional indexing is deprecated; use `arr[tuple(seq)]` instead of `arr[seq]`. In the future this will be interpreted as an array index, `arr[np.array(seq)]`, which will result either in an error or a different result.\n",
      "  # This is added back by InteractiveShellApp.init_path()\n"
     ]
    }
   ],
   "source": [
    "X = data.to_numpy()[:, :]\n",
    "Y = data.to_numpy()[:, 3]\n",
    "split = 0.8 #using 70:30 split, random each time\n",
    "train_samples = np.random.choice(X.shape[0], int(split*X.shape[0]))\n",
    "test_samples = np.array([i for i in range(X.shape[0]) if i not in list(train_samples)])\n",
    "\n",
    "X_train = X[[train_samples]]\n",
    "Y_train = Y[[train_samples]]\n",
    "\n",
    "X_test = X[[test_samples]]\n",
    "Y_test = Y[[test_samples]]"
   ]
  },
  {
   "cell_type": "code",
   "execution_count": 55,
   "metadata": {},
   "outputs": [
    {
     "name": "stdout",
     "output_type": "stream",
     "text": [
      "307\n",
      "560\n"
     ]
    }
   ],
   "source": [
    "print(X_test.shape[0])\n",
    "print(X_train.shape[0])"
   ]
  },
  {
   "cell_type": "code",
   "execution_count": 56,
   "metadata": {},
   "outputs": [],
   "source": [
    "no_of_classes = 2;"
   ]
  },
  {
   "cell_type": "code",
   "execution_count": 57,
   "metadata": {},
   "outputs": [],
   "source": [
    "def euclidean_distance(X_1, X_2):\n",
    "    distance_square = np.sum(np.square(X_1 - X_2), axis = 0, keepdims =True)\n",
    "    \n",
    "    return math.sqrt(distance_square)"
   ]
  },
  {
   "cell_type": "code",
   "execution_count": 58,
   "metadata": {},
   "outputs": [],
   "source": [
    "# Locate the most similar k neighbors\n",
    "def get_neighbors(X_train, X, k):\n",
    "    distances = list()\n",
    "    for X_i in X_train:\n",
    "        dist = euclidean_distance(X, X_i)\n",
    "        distances.append((X_i, dist))\n",
    "    distances.sort(key=lambda tup: tup[1])\n",
    "    k_neighbors = list()\n",
    "    for i in range(k):\n",
    "        k_neighbors.append(distances[i][0])\n",
    "    return k_neighbors"
   ]
  },
  {
   "cell_type": "code",
   "execution_count": 59,
   "metadata": {},
   "outputs": [],
   "source": [
    "def predict_classification(X_train, X, k):\n",
    "    k_neighbors = get_neighbors(X_train, X, k)\n",
    "    output_values = [row[-1] for row in k_neighbors]\n",
    "    prediction = max(set(output_values), key=output_values.count)\n",
    "    return prediction"
   ]
  },
  {
   "cell_type": "code",
   "execution_count": 60,
   "metadata": {},
   "outputs": [],
   "source": [
    "def predict_regression(X_train, X, k):\n",
    "    k_neighbors = get_neighbors(X_train, X, k)\n",
    "    output_values = [row[-1] for row in k_neighbors]\n",
    "    prediction = sum(output_values) / float(len(output_values))\n",
    "    return prediction"
   ]
  },
  {
   "cell_type": "code",
   "execution_count": 61,
   "metadata": {},
   "outputs": [],
   "source": [
    "#computing accuracy on test data.\n",
    "C = np.zeros((2,2)) #[[]]\n",
    "for i in range((X_test.shape[0])):\n",
    "    y_pred = predict_classification(X_train, X_test[i], 4)\n",
    "    C[y_pred, Y_test[i]] += 1"
   ]
  },
  {
   "cell_type": "code",
   "execution_count": null,
   "metadata": {},
   "outputs": [],
   "source": [
    "C"
   ]
  },
  {
   "cell_type": "code",
   "execution_count": null,
   "metadata": {},
   "outputs": [],
   "source": [
    "acc = (C[0,0] + C[1,1])/np.sum(C)\n",
    "print(acc)"
   ]
  },
  {
   "cell_type": "code",
   "execution_count": null,
   "metadata": {},
   "outputs": [],
   "source": [
    "neg_predictivity = (C[0,0])/(C[0,0] + C[0,1])\n",
    "neg_predictivity"
   ]
  },
  {
   "cell_type": "code",
   "execution_count": null,
   "metadata": {},
   "outputs": [],
   "source": [
    "precision = (C[1,1])/(C[1,0] + C[1,1])\n",
    "precision"
   ]
  },
  {
   "cell_type": "code",
   "execution_count": null,
   "metadata": {},
   "outputs": [],
   "source": [
    "Recall = (C[0,0])/(C[0,0] + C[1,0])\n",
    "Recall"
   ]
  },
  {
   "cell_type": "code",
   "execution_count": null,
   "metadata": {},
   "outputs": [],
   "source": [
    "Specificity = (C[1,1])/(C[0,1] + C[1,1])\n",
    "Specificity"
   ]
  },
  {
   "cell_type": "code",
   "execution_count": 62,
   "metadata": {},
   "outputs": [
    {
     "name": "stderr",
     "output_type": "stream",
     "text": [
      "100%|██████████| 299/299 [05:40<00:00,  1.14s/it]\n"
     ]
    }
   ],
   "source": [
    "from tqdm import tqdm\n",
    "Precision = []\n",
    "Recall = []\n",
    "ACC = []\n",
    "F1_score = []\n",
    "kk = range(1,300)\n",
    "for k in tqdm(range(1,300)):\n",
    "    C = np.zeros((2,2)) #[[]]\n",
    "    for i in range((X_test.shape[0])):\n",
    "        y_pred = predict_classification(X_train, X_test[i], k)\n",
    "        C[y_pred, Y_test[i]] += 1\n",
    "    acc = (C[0,0] + C[1,1])/np.sum(C) \n",
    "    pr = C[1,1]/(C[1,1] + C[1,0])\n",
    "    rec = C[1,1]/(C[1,1] + C[0,1])\n",
    "    f1 = 2*(pr*rec)/(pr + rec)\n",
    "    Precision.append(pr)\n",
    "    Recall.append(rec)\n",
    "    F1_score.append(f1)\n",
    "    ACC.append(acc)\n",
    "#plt.xlabel('False Positive Rate'); plt.ylabel('True Positive Rate'); plt.title('ROC curve');"
   ]
  },
  {
   "cell_type": "code",
   "execution_count": 65,
   "metadata": {},
   "outputs": [
    {
     "data": {
      "image/png": "[encoded data removed]",
      "text/plain": [
       "<Figure size 432x288 with 1 Axes>"
      ]
     },
     "metadata": {
      "needs_background": "light"
     },
     "output_type": "display_data"
    }
   ],
   "source": [
    "plt.plot(kk[:50], ACC[:50], '-')\n",
    "plt.xlabel('k_value'); plt.ylabel('ACCURACY'); plt.title('ACCURACY VS K curve');"
   ]
  },
  {
   "cell_type": "code",
   "execution_count": 66,
   "metadata": {},
   "outputs": [
    {
     "data": {
      "image/png": "[encoded data removed]",
      "text/plain": [
       "<Figure size 432x288 with 1 Axes>"
      ]
     },
     "metadata": {
      "needs_background": "light"
     },
     "output_type": "display_data"
    }
   ],
   "source": [
    "plt.plot(kk[:50], Recall[:50], '-')\n",
    "plt.xlabel('k_value'); plt.ylabel('RECALL'); plt.title('RECALL VS K curve');"
   ]
  },
  {
   "cell_type": "code",
   "execution_count": 67,
   "metadata": {},
   "outputs": [
    {
     "data": {
      "image/png": "[encoded data removed]",
      "text/plain": [
       "<Figure size 432x288 with 1 Axes>"
      ]
     },
     "metadata": {
      "needs_background": "light"
     },
     "output_type": "display_data"
    }
   ],
   "source": [
    "plt.plot(kk[:50], Precision[:50], '-')\n",
    "plt.xlabel('k_value'); plt.ylabel('PRECISION'); plt.title('PRECISION VS K curve');"
   ]
  },
  {
   "cell_type": "code",
   "execution_count": 68,
   "metadata": {},
   "outputs": [
    {
     "data": {
      "image/png": "[encoded data removed]",
      "text/plain": [
       "<Figure size 432x288 with 1 Axes>"
      ]
     },
     "metadata": {
      "needs_background": "light"
     },
     "output_type": "display_data"
    }
   ],
   "source": [
    "plt.plot(kk[:50], F1_score[:50], '-')\n",
    "plt.xlabel('k_value'); plt.ylabel('F1_SCORE'); plt.title('F1_SCORE VS K curve');"
   ]
  },
  {
   "cell_type": "markdown",
   "metadata": {},
   "source": [
    "## Question2"
   ]
  },
  {
   "cell_type": "code",
   "execution_count": 35,
   "metadata": {},
   "outputs": [
    {
     "data": {
      "text/html": [
       "<div>\n",
       "<style scoped>\n",
       "    .dataframe tbody tr th:only-of-type {\n",
       "        vertical-align: middle;\n",
       "    }\n",
       "\n",
       "    .dataframe tbody tr th {\n",
       "        vertical-align: top;\n",
       "    }\n",
       "\n",
       "    .dataframe thead th {\n",
       "        text-align: right;\n",
       "    }\n",
       "</style>\n",
       "<table border=\"1\" class=\"dataframe\">\n",
       "  <thead>\n",
       "    <tr style=\"text-align: right;\">\n",
       "      <th></th>\n",
       "      <th>dewptc</th>\n",
       "      <th>hum</th>\n",
       "      <th>wndspd</th>\n",
       "      <th>pressure</th>\n",
       "      <th>rain</th>\n",
       "      <th>smoke</th>\n",
       "      <th>temp</th>\n",
       "    </tr>\n",
       "  </thead>\n",
       "  <tbody>\n",
       "    <tr>\n",
       "      <th>0</th>\n",
       "      <td>28</td>\n",
       "      <td>59</td>\n",
       "      <td>20</td>\n",
       "      <td>1008</td>\n",
       "      <td>0</td>\n",
       "      <td>0</td>\n",
       "      <td>20</td>\n",
       "    </tr>\n",
       "    <tr>\n",
       "      <th>1</th>\n",
       "      <td>48</td>\n",
       "      <td>61</td>\n",
       "      <td>10</td>\n",
       "      <td>1012</td>\n",
       "      <td>1</td>\n",
       "      <td>0</td>\n",
       "      <td>21</td>\n",
       "    </tr>\n",
       "    <tr>\n",
       "      <th>2</th>\n",
       "      <td>24</td>\n",
       "      <td>53</td>\n",
       "      <td>3</td>\n",
       "      <td>1001</td>\n",
       "      <td>0</td>\n",
       "      <td>0</td>\n",
       "      <td>16</td>\n",
       "    </tr>\n",
       "    <tr>\n",
       "      <th>3</th>\n",
       "      <td>17</td>\n",
       "      <td>54</td>\n",
       "      <td>8</td>\n",
       "      <td>1002</td>\n",
       "      <td>0</td>\n",
       "      <td>0</td>\n",
       "      <td>16</td>\n",
       "    </tr>\n",
       "    <tr>\n",
       "      <th>4</th>\n",
       "      <td>27</td>\n",
       "      <td>51</td>\n",
       "      <td>5</td>\n",
       "      <td>1007</td>\n",
       "      <td>0</td>\n",
       "      <td>0</td>\n",
       "      <td>14</td>\n",
       "    </tr>\n",
       "  </tbody>\n",
       "</table>\n",
       "</div>"
      ],
      "text/plain": [
       "   dewptc  hum  wndspd  pressure  rain  smoke  temp\n",
       "0      28   59      20      1008     0      0    20\n",
       "1      48   61      10      1012     1      0    21\n",
       "2      24   53       3      1001     0      0    16\n",
       "3      17   54       8      1002     0      0    16\n",
       "4      27   51       5      1007     0      0    14"
      ]
     },
     "execution_count": 35,
     "metadata": {},
     "output_type": "execute_result"
    }
   ],
   "source": [
    "df = pd.read_excel('weather_data.xlsx')\n",
    "df.head()"
   ]
  },
  {
   "cell_type": "code",
   "execution_count": 36,
   "metadata": {},
   "outputs": [
    {
     "name": "stderr",
     "output_type": "stream",
     "text": [
      "E:\\Anaconda\\lib\\site-packages\\ipykernel_launcher.py:7: FutureWarning: Using a non-tuple sequence for multidimensional indexing is deprecated; use `arr[tuple(seq)]` instead of `arr[seq]`. In the future this will be interpreted as an array index, `arr[np.array(seq)]`, which will result either in an error or a different result.\n",
      "  import sys\n",
      "E:\\Anaconda\\lib\\site-packages\\ipykernel_launcher.py:9: FutureWarning: Using a non-tuple sequence for multidimensional indexing is deprecated; use `arr[tuple(seq)]` instead of `arr[seq]`. In the future this will be interpreted as an array index, `arr[np.array(seq)]`, which will result either in an error or a different result.\n",
      "  if __name__ == '__main__':\n",
      "E:\\Anaconda\\lib\\site-packages\\ipykernel_launcher.py:10: FutureWarning: Using a non-tuple sequence for multidimensional indexing is deprecated; use `arr[tuple(seq)]` instead of `arr[seq]`. In the future this will be interpreted as an array index, `arr[np.array(seq)]`, which will result either in an error or a different result.\n",
      "  # Remove the CWD from sys.path while we load stuff.\n"
     ]
    }
   ],
   "source": [
    "X_2 = df.to_numpy()[:, :]\n",
    "Y_2 = df.to_numpy()[:, 6]\n",
    "split = 0.8 #using 70:30 split, random each time\n",
    "train_samples = np.random.choice(X_2.shape[0], int(split*X_2.shape[0]))\n",
    "test_samples = np.array([i for i in range(X_2.shape[0]) if i not in list(train_samples)])\n",
    "\n",
    "X_train_2 = X_2[[train_samples]]\n",
    "\n",
    "X_test_2 = X_2[[test_samples]]\n",
    "Y_test_2 = Y_2[[test_samples]]"
   ]
  },
  {
   "cell_type": "code",
   "execution_count": 37,
   "metadata": {},
   "outputs": [],
   "source": [
    "y_predict = []\n",
    "for i in range((X_test_2.shape[0])):\n",
    "    y_pred = predict_regression(X_train_2, X_test_2[i], 4)\n",
    "    y_predict.append(y_pred)"
   ]
  },
  {
   "cell_type": "code",
   "execution_count": 39,
   "metadata": {},
   "outputs": [
    {
     "data": {
      "text/plain": [
       "[15.25,\n",
       " 13.5,\n",
       " 23.5,\n",
       " 23.75,\n",
       " 13.25,\n",
       " 28.75,\n",
       " 8.5,\n",
       " 15.0,\n",
       " 11.0,\n",
       " 15.0,\n",
       " 14.25,\n",
       " 6.25,\n",
       " 11.5,\n",
       " 4.25,\n",
       " 6.25,\n",
       " 12.5,\n",
       " 15.75,\n",
       " 17.75,\n",
       " 21.5,\n",
       " 19.75,\n",
       " 18.25,\n",
       " 4.5,\n",
       " 19.0,\n",
       " 8.75,\n",
       " 20.0,\n",
       " 8.5,\n",
       " 21.5,\n",
       " 14.0,\n",
       " 12.0,\n",
       " 15.25,\n",
       " 4.75,\n",
       " 10.75,\n",
       " 2.25,\n",
       " 3.5,\n",
       " 11.75,\n",
       " 11.0,\n",
       " 2.0,\n",
       " 7.75,\n",
       " 7.0,\n",
       " 8.5,\n",
       " 5.0,\n",
       " 7.0,\n",
       " 7.25,\n",
       " 12.25,\n",
       " 12.5,\n",
       " 12.0,\n",
       " 19.5,\n",
       " 24.5,\n",
       " 18.25,\n",
       " 19.75,\n",
       " 7.25,\n",
       " 20.0,\n",
       " 5.5,\n",
       " 14.0,\n",
       " 27.5,\n",
       " 11.75,\n",
       " 32.5,\n",
       " 10.75,\n",
       " 5.75,\n",
       " 4.0,\n",
       " 9.0,\n",
       " 4.5,\n",
       " 8.25,\n",
       " 5.75,\n",
       " 32.75,\n",
       " 15.75,\n",
       " 19.5,\n",
       " 13.25,\n",
       " 28.75,\n",
       " 23.5,\n",
       " 36.25,\n",
       " 9.25,\n",
       " 39.25,\n",
       " 18.75,\n",
       " 5.0,\n",
       " 14.75,\n",
       " 11.5,\n",
       " 15.5,\n",
       " 20.5,\n",
       " 16.75,\n",
       " 16.0,\n",
       " 4.5,\n",
       " 35.5,\n",
       " 23.0,\n",
       " 2.0,\n",
       " 13.0,\n",
       " 18.75,\n",
       " 15.75,\n",
       " 15.0,\n",
       " 14.5,\n",
       " 4.5,\n",
       " 3.75,\n",
       " 17.75,\n",
       " 10.75,\n",
       " 16.5,\n",
       " 19.75,\n",
       " 15.0,\n",
       " 5.25,\n",
       " 4.25,\n",
       " 9.0,\n",
       " 8.75,\n",
       " 9.75,\n",
       " 12.0,\n",
       " 11.5,\n",
       " 9.25,\n",
       " 7.5,\n",
       " 6.0,\n",
       " 14.25,\n",
       " 11.5,\n",
       " 12.75,\n",
       " 12.75,\n",
       " 18.25,\n",
       " 16.5,\n",
       " 37.25,\n",
       " 7.25,\n",
       " 29.0,\n",
       " 16.75,\n",
       " 10.0,\n",
       " 6.0,\n",
       " 21.5,\n",
       " 29.5,\n",
       " 16.25,\n",
       " 20.0,\n",
       " 16.0,\n",
       " 18.0,\n",
       " 18.0,\n",
       " 29.5,\n",
       " 9.5,\n",
       " 20.25,\n",
       " 12.0,\n",
       " 30.75,\n",
       " 17.0,\n",
       " 6.75,\n",
       " 7.5,\n",
       " 18.5,\n",
       " 17.25,\n",
       " 5.75,\n",
       " 23.0,\n",
       " 22.25,\n",
       " 27.25,\n",
       " 18.75,\n",
       " 13.0,\n",
       " 21.5,\n",
       " 15.0,\n",
       " 26.25,\n",
       " 2.0,\n",
       " 22.5,\n",
       " 22.0,\n",
       " 13.0,\n",
       " 14.5,\n",
       " 18.5,\n",
       " 15.25,\n",
       " 12.25,\n",
       " 31.0,\n",
       " 9.25,\n",
       " 12.25,\n",
       " 23.0,\n",
       " 11.5,\n",
       " 18.5,\n",
       " 11.5,\n",
       " 5.0,\n",
       " 9.5,\n",
       " 29.5,\n",
       " 8.75,\n",
       " 5.5,\n",
       " 9.75,\n",
       " 8.0,\n",
       " 19.25,\n",
       " 23.5,\n",
       " 26.75,\n",
       " 8.0,\n",
       " 1.75,\n",
       " 27.25,\n",
       " 8.0,\n",
       " 8.75,\n",
       " 23.25,\n",
       " 17.5,\n",
       " 11.25,\n",
       " 18.25,\n",
       " 7.75,\n",
       " 6.5,\n",
       " 13.25,\n",
       " 24.25,\n",
       " 19.75,\n",
       " 14.75,\n",
       " 13.0,\n",
       " 11.5,\n",
       " 15.5,\n",
       " 10.75,\n",
       " 36.0,\n",
       " 14.5,\n",
       " 20.5,\n",
       " 6.25,\n",
       " 35.25,\n",
       " 4.5,\n",
       " 26.25,\n",
       " 9.25,\n",
       " 6.0,\n",
       " 24.0,\n",
       " 13.5,\n",
       " 27.5,\n",
       " 17.25,\n",
       " 10.75,\n",
       " 17.25,\n",
       " 18.0,\n",
       " 4.0,\n",
       " 14.0,\n",
       " 4.75,\n",
       " 4.25,\n",
       " 5.5,\n",
       " 10.75,\n",
       " 22.25,\n",
       " 12.5,\n",
       " 15.75,\n",
       " 13.75,\n",
       " 13.0,\n",
       " 11.25,\n",
       " 10.0,\n",
       " 18.5,\n",
       " 2.0,\n",
       " 17.75,\n",
       " 22.25,\n",
       " 30.0,\n",
       " 13.75,\n",
       " 20.5,\n",
       " 11.5,\n",
       " 21.75,\n",
       " 16.5,\n",
       " 23.25,\n",
       " 7.25,\n",
       " 21.5,\n",
       " 19.0,\n",
       " 15.25,\n",
       " 4.0,\n",
       " 11.25,\n",
       " 3.75,\n",
       " 4.5,\n",
       " 35.25,\n",
       " 13.5,\n",
       " 20.75,\n",
       " 7.25,\n",
       " 19.0,\n",
       " 16.0,\n",
       " 14.5,\n",
       " 6.5,\n",
       " 8.25,\n",
       " 21.25,\n",
       " 12.75,\n",
       " 5.0,\n",
       " 2.25,\n",
       " 6.75,\n",
       " 17.25,\n",
       " 15.25,\n",
       " 7.25,\n",
       " 5.75,\n",
       " 6.25,\n",
       " 7.0,\n",
       " 2.0,\n",
       " 7.5,\n",
       " 27.25,\n",
       " 29.75,\n",
       " 6.25,\n",
       " 8.5,\n",
       " 11.25,\n",
       " 0.0,\n",
       " 18.75,\n",
       " 12.5,\n",
       " 9.75,\n",
       " 10.5,\n",
       " 7.5,\n",
       " 15.5,\n",
       " 6.25,\n",
       " 18.0,\n",
       " 18.0,\n",
       " 10.75,\n",
       " 14.5,\n",
       " 15.25,\n",
       " 29.5,\n",
       " 19.5,\n",
       " 6.5,\n",
       " 13.5,\n",
       " 15.25,\n",
       " 9.75,\n",
       " 9.25,\n",
       " 6.75,\n",
       " 2.25,\n",
       " 16.0,\n",
       " 20.5,\n",
       " 29.0,\n",
       " 9.75,\n",
       " 25.25,\n",
       " 5.25,\n",
       " 1.5,\n",
       " 14.75,\n",
       " 7.5,\n",
       " 27.75,\n",
       " 6.5,\n",
       " 29.5,\n",
       " 15.75,\n",
       " 27.0,\n",
       " 7.0,\n",
       " 15.5,\n",
       " 14.5,\n",
       " 12.75,\n",
       " 34.25,\n",
       " 19.5,\n",
       " 6.0,\n",
       " 7.0,\n",
       " 14.25,\n",
       " 15.75,\n",
       " 13.75,\n",
       " 19.5,\n",
       " 8.0,\n",
       " 18.0,\n",
       " 8.0,\n",
       " 38.75,\n",
       " 37.5,\n",
       " 24.0,\n",
       " 11.5,\n",
       " 17.0,\n",
       " 15.25,\n",
       " 18.0,\n",
       " 16.0,\n",
       " 12.5,\n",
       " 15.0,\n",
       " 15.75,\n",
       " 15.5,\n",
       " 34.0,\n",
       " 7.5,\n",
       " 15.0,\n",
       " 2.25,\n",
       " 7.5,\n",
       " 16.75,\n",
       " 22.5,\n",
       " 26.5,\n",
       " 30.25,\n",
       " 16.25,\n",
       " 2.0,\n",
       " 12.25,\n",
       " 9.25,\n",
       " 30.5,\n",
       " 17.5,\n",
       " 21.0,\n",
       " 9.0,\n",
       " 12.25,\n",
       " 17.0,\n",
       " 19.0,\n",
       " 4.0,\n",
       " 11.0,\n",
       " 5.5,\n",
       " 12.0,\n",
       " 17.5,\n",
       " 6.5,\n",
       " 4.25,\n",
       " 1.75,\n",
       " 31.0,\n",
       " 13.5,\n",
       " 13.5,\n",
       " 8.0,\n",
       " 27.25,\n",
       " 23.0,\n",
       " 16.75,\n",
       " 9.25,\n",
       " 11.25,\n",
       " 11.0,\n",
       " 9.0,\n",
       " 6.0,\n",
       " 21.5,\n",
       " 13.0,\n",
       " 10.0,\n",
       " 8.75,\n",
       " 34.0,\n",
       " 15.25,\n",
       " 27.75,\n",
       " 20.25,\n",
       " 6.75,\n",
       " 14.5,\n",
       " 13.75,\n",
       " 6.0,\n",
       " 21.25,\n",
       " 18.0,\n",
       " 34.0,\n",
       " 11.0,\n",
       " 16.0,\n",
       " 6.5,\n",
       " 31.75,\n",
       " 11.5,\n",
       " 17.75,\n",
       " 24.5,\n",
       " 19.75,\n",
       " 18.75,\n",
       " 27.5,\n",
       " 7.5,\n",
       " 9.0,\n",
       " 4.0,\n",
       " 16.5,\n",
       " 15.75,\n",
       " 19.5,\n",
       " 18.0,\n",
       " 11.75,\n",
       " 4.0,\n",
       " 13.0,\n",
       " 22.25,\n",
       " 6.75,\n",
       " 21.5,\n",
       " 32.0,\n",
       " 18.75,\n",
       " 28.0,\n",
       " 29.25,\n",
       " 17.75,\n",
       " 28.25,\n",
       " 16.0,\n",
       " 13.5,\n",
       " 31.5,\n",
       " 26.0,\n",
       " 28.0,\n",
       " 23.0,\n",
       " 27.0,\n",
       " 19.25,\n",
       " 24.0,\n",
       " 7.0,\n",
       " 13.0,\n",
       " 12.5,\n",
       " 10.75,\n",
       " 25.75,\n",
       " 9.25,\n",
       " 4.75,\n",
       " 18.0,\n",
       " 7.0,\n",
       " 20.25,\n",
       " 19.75,\n",
       " 17.0,\n",
       " 22.5,\n",
       " 8.5,\n",
       " 7.5,\n",
       " 9.25,\n",
       " 7.25,\n",
       " 12.0,\n",
       " 19.0,\n",
       " 15.0,\n",
       " 4.25,\n",
       " 24.5,\n",
       " 7.5,\n",
       " 16.0,\n",
       " 14.5,\n",
       " 38.25]"
      ]
     },
     "execution_count": 39,
     "metadata": {},
     "output_type": "execute_result"
    }
   ],
   "source": [
    "y_predict"
   ]
  },
  {
   "cell_type": "code",
   "execution_count": 43,
   "metadata": {},
   "outputs": [],
   "source": [
    "error = Y_test_2 - y_predict"
   ]
  },
  {
   "cell_type": "code",
   "execution_count": 48,
   "metadata": {},
   "outputs": [],
   "source": [
    "error =np.square(np.array(error))"
   ]
  },
  {
   "cell_type": "code",
   "execution_count": 47,
   "metadata": {},
   "outputs": [
    {
     "data": {
      "text/plain": [
       "[<matplotlib.lines.Line2D at 0x24652fbf448>]"
      ]
     },
     "execution_count": 47,
     "metadata": {},
     "output_type": "execute_result"
    },
    {
     "data": {
      "image/png": "[encoded data removed]",
      "text/plain": [
       "<Figure size 432x288 with 1 Axes>"
      ]
     },
     "metadata": {
      "needs_background": "light"
     },
     "output_type": "display_data"
    }
   ],
   "source": [
    "plt.plot(error)"
   ]
  },
  {
   "cell_type": "code",
   "execution_count": 50,
   "metadata": {},
   "outputs": [
    {
     "data": {
      "text/plain": [
       "<matplotlib.collections.PathCollection at 0x2465309dd88>"
      ]
     },
     "execution_count": 50,
     "metadata": {},
     "output_type": "execute_result"
    },
    {
     "data": {
      "image/png": "[encoded data removed]",
      "text/plain": [
       "<Figure size 432x288 with 1 Axes>"
      ]
     },
     "metadata": {
      "needs_background": "light"
     },
     "output_type": "display_data"
    }
   ],
   "source": [
    "plt.scatter(y_predict, Y_test_2)"
   ]
  },
  {
   "cell_type": "code",
   "execution_count": null,
   "metadata": {},
   "outputs": [],
   "source": []
  }
 ],
 "metadata": {
  "kernelspec": {
   "display_name": "Python 3",
   "language": "python",
   "name": "python3"
  },
  "language_info": {
   "codemirror_mode": {
    "name": "ipython",
    "version": 3
   },
   "file_extension": ".py",
   "mimetype": "text/x-python",
   "name": "python",
   "nbconvert_exporter": "python",
   "pygments_lexer": "ipython3",
   "version": "3.7.6"
  }
 },
 "nbformat": 4,
 "nbformat_minor": 4
}
