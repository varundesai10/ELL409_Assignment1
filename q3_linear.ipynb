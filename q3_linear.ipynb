{
 "cells": [
  {
   "cell_type": "code",
   "execution_count": 1,
   "metadata": {},
   "outputs": [
    {
     "name": "stdout",
     "output_type": "stream",
     "text": [
      "C:\\Users\\Acer\\Desktop\\sem5\\ell409\\Assignment_1\\Medical_MNIST\n"
     ]
    }
   ],
   "source": [
    "import numpy as np\n",
    "import matplotlib.pyplot as plt\n",
    "from PIL import Image\n",
    "import os\n",
    "import random\n",
    "from sklearn.decomposition import TruncatedSVD\n",
    "from sklearn.model_selection import KFold #only for basic data handling, which was allowed as mentioned on piazza\n",
    "IMAGE_PATH = './Medical_MNIST'\n",
    "print(os.path.abspath(IMAGE_PATH))\n",
    "n_components = 20\n",
    "n_classes = 6"
   ]
  },
  {
   "cell_type": "code",
   "execution_count": 2,
   "metadata": {},
   "outputs": [],
   "source": [
    "#data_loader\n",
    "\n",
    "#!DEL *.npz\n",
    "from tqdm import tqdm\n",
    "n_folds = 5\n",
    "split = (n_folds-1)/n_folds #using 70:30 split, random each time\n",
    "def data_loader():\n",
    "    X = []\n",
    "    Y = []\n",
    "    \n",
    "    i = 0\n",
    "    for folder in os.listdir(os.path.abspath(IMAGE_PATH)):\n",
    "        IMAGE_DIR = os.path.join(IMAGE_PATH, folder)\n",
    "        print(\"Reading\" + IMAGE_DIR)\n",
    "        files = os.listdir(IMAGE_DIR)\n",
    "\n",
    "        for file in tqdm(files):\n",
    "            X.append((np.asarray(Image.open(os.path.join(IMAGE_DIR, file)))).reshape(-1))\n",
    "            Y.append(i)\n",
    "\n",
    "        i += 1\n",
    "    print('Completed Loading Data. Saving as np file so that can directy load array nexttime')\n",
    "    np.savez('q3datav2.npz', X = np.array(X), Y = np.array(Y))\n",
    "    return np.array(X), np.array(Y)\n",
    "\n",
    "if 'q3datav2.npz' in os.listdir('./'):\n",
    "    zfile = np.load('q3datav2.npz')\n",
    "    X_ = zfile['X']\n",
    "    Y_ = zfile['Y']\n",
    "else:\n",
    "    X_, Y_ = data_loader()"
   ]
  },
  {
   "cell_type": "code",
   "execution_count": 3,
   "metadata": {},
   "outputs": [],
   "source": [
    "h, w = 64, 64\n",
    "n_classes = 6\n",
    "def fastpca(X, n_pc):\n",
    "    n_samples, n_features = X.shape\n",
    "    mean = np.mean(X, axis=0)\n",
    "    centered_data = X-mean\n",
    "    svd = TruncatedSVD(n_components=n_pc, n_iter=7, random_state=42)\n",
    "    svd.fit(X)\n",
    "    #U, S, V = np.linalg.svd(centered_data)\n",
    "    components = svd.components_\n",
    "    #projected = U[:,:n_pc]*S[:n_pc]\n",
    "    projected = svd.transform(X)\n",
    "    return projected, components, mean, centered_data\n"
   ]
  },
  {
   "cell_type": "code",
   "execution_count": 4,
   "metadata": {},
   "outputs": [],
   "source": [
    "def gradient_mse(X, Y, lr = 1e-9, l1_reg = 0, l2_reg = 0, n_iter=10000, batch_size=200):\n",
    "    costs = []\n",
    "    m = X.shape[0]\n",
    "    W = np.random.rand(X.shape[1], n_classes)\n",
    "    for i in tqdm(range(n_iter)):\n",
    "        batch = np.random.choice(range(m), batch_size)\n",
    "        X_batch = X[batch,:]\n",
    "        Y_batch = Y[batch]\n",
    "        \n",
    "        #print(f'X_batch.shape = {X_batch.shape}')\n",
    "        Y_onehot = np.zeros((Y_batch.size, n_classes))\n",
    "        Y_onehot[np.arange(Y_batch.size),Y_batch] = 1\n",
    "        #print(f'Y_onehot.shape = {Y_onehot.shape}')\n",
    "        \n",
    "        grad = 2*(X_batch.T/batch_size) @ (X_batch @ W - Y_onehot) + l1_reg*np.sign(W) + l2_reg*W\n",
    "        costs.append(np.trace((X_batch @ W - Y_onehot).T @(X_batch @ W - Y_onehot))/batch_size + l1_reg*np.sum(np.abs(W)) + 0.5*l2_reg*np.sum(W*W))\n",
    "        assert(grad.shape == W.shape), f'grad.shape = {grad.shape}, W.shape = {W.shape}'\n",
    "        W -= lr*grad\n",
    "    return W, costs"
   ]
  },
  {
   "cell_type": "code",
   "execution_count": 6,
   "metadata": {},
   "outputs": [
    {
     "name": "stderr",
     "output_type": "stream",
     "text": [
      "100%|██████████████████████████████████████████████████████████████████████████████████████████████████████████████████████████████████| 5000/5000 [00:55<00:00, 89.59it/s]\n",
      "100%|████████████████████████████████████████████████████████████████████████████████████████████████████████████████████████████| 11791/11791 [00:00<00:00, 214956.48it/s]\n"
     ]
    },
    {
     "name": "stdout",
     "output_type": "stream",
     "text": [
      "1 fold done.\n"
     ]
    },
    {
     "name": "stderr",
     "output_type": "stream",
     "text": [
      "100%|██████████████████████████████████████████████████████████████████████████████████████████████████████████████████████████████████| 5000/5000 [00:57<00:00, 86.75it/s]\n",
      "100%|█████████████████████████████████████████████████████████████████████████████████████████████████████████████████████████████| 11791/11791 [00:00<00:00, 89564.72it/s]\n"
     ]
    },
    {
     "name": "stdout",
     "output_type": "stream",
     "text": [
      "2 fold done.\n"
     ]
    },
    {
     "name": "stderr",
     "output_type": "stream",
     "text": [
      "100%|██████████████████████████████████████████████████████████████████████████████████████████████████████████████████████████████████| 5000/5000 [00:57<00:00, 87.37it/s]\n",
      "100%|████████████████████████████████████████████████████████████████████████████████████████████████████████████████████████████| 11791/11791 [00:00<00:00, 181884.19it/s]\n"
     ]
    },
    {
     "name": "stdout",
     "output_type": "stream",
     "text": [
      "3 fold done.\n"
     ]
    },
    {
     "name": "stderr",
     "output_type": "stream",
     "text": [
      "100%|██████████████████████████████████████████████████████████████████████████████████████████████████████████████████████████████████| 5000/5000 [00:55<00:00, 89.42it/s]\n",
      "100%|████████████████████████████████████████████████████████████████████████████████████████████████████████████████████████████| 11791/11791 [00:00<00:00, 206458.37it/s]\n"
     ]
    },
    {
     "name": "stdout",
     "output_type": "stream",
     "text": [
      "4 fold done.\n"
     ]
    },
    {
     "name": "stderr",
     "output_type": "stream",
     "text": [
      "100%|██████████████████████████████████████████████████████████████████████████████████████████████████████████████████████████████████| 5000/5000 [00:56<00:00, 87.75it/s]\n",
      "100%|████████████████████████████████████████████████████████████████████████████████████████████████████████████████████████████| 11790/11790 [00:00<00:00, 157619.79it/s]\n"
     ]
    },
    {
     "name": "stdout",
     "output_type": "stream",
     "text": [
      "5 fold done.\n"
     ]
    }
   ],
   "source": [
    "kf = KFold(n_splits=n_folds, shuffle=True, random_state=42)\n",
    "CONF = []\n",
    "n_iter = 1\n",
    "for train_index, test_index in kf.split(X_):\n",
    "    X = X_[train_index]; Y = Y_[train_index]\n",
    "    X_test = X_[test_index]; Y_test = Y_[test_index]\n",
    "    #performing PCA on training data\n",
    "    X_red, C, M, X_centered=fastpca(X, n_pc=n_components)\n",
    "    \n",
    "    assert(X_red.shape[0] == X.shape[0])\n",
    "    assert(X.shape[0] == Y.shape[0])\n",
    "    assert(X.shape[0] != X_.shape[0])\n",
    "    X_red = np.concatenate((np.ones((X_red.shape[0], 1)), X_red), axis = 1)\n",
    "    W_reg, costs = gradient_mse(X_red, Y, lr=1e-8, l1_reg = 1e-2, l2_reg=1e-2, batch_size = 1000, n_iter=5000)\n",
    "    \n",
    "    Y_pred = np.concatenate((np.ones( (X_test.shape[0], 1)), X_test @ C.T), axis = 1) @ W_reg\n",
    "    Y_pred = np.argmax(Y_pred, axis = 1)\n",
    "    assert(Y_pred.shape[0] == X_test.shape[0])\n",
    "    \n",
    "    conf = np.zeros((n_classes, n_classes))\n",
    "    for i in tqdm(range(Y_pred.shape[0])):\n",
    "        conf[Y_pred[i], Y_test[i]] += 1\n",
    "\n",
    "    \n",
    "    CONF.append(conf)\n",
    "    print(f'{n_iter} fold done.')\n",
    "    n_iter += 1\n",
    "\n",
    "\n",
    "    "
   ]
  },
  {
   "cell_type": "code",
   "execution_count": 9,
   "metadata": {},
   "outputs": [
    {
     "data": {
      "image/png": "[encoded data removed]",
      "text/plain": [
       "<Figure size 432x288 with 1 Axes>"
      ]
     },
     "metadata": {
      "needs_background": "light"
     },
     "output_type": "display_data"
    }
   ],
   "source": [
    "conf_ = np.mean(CONF, axis=0)\n",
    "conf = conf_.T\n",
    "conf = conf/np.sum(conf, axis=1)\n",
    "plt.imshow(conf)\n",
    "classes = ['AbdCT', 'BreastMRI', 'ChestCT', 'CXR', 'Hand', 'Head']\n",
    "plt.ylabel('$Y_{true}$')\n",
    "plt.xlabel('Y$_{pred}$')\n",
    "plt.xticks(np.arange(n_classes), classes)\n",
    "plt.yticks(np.arange(n_classes), classes)\n",
    "for i in range(conf.shape[0]):\n",
    "    for j in range(conf.shape[1]):\n",
    "        plt.text(j, i, \"{:0.2f}\".format(float(conf[i][j]*100)), horizontalalignment='center', bbox = dict(facecolor='white',alpha=0.8))"
   ]
  },
  {
   "cell_type": "code",
   "execution_count": 21,
   "metadata": {},
   "outputs": [
    {
     "name": "stdout",
     "output_type": "stream",
     "text": [
      "Accuracy = 84.790\n",
      "AbdCT: p = 88.774, r = 48.080, f = 62.377\n",
      "BreastMRI: p = 96.694, r = 90.474, f = 93.480\n",
      "ChestCT: p = 62.555, r = 99.700, f = 76.876\n",
      "CXR: p = 94.271, r = 95.930, f = 95.093\n",
      "Hand: p = 94.656, r = 87.150, f = 90.748\n",
      "Head: p = 89.440, r = 88.000, f = 88.714\n",
      "Macro-F1 score = 84.548\n"
     ]
    }
   ],
   "source": [
    "#per class precission, recall\n",
    "diag = np.arange(n_classes)\n",
    "acc = np.sum(conf_[diag, diag])/np.sum(conf_)*100\n",
    "\n",
    "print('Accuracy = {:0.3f}'.format(acc))\n",
    "\n",
    "#per class precision, recall\n",
    "P = []\n",
    "R = []\n",
    "F = []\n",
    "for i in range(n_classes):\n",
    "    P.append(conf_[i,i]/np.sum(conf_[i,:]))\n",
    "    R.append(conf_[i,i]/np.sum(conf_[:,i]))\n",
    "    F.append(2*P[i]*R[i]/(P[i] + R[i]))\n",
    "    print('{}: p = {:0.3f}, r = {:0.3f}, f = {:0.3f}'.format(classes[i], P[i]*100, R[i]*100, F[i]*100))\n",
    "macro_f = sum(F)/len(F)\n",
    "print('Macro-F1 score = {:0.3f}'.format(macro_f*100))"
   ]
  },
  {
   "cell_type": "code",
   "execution_count": null,
   "metadata": {},
   "outputs": [],
   "source": []
  }
 ],
 "metadata": {
  "kernelspec": {
   "display_name": "Python 3",
   "language": "python",
   "name": "python3"
  },
  "language_info": {
   "codemirror_mode": {
    "name": "ipython",
    "version": 3
   },
   "file_extension": ".py",
   "mimetype": "text/x-python",
   "name": "python",
   "nbconvert_exporter": "python",
   "pygments_lexer": "ipython3",
   "version": "3.7.4"
  }
 },
 "nbformat": 4,
 "nbformat_minor": 2
}
