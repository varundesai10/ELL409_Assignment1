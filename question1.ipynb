{
 "cells": [
  {
   "cell_type": "code",
   "execution_count": 1,
   "metadata": {},
   "outputs": [],
   "source": [
    "import numpy as np\n",
    "import pandas as pd\n",
    "import matplotlib.pyplot as plt"
   ]
  },
  {
   "cell_type": "code",
   "execution_count": 2,
   "metadata": {},
   "outputs": [
    {
     "data": {
      "text/html": [
       "<div>\n",
       "<style scoped>\n",
       "    .dataframe tbody tr th:only-of-type {\n",
       "        vertical-align: middle;\n",
       "    }\n",
       "\n",
       "    .dataframe tbody tr th {\n",
       "        vertical-align: top;\n",
       "    }\n",
       "\n",
       "    .dataframe thead th {\n",
       "        text-align: right;\n",
       "    }\n",
       "</style>\n",
       "<table border=\"1\" class=\"dataframe\">\n",
       "  <thead>\n",
       "    <tr style=\"text-align: right;\">\n",
       "      <th></th>\n",
       "      <th>age</th>\n",
       "      <th>restbps</th>\n",
       "      <th>chol</th>\n",
       "      <th>category</th>\n",
       "    </tr>\n",
       "  </thead>\n",
       "  <tbody>\n",
       "    <tr>\n",
       "      <td>0</td>\n",
       "      <td>26</td>\n",
       "      <td>109</td>\n",
       "      <td>243</td>\n",
       "      <td>0</td>\n",
       "    </tr>\n",
       "    <tr>\n",
       "      <td>1</td>\n",
       "      <td>27</td>\n",
       "      <td>106</td>\n",
       "      <td>156</td>\n",
       "      <td>0</td>\n",
       "    </tr>\n",
       "    <tr>\n",
       "      <td>2</td>\n",
       "      <td>28</td>\n",
       "      <td>107</td>\n",
       "      <td>225</td>\n",
       "      <td>0</td>\n",
       "    </tr>\n",
       "    <tr>\n",
       "      <td>3</td>\n",
       "      <td>27</td>\n",
       "      <td>105</td>\n",
       "      <td>277</td>\n",
       "      <td>0</td>\n",
       "    </tr>\n",
       "    <tr>\n",
       "      <td>4</td>\n",
       "      <td>30</td>\n",
       "      <td>96</td>\n",
       "      <td>221</td>\n",
       "      <td>0</td>\n",
       "    </tr>\n",
       "  </tbody>\n",
       "</table>\n",
       "</div>"
      ],
      "text/plain": [
       "   age  restbps  chol  category\n",
       "0   26      109   243         0\n",
       "1   27      106   156         0\n",
       "2   28      107   225         0\n",
       "3   27      105   277         0\n",
       "4   30       96   221         0"
      ]
     },
     "execution_count": 2,
     "metadata": {},
     "output_type": "execute_result"
    }
   ],
   "source": [
    "data = pd.read_csv('health_data.csv')\n",
    "data.head()"
   ]
  },
  {
   "cell_type": "code",
   "execution_count": 3,
   "metadata": {},
   "outputs": [
    {
     "name": "stderr",
     "output_type": "stream",
     "text": [
      "C:\\Users\\Acer\\Anaconda3\\lib\\site-packages\\ipykernel_launcher.py:10: FutureWarning: Using a non-tuple sequence for multidimensional indexing is deprecated; use `arr[tuple(seq)]` instead of `arr[seq]`. In the future this will be interpreted as an array index, `arr[np.array(seq)]`, which will result either in an error or a different result.\n",
      "  # Remove the CWD from sys.path while we load stuff.\n",
      "C:\\Users\\Acer\\Anaconda3\\lib\\site-packages\\ipykernel_launcher.py:11: FutureWarning: Using a non-tuple sequence for multidimensional indexing is deprecated; use `arr[tuple(seq)]` instead of `arr[seq]`. In the future this will be interpreted as an array index, `arr[np.array(seq)]`, which will result either in an error or a different result.\n",
      "  # This is added back by InteractiveShellApp.init_path()\n",
      "C:\\Users\\Acer\\Anaconda3\\lib\\site-packages\\ipykernel_launcher.py:13: FutureWarning: Using a non-tuple sequence for multidimensional indexing is deprecated; use `arr[tuple(seq)]` instead of `arr[seq]`. In the future this will be interpreted as an array index, `arr[np.array(seq)]`, which will result either in an error or a different result.\n",
      "  del sys.path[0]\n",
      "C:\\Users\\Acer\\Anaconda3\\lib\\site-packages\\ipykernel_launcher.py:14: FutureWarning: Using a non-tuple sequence for multidimensional indexing is deprecated; use `arr[tuple(seq)]` instead of `arr[seq]`. In the future this will be interpreted as an array index, `arr[np.array(seq)]`, which will result either in an error or a different result.\n",
      "  \n"
     ]
    }
   ],
   "source": [
    "#first, lets try a bayes classifier with the class conditional densities assumed to be Gaussian. There are two categories, 0 and 1.\n",
    "X = data.to_numpy()[:, :3]\n",
    "Y = data.to_numpy()[:, 3]\n",
    "\n",
    "\n",
    "split = 0.8 #using 70:30 split, random each time\n",
    "train_samples = np.random.choice(X.shape[0], int(split*X.shape[0]))\n",
    "test_samples = np.array([i for i in range(X.shape[0]) if i not in list(train_samples)])\n",
    "\n",
    "X_train = X[[train_samples]]\n",
    "Y_train = Y[[train_samples]]\n",
    "\n",
    "X_test = X[[test_samples]]\n",
    "Y_test = Y[[test_samples]]\n",
    "\n",
    "\n",
    "X_0 = X_train[Y_train == 0]\n",
    "X_1 = X_train[Y_train == 1]\n",
    "\n",
    "#X_0 = data[data['category'] == 0].to_numpy()[:, :3]\n",
    "#X_1 = data[data['category'] == 1].to_numpy()[:, :3]\n",
    "#how to split data into test and train?\n"
   ]
  },
  {
   "cell_type": "code",
   "execution_count": 4,
   "metadata": {},
   "outputs": [
    {
     "data": {
      "text/plain": [
       "[<matplotlib.lines.Line2D at 0x245a2628788>]"
      ]
     },
     "execution_count": 4,
     "metadata": {},
     "output_type": "execute_result"
    },
    {
     "data": {
      "image/png": "[encoded data removed]",
      "text/plain": [
       "<Figure size 432x288 with 1 Axes>"
      ]
     },
     "metadata": {
      "needs_background": "light"
     },
     "output_type": "display_data"
    }
   ],
   "source": [
    "plt.plot(X_0[:,0], X_0[:,1], 'rx') #cholestrol vs age\n",
    "#clearly they are not independent features"
   ]
  },
  {
   "cell_type": "code",
   "execution_count": 5,
   "metadata": {},
   "outputs": [],
   "source": [
    "#estimating mean, variance for class 0\n",
    "#maximum likelihood estimate\n",
    "\n",
    "u0 = np.mean(X_0, axis=0) \n",
    "s0 = (X_0 - u0).T @ (X_0 - u0)/X_0.shape[0]\n",
    "s0 = np.linalg.inv(s0)\n",
    "\n",
    "#for class 1\n",
    "u1 = np.mean(X_1, axis = 0)\n",
    "s1 = (X_1 - u1).T @ (X_1 - u1)/X_1.shape[0]\n",
    "s1 = np.linalg.inv(s1) #inverse of cov matrix"
   ]
  },
  {
   "cell_type": "code",
   "execution_count": 6,
   "metadata": {},
   "outputs": [
    {
     "name": "stdout",
     "output_type": "stream",
     "text": [
      "p0 = 0.5767857142857142, p1 = 0.42321428571428577\n"
     ]
    }
   ],
   "source": [
    "#decision boundary\n",
    "p0 = X_0.shape[0]; p1 = X_1.shape[0]\n",
    "p0 = p0/(p0 + p1); p1 = 1 - p0;\n",
    "print('p0 = {}, p1 = {}'.format(p0, p1))\n",
    "#priors chosen on basis of frequency of occurence in training data.\n",
    "p = np.log(p0/p1)\n",
    "\n",
    "s = 0.5*np.log(np.linalg.det(s0)/np.linalg.det(s1))\n",
    "def g1(x):\n",
    "    y = p + s -0.5*((x - u0) @ s0 @ (x-u0).T - (x - u1) @ s1 @ (x - u1))\n",
    "    \n",
    "    if (y > 0): \n",
    "        return 0\n",
    "    else:return 1"
   ]
  },
  {
   "cell_type": "code",
   "execution_count": 7,
   "metadata": {},
   "outputs": [],
   "source": [
    "#computing accuracy.\n",
    "C = np.zeros((2,2)) #[[]]\n",
    "for i in range((X_test.shape[0])):\n",
    "    y_pred = g1(X_test[i])\n",
    "    C[y_pred, Y_test[i]] += 1\n",
    "        "
   ]
  },
  {
   "cell_type": "code",
   "execution_count": 8,
   "metadata": {},
   "outputs": [
    {
     "name": "stdout",
     "output_type": "stream",
     "text": [
      "0.8575949367088608\n"
     ]
    }
   ],
   "source": [
    "acc = (C[0,0] + C[1,1])/np.sum(C)\n",
    "print(acc)\n",
    "# nearly 85 % accuracy obtained, in almost every case, no matter how the data is split."
   ]
  },
  {
   "cell_type": "code",
   "execution_count": 9,
   "metadata": {},
   "outputs": [
    {
     "data": {
      "image/png": "[encoded data removed]",
      "text/plain": [
       "<Figure size 432x288 with 1 Axes>"
      ]
     },
     "metadata": {
      "needs_background": "light"
     },
     "output_type": "display_data"
    }
   ],
   "source": [
    "#Now, we will vary the priors, and plot the ROC curve.\n",
    "TP = []\n",
    "FP = []\n",
    "for p0 in np.linspace(0.01,0.99,100):\n",
    "    p = np.log(p0/(1 - p0))\n",
    "    def g2(x):\n",
    "        y = p + s -0.5*((x - u0) @ s0 @ (x-u0).T - (x - u1) @ s1 @ (x - u1))\n",
    "    \n",
    "        if (y > 0): \n",
    "            return 0\n",
    "        else:return 1\n",
    "    C = np.zeros((2,2))\n",
    "    for i in range((X_test.shape[0])):\n",
    "        y_pred = g2(X_test[i])\n",
    "        C[y_pred, Y_test[i]] += 1\n",
    "    \n",
    "    tpr = C[1,1]/(C[1,1] + C[0,1])\n",
    "    fpr = C[1,0]/(C[1,0] + C[0,0])\n",
    "    TP.append(tpr)\n",
    "    FP.append(fpr)\n",
    "\n",
    "plt.plot(FP, TP, '-')\n",
    "plt.xlabel('False Positive Rate'); plt.ylabel('True Positive Rate'); plt.title('ROC curve');"
   ]
  },
  {
   "cell_type": "markdown",
   "metadata": {},
   "source": [
    "# Gaussian mixture model\n",
    "#kaafi complex.\n",
    "#we have set of parameters, u_k, s_k, and pi_k.\n",
    "'''\n",
    "import math\n",
    "\n",
    "def Gauss(x, u, s):\n",
    "    d = x.shape[0]\n",
    "    \n",
    "    a = np.exp(-0.5*(x-u) @ np.linalg.inv(s) @ (x-u).T)\n",
    "    S = np.abs(np.linalg.det(s))**(-0.5)\n",
    "    \n",
    "    return ((2*math.pi)**(-d/2))*S*a\n",
    "\n",
    "#setting the number of components\n",
    "K = 2\n",
    "D = X.shape[1]\n",
    "U = np.random.rand(K, D) #means\n",
    "\n",
    "#guess for U\n",
    "U = np.array([[35,110, 200],[60, 140, 250]])\n",
    "S = np.random.rand(K, D, D)*50 #variances\n",
    "\n",
    "print(U)\n",
    "print(S)\n",
    "P = np.random.rand(K); P = np.exp(P); P = P/sum(P); #pi's\n",
    "N = X_train.shape[0]\n",
    "G = np.zeros((N,K))\n",
    "\n",
    "print(P)\n",
    "def gamma(n, k):\n",
    "    sum = 0;\n",
    "    for j in range(K):\n",
    "        sum += P[j]*Gauss(X_train[n], U[j, :], S[j, :, :]);\n",
    "        #print('sum = ', sum);\n",
    "    return P[k]*Gauss(X_train[n], U[k, :], S[k, :, :])/sum;\n",
    "\n",
    "l_old = -1\n",
    "thresh = 1e-3\n",
    "iterations = 0\n",
    "\n",
    "\n",
    "while(True):\n",
    "    #E_step\n",
    "    print('iter = {}, l = {}'.format(iterations, l_old))\n",
    "    for i in range(N):\n",
    "        for j in range(K):\n",
    "            G[i, j] = gamma(i, j)\n",
    "    \n",
    "    #M step\n",
    "    N_k = np.sum(G, axis = 0)\n",
    "    #print('G.T:{}, X:{}, N_k:{}'.format(G.T.shape, X_train.shape, N_k.shape))\n",
    "    U = (G.T @ X_train)/(N_k[:, np.newaxis])\n",
    "    for k in range(K): #improve by using broadcasting!\n",
    "        #print((X_train - U[k,:]).shape)\n",
    "        #print(G[:, k].shape)\n",
    "        S[k, :] = ((X_train - U[k, :]).T @ (G[:,k][:,np.newaxis]*(X_train - U[k, :])))/N_k[k]\n",
    "    P = N_k/N\n",
    "    \n",
    "    #computing likelihood\n",
    "    l = 0\n",
    "    for i in range(N):\n",
    "        s = 0\n",
    "        for j in range(K):\n",
    "            s += P[j]*Gauss(X_train[i], U[j, :], S[j, :, :])\n",
    "            #print(s)\n",
    "        l += np.log(s)\n",
    "    #input()\n",
    "    if np.abs(l - l_old) < thresh and iterations != 0:\n",
    "        break;\n",
    "    iterations += 1\n",
    "    l_old = l\n",
    "print('Done.')\n",
    "#EM complete!!\n",
    "'''"
   ]
  },
  {
   "cell_type": "code",
   "execution_count": 10,
   "metadata": {},
   "outputs": [],
   "source": [
    "import math\n",
    "\n",
    "def Gauss(x, u, s):\n",
    "    d = x.shape[0]\n",
    "\n",
    "    a = np.exp(-0.5*(x-u) @ np.linalg.inv(s) @ (x-u).T)\n",
    "    S = np.abs(np.linalg.det(s))**(-0.5)\n",
    "\n",
    "    return ((2*math.pi)**(-d/2))*S*a\n",
    "\n",
    "def GMM(X, K):\n",
    "    #Gaussian mixture model\n",
    "    #X:data, K:number of components\n",
    "\n",
    "    \n",
    "    D = X.shape[1] #dimenionality of the data\n",
    "    N = X.shape[0] #no of samples\n",
    "    U = X[np.random.choice(N, K)] #initializing means as some K points in the data\n",
    "    \n",
    "    cov = np.cov(X, rowvar=False)\n",
    "    \n",
    "    #S = np.random.rand(K, D, D)*50 #variances\n",
    "    S = np.stack([cov for k in range(K)], axis=0) #setting cov matrix of the data as guess for S\n",
    "    \n",
    "    #P = np.random.rand(K); P = np.exp(P); P = P/sum(P); #pi's, the contribution of each component\n",
    "    P = np.ones(K)/K\n",
    "    G = np.zeros((N,K))\n",
    "\n",
    "    def gamma(n, k):\n",
    "        sum = 0;\n",
    "        for j in range(K):\n",
    "            sum += P[j]*Gauss(X[n], U[j, :], S[j, :, :]);\n",
    "            #print('sum = ', sum);\n",
    "        return P[k]*Gauss(X[n], U[k, :], S[k, :, :])/sum;\n",
    "\n",
    "    l_old = -1\n",
    "    thresh = 1e-3\n",
    "    iterations = 0\n",
    "    loss_hist = []\n",
    "\n",
    "    while(True):\n",
    "        #E_step\n",
    "        #print('iter = {}, l = {}'.format(iterations, l_old))\n",
    "        for i in range(N):\n",
    "            for j in range(K):\n",
    "                G[i, j] = gamma(i, j)\n",
    "\n",
    "        #M step\n",
    "        N_k = np.sum(G, axis = 0)\n",
    "        #print('G.T:{}, X:{}, N_k:{}'.format(G.T.shape, X_train.shape, N_k.shape))\n",
    "        U = (G.T @ X)/(N_k[:, np.newaxis])\n",
    "        for k in range(K): #improve by using broadcasting!\n",
    "            #print((X_train - U[k,:]).shape)\n",
    "            #print(G[:, k].shape)\n",
    "            S[k, :] = ((X - U[k, :]).T @ (G[:,k][:,np.newaxis]*(X - U[k, :])))/N_k[k]\n",
    "        P = N_k/N\n",
    "\n",
    "        #computing likelihood\n",
    "        l = 0\n",
    "        for i in range(N):\n",
    "            s = 0\n",
    "            for j in range(K):\n",
    "                s += P[j]*Gauss(X[i], U[j, :], S[j, :, :])\n",
    "                #print(s)\n",
    "            l += np.log(s)\n",
    "        #input()\n",
    "        loss_hist.append(l)\n",
    "        if np.abs(l - l_old) < thresh and iterations != 0:\n",
    "            break;\n",
    "        iterations += 1\n",
    "        l_old = l\n",
    "    print('Done.')\n",
    "    return P, U, S, loss_hist\n",
    "\n",
    "#function to evaluate p(x) given parameters of GMM\n",
    "def calc_p_gmm(x, a):\n",
    "    #x: input point, a:parameters, returned from function GMM\n",
    "    P = a[0]\n",
    "    U = a[1]\n",
    "    S = a[2]\n",
    "    K = P.shape[0]\n",
    "    sum = 0\n",
    "    for k in range(K):\n",
    "        sum += P[k]*Gauss(x, U[k, :], S[k, :, :])\n",
    "    return sum"
   ]
  },
  {
   "cell_type": "code",
   "execution_count": 11,
   "metadata": {},
   "outputs": [
    {
     "name": "stdout",
     "output_type": "stream",
     "text": [
      "Done.\n",
      "Done.\n"
     ]
    },
    {
     "data": {
      "text/plain": [
       "Text(0.5, 1.0, 'EM for class 0')"
      ]
     },
     "execution_count": 11,
     "metadata": {},
     "output_type": "execute_result"
    },
    {
     "data": {
      "image/png": "[encoded data removed]",
      "text/plain": [
       "<Figure size 432x288 with 1 Axes>"
      ]
     },
     "metadata": {
      "needs_background": "light"
     },
     "output_type": "display_data"
    }
   ],
   "source": [
    "a0 = GMM(X_0, 2)\n",
    "a1 = GMM(X_1, 2)\n",
    "plt.plot(a0[3]);\n",
    "plt.xlabel('Iterations'); plt.ylabel('Likelihood');\n",
    "plt.title('EM for class 0')"
   ]
  },
  {
   "cell_type": "code",
   "execution_count": 12,
   "metadata": {},
   "outputs": [
    {
     "data": {
      "text/plain": [
       "Text(0.5, 1.0, 'EM for class 1')"
      ]
     },
     "execution_count": 12,
     "metadata": {},
     "output_type": "execute_result"
    },
    {
     "data": {
      "image/png": "[encoded data removed]",
      "text/plain": [
       "<Figure size 432x288 with 1 Axes>"
      ]
     },
     "metadata": {
      "needs_background": "light"
     },
     "output_type": "display_data"
    }
   ],
   "source": [
    "plt.plot(a1[3])\n",
    "plt.xlabel('Iterations'); plt.ylabel('Likelihood');\n",
    "plt.title('EM for class 1')"
   ]
  },
  {
   "cell_type": "code",
   "execution_count": 13,
   "metadata": {},
   "outputs": [
    {
     "name": "stdout",
     "output_type": "stream",
     "text": [
      "0.8449367088607594\n"
     ]
    }
   ],
   "source": [
    "#building the bayes classifier for this GMM.\n",
    "#how to choose priors?\n",
    "\n",
    "def g3(x, a0, a1, p0):\n",
    "    #a0, a1: parameters from EM for GMM. p0: prior probabilities\n",
    "    if(p0*calc_p_gmm(x, a0) > (1-p0)*calc_p_gmm(x, a1)):\n",
    "        return 0\n",
    "    else:\n",
    "        return 1\n",
    "\n",
    "#calculating accuracy on the test set.\n",
    "C = np.zeros((2,2)) #[[]]\n",
    "for i in range((X_test.shape[0])):\n",
    "    y_pred = g3(X_test[i], a0, a1, 0.5)\n",
    "    C[y_pred, Y_test[i]] += 1\n",
    "acc = (C[0,0] + C[1,1])/np.sum(C)\n",
    "print(acc)\n",
    "\n",
    "#84 percent accuracy acheived. Almost Same as previous case. Maybe varying priors will give better results.\n",
    "\n",
    "#How to visualize these GMMs ??"
   ]
  },
  {
   "cell_type": "code",
   "execution_count": 14,
   "metadata": {},
   "outputs": [
    {
     "data": {
      "image/png": "[encoded data removed]",
      "text/plain": [
       "<Figure size 432x288 with 1 Axes>"
      ]
     },
     "metadata": {
      "needs_background": "light"
     },
     "output_type": "display_data"
    }
   ],
   "source": [
    "#plotting ROC curve.\n",
    "TP = []\n",
    "FP = []\n",
    "for p0 in np.linspace(0.01,0.99,50):\n",
    "\n",
    "    C = np.zeros((2,2))\n",
    "    for i in range((X_test.shape[0])):\n",
    "        y_pred = g3(X_test[i], a0, a1, p0)\n",
    "        C[y_pred, Y_test[i]] += 1\n",
    "    \n",
    "    tpr = C[1,1]/(C[1,1] + C[0,1])\n",
    "    fpr = C[1,0]/(C[1,0] + C[0,0])\n",
    "    TP.append(tpr)\n",
    "    FP.append(fpr)\n",
    "\n",
    "plt.plot(FP, TP, '-')\n",
    "plt.xlabel('False Positive Rate'); plt.ylabel('True Positive Rate'); plt.title('ROC curve');"
   ]
  },
  {
   "cell_type": "code",
   "execution_count": null,
   "metadata": {},
   "outputs": [],
   "source": [
    "#visualizing bias-variance trade off? Increasing model capacity(k) and then getting training and testing accuracies.\n",
    "train_accuracies = []\n",
    "test_accuracies = []\n",
    "for k in range(2, 7):\n",
    "    a0 = GMM(X_0, k)\n",
    "    a1 = GMM(X_1, k)\n",
    "    \n",
    "    C = np.zeros((2,2)) #[[]]\n",
    "    for i in range((X_test.shape[0])):\n",
    "        y_pred = g3(X_test[i], a0, a1, 0.5)\n",
    "        C[y_pred, Y_test[i]] += 1\n",
    "    acc = (C[0,0] + C[1,1])/np.sum(C)\n",
    "    test_accuracies.append(acc)\n",
    "    \n",
    "    C = np.zeros((2,2)) #[[]]\n",
    "    for i in range((X_train.shape[0])):\n",
    "        y_pred = g3(X_train[i], a0, a1, 0.5)\n",
    "        C[y_pred, Y_train[i]] += 1\n",
    "    acc = (C[0,0] + C[1,1])/np.sum(C)\n",
    "    train_accuracies.append(acc)\n",
    "\n",
    "plt.plot(train_accuracies, 'b-');\n",
    "plt.plot(test_accuracies, 'r-');\n",
    "plt.xlabel('model capacity');\n",
    "plt.ylabel('accuracy');\n",
    "plt.title('Bias Variance Trade Off?');\n",
    "    "
   ]
  },
  {
   "cell_type": "code",
   "execution_count": null,
   "metadata": {},
   "outputs": [],
   "source": [
    "plt.plot(train_accuracies, 'b-');\n",
    "plt.plot(test_accuracies, 'r-');\n",
    "plt.xlabel('model capacity');\n",
    "plt.ylabel('accuracy');\n",
    "plt.title('Bias Variance Trade Off?');"
   ]
  },
  {
   "cell_type": "markdown",
   "metadata": {},
   "source": [
    "# MAP Estimation"
   ]
  }
 ],
 "metadata": {
  "kernelspec": {
   "display_name": "Python 3",
   "language": "python",
   "name": "python3"
  },
  "language_info": {
   "codemirror_mode": {
    "name": "ipython",
    "version": 3
   },
   "file_extension": ".py",
   "mimetype": "text/x-python",
   "name": "python",
   "nbconvert_exporter": "python",
   "pygments_lexer": "ipython3",
   "version": "3.7.4"
  }
 },
 "nbformat": 4,
 "nbformat_minor": 2
}
