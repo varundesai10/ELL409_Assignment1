{
 "cells": [
  {
   "cell_type": "code",
   "execution_count": 1,
   "metadata": {},
   "outputs": [
    {
     "data": {
      "text/plain": [
       "{'divide': 'warn', 'over': 'warn', 'under': 'ignore', 'invalid': 'warn'}"
      ]
     },
     "execution_count": 1,
     "metadata": {},
     "output_type": "execute_result"
    }
   ],
   "source": [
    "import numpy as np\n",
    "import pandas as pd\n",
    "import matplotlib.pyplot as plt\n",
    "import warnings\n",
    "np.seterr(all='raise')"
   ]
  },
  {
   "cell_type": "code",
   "execution_count": 2,
   "metadata": {},
   "outputs": [
    {
     "data": {
      "text/html": [
       "<div>\n",
       "<style scoped>\n",
       "    .dataframe tbody tr th:only-of-type {\n",
       "        vertical-align: middle;\n",
       "    }\n",
       "\n",
       "    .dataframe tbody tr th {\n",
       "        vertical-align: top;\n",
       "    }\n",
       "\n",
       "    .dataframe thead th {\n",
       "        text-align: right;\n",
       "    }\n",
       "</style>\n",
       "<table border=\"1\" class=\"dataframe\">\n",
       "  <thead>\n",
       "    <tr style=\"text-align: right;\">\n",
       "      <th></th>\n",
       "      <th>age</th>\n",
       "      <th>restbps</th>\n",
       "      <th>chol</th>\n",
       "      <th>category</th>\n",
       "    </tr>\n",
       "  </thead>\n",
       "  <tbody>\n",
       "    <tr>\n",
       "      <td>0</td>\n",
       "      <td>26</td>\n",
       "      <td>109</td>\n",
       "      <td>243</td>\n",
       "      <td>0</td>\n",
       "    </tr>\n",
       "    <tr>\n",
       "      <td>1</td>\n",
       "      <td>27</td>\n",
       "      <td>106</td>\n",
       "      <td>156</td>\n",
       "      <td>0</td>\n",
       "    </tr>\n",
       "    <tr>\n",
       "      <td>2</td>\n",
       "      <td>28</td>\n",
       "      <td>107</td>\n",
       "      <td>225</td>\n",
       "      <td>0</td>\n",
       "    </tr>\n",
       "    <tr>\n",
       "      <td>3</td>\n",
       "      <td>27</td>\n",
       "      <td>105</td>\n",
       "      <td>277</td>\n",
       "      <td>0</td>\n",
       "    </tr>\n",
       "    <tr>\n",
       "      <td>4</td>\n",
       "      <td>30</td>\n",
       "      <td>96</td>\n",
       "      <td>221</td>\n",
       "      <td>0</td>\n",
       "    </tr>\n",
       "  </tbody>\n",
       "</table>\n",
       "</div>"
      ],
      "text/plain": [
       "   age  restbps  chol  category\n",
       "0   26      109   243         0\n",
       "1   27      106   156         0\n",
       "2   28      107   225         0\n",
       "3   27      105   277         0\n",
       "4   30       96   221         0"
      ]
     },
     "execution_count": 2,
     "metadata": {},
     "output_type": "execute_result"
    }
   ],
   "source": [
    "data = pd.read_csv('health_data.csv')\n",
    "data.head()"
   ]
  },
  {
   "cell_type": "code",
   "execution_count": 3,
   "metadata": {},
   "outputs": [
    {
     "name": "stderr",
     "output_type": "stream",
     "text": [
      "C:\\Users\\Acer\\Anaconda3\\lib\\site-packages\\ipykernel_launcher.py:10: FutureWarning: Using a non-tuple sequence for multidimensional indexing is deprecated; use `arr[tuple(seq)]` instead of `arr[seq]`. In the future this will be interpreted as an array index, `arr[np.array(seq)]`, which will result either in an error or a different result.\n",
      "  # Remove the CWD from sys.path while we load stuff.\n",
      "C:\\Users\\Acer\\Anaconda3\\lib\\site-packages\\ipykernel_launcher.py:11: FutureWarning: Using a non-tuple sequence for multidimensional indexing is deprecated; use `arr[tuple(seq)]` instead of `arr[seq]`. In the future this will be interpreted as an array index, `arr[np.array(seq)]`, which will result either in an error or a different result.\n",
      "  # This is added back by InteractiveShellApp.init_path()\n",
      "C:\\Users\\Acer\\Anaconda3\\lib\\site-packages\\ipykernel_launcher.py:13: FutureWarning: Using a non-tuple sequence for multidimensional indexing is deprecated; use `arr[tuple(seq)]` instead of `arr[seq]`. In the future this will be interpreted as an array index, `arr[np.array(seq)]`, which will result either in an error or a different result.\n",
      "  del sys.path[0]\n",
      "C:\\Users\\Acer\\Anaconda3\\lib\\site-packages\\ipykernel_launcher.py:14: FutureWarning: Using a non-tuple sequence for multidimensional indexing is deprecated; use `arr[tuple(seq)]` instead of `arr[seq]`. In the future this will be interpreted as an array index, `arr[np.array(seq)]`, which will result either in an error or a different result.\n",
      "  \n"
     ]
    }
   ],
   "source": [
    "#first, lets try a bayes classifier with the class conditional densities assumed to be Gaussian. There are two categories, 0 and 1.\n",
    "X = data.to_numpy()[:, :3]\n",
    "Y = data.to_numpy()[:, 3]\n",
    "\n",
    "\n",
    "split = 0.7 #using 70:30 split, random each time\n",
    "train_samples = np.random.choice(X.shape[0], int(split*X.shape[0]))\n",
    "test_samples = np.array([i for i in range(X.shape[0]) if i not in list(train_samples)])\n",
    "\n",
    "X_train = X[[train_samples]]\n",
    "Y_train = Y[[train_samples]]\n",
    "\n",
    "X_test = X[[test_samples]]\n",
    "Y_test = Y[[test_samples]]\n",
    "\n",
    "\n",
    "X_0 = X_train[Y_train == 0]\n",
    "X_1 = X_train[Y_train == 1]\n",
    "\n",
    "#X_0 = data[data['category'] == 0].to_numpy()[:, :3]\n",
    "#X_1 = data[data['category'] == 1].to_numpy()[:, :3]\n",
    "#how to split data into test and train?\n"
   ]
  },
  {
   "cell_type": "code",
   "execution_count": 4,
   "metadata": {},
   "outputs": [
    {
     "data": {
      "text/plain": [
       "[<matplotlib.lines.Line2D at 0x15e2a28a8c8>]"
      ]
     },
     "execution_count": 4,
     "metadata": {},
     "output_type": "execute_result"
    },
    {
     "data": {
      "image/png": "[encoded data removed]",
      "text/plain": [
       "<Figure size 432x288 with 1 Axes>"
      ]
     },
     "metadata": {
      "needs_background": "light"
     },
     "output_type": "display_data"
    }
   ],
   "source": [
    "plt.plot(X_0[:,0], X_0[:,1], 'rx') #cholestrol vs age\n",
    "#clearly they are not independent features"
   ]
  },
  {
   "cell_type": "markdown",
   "metadata": {},
   "source": [
    "# Bayes Classifier with Gaussian Prior\n",
    "   "
   ]
  },
  {
   "cell_type": "code",
   "execution_count": 5,
   "metadata": {},
   "outputs": [],
   "source": [
    "#estimating mean, variance for class 0\n",
    "#maximum likelihood estimate\n",
    "\n",
    "u0 = np.mean(X_0, axis=0) #mean \n",
    "s0 = (X_0 - u0).T @ (X_0 - u0)/X_0.shape[0] #covariance\n",
    "s0 = np.linalg.inv(s0)\n",
    "\n",
    "#for class 1\n",
    "u1 = np.mean(X_1, axis = 0)\n",
    "s1 = (X_1 - u1).T @ (X_1 - u1)/X_1.shape[0]\n",
    "s1 = np.linalg.inv(s1) #inverse of cov matrix"
   ]
  },
  {
   "cell_type": "code",
   "execution_count": 6,
   "metadata": {},
   "outputs": [
    {
     "name": "stdout",
     "output_type": "stream",
     "text": [
      "p0 = 0.5337423312883436, p1 = 0.4662576687116564\n"
     ]
    }
   ],
   "source": [
    "#decision boundary\n",
    "p0 = X_0.shape[0]; p1 = X_1.shape[0]\n",
    "p0 = p0/(p0 + p1); p1 = 1 - p0;\n",
    "print('p0 = {}, p1 = {}'.format(p0, p1))\n",
    "#priors chosen on basis of frequency of occurence in training data.\n",
    "p = np.log(p0/p1)\n",
    "\n",
    "s = 0.5*np.log(np.linalg.det(s0)/np.linalg.det(s1))\n",
    "def g1(x):\n",
    "    y = p + s -0.5*((x - u0) @ s0 @ (x-u0).T - (x - u1) @ s1 @ (x - u1))\n",
    "    \n",
    "    if (y > 0): \n",
    "        return 0\n",
    "    else:return 1"
   ]
  },
  {
   "cell_type": "code",
   "execution_count": 7,
   "metadata": {},
   "outputs": [],
   "source": [
    "#computing accuracy.\n",
    "C = np.zeros((2,2)) #[[]]\n",
    "for i in range((X_test.shape[0])):\n",
    "    y_pred = g1(X_test[i])\n",
    "    C[y_pred, Y_test[i]] += 1\n",
    "        "
   ]
  },
  {
   "cell_type": "code",
   "execution_count": 8,
   "metadata": {},
   "outputs": [
    {
     "name": "stdout",
     "output_type": "stream",
     "text": [
      "Accuracy = 0.8413597733711048, Precision = 0.782051282051282, Recall = 0.8472222222222222, f1 = 0.8133333333333332\n",
      "Confusion Matrix = [[175.  22.]\n",
      " [ 34. 122.]]\n"
     ]
    }
   ],
   "source": [
    "acc = (C[0,0] + C[1,1])/np.sum(C)\n",
    "prec = (C[1,1])/(C[1,1] + C[1,0])\n",
    "rec = C[1,1]/(C[1,1] + C[0,1])\n",
    "f1 = 2*prec*rec/(prec + rec)\n",
    "print(f'Accuracy = {acc}, Precision = {prec}, Recall = {rec}, f1 = {f1}')\n",
    "print(f'Confusion Matrix = {C}')\n",
    "# nearly 85 % accuracy obtained, in almost every case, no matter how the data is split."
   ]
  },
  {
   "cell_type": "code",
   "execution_count": 9,
   "metadata": {},
   "outputs": [
    {
     "name": "stderr",
     "output_type": "stream",
     "text": [
      "100%|█████████████████████████████████████████████████████████████████████████████████████████████████████████████████████| 100/100 [00:00<00:00, 200.08it/s]\n"
     ]
    },
    {
     "data": {
      "image/png": "[encoded data removed]",
      "text/plain": [
       "<Figure size 432x288 with 1 Axes>"
      ]
     },
     "metadata": {
      "needs_background": "light"
     },
     "output_type": "display_data"
    }
   ],
   "source": [
    "#Now, we will vary the priors, and plot the ROC curve.\n",
    "from tqdm import tqdm\n",
    "TP = []\n",
    "FP = []\n",
    "for p0 in tqdm(np.linspace(0.000000001,0.999999999999,100)):\n",
    "    p = np.log(p0/(1 - p0))\n",
    "    def g2(x):\n",
    "        y = p + s -0.5*((x - u0) @ s0 @ (x-u0).T - (x - u1) @ s1 @ (x - u1))\n",
    "    \n",
    "        if (y > 0): \n",
    "            return 0\n",
    "        else:return 1\n",
    "    C = np.zeros((2,2))\n",
    "    for i in range((X_test.shape[0])):\n",
    "        y_pred = g2(X_test[i])\n",
    "        C[y_pred, Y_test[i]] += 1\n",
    "    \n",
    "    tpr = C[1,1]/(C[1,1] + C[0,1])\n",
    "    fpr = C[1,0]/(C[1,0] + C[0,0])\n",
    "    TP.append(tpr)\n",
    "    FP.append(fpr)\n",
    "\n",
    "plt.plot(FP, TP, '-')\n",
    "plt.xlabel('False Positive Rate'); plt.ylabel('True Positive Rate'); plt.title('ROC curve');"
   ]
  },
  {
   "cell_type": "markdown",
   "metadata": {},
   "source": [
    "# Gaussian mixture model\n",
    "#kaafi complex.\n",
    "#we have set of parameters, u_k, s_k, and pi_k.\n",
    "'''\n",
    "import math\n",
    "\n",
    "def Gauss(x, u, s):\n",
    "    d = x.shape[0]\n",
    "    \n",
    "    a = np.exp(-0.5*(x-u) @ np.linalg.inv(s) @ (x-u).T)\n",
    "    S = np.abs(np.linalg.det(s))**(-0.5)\n",
    "    \n",
    "    return ((2*math.pi)**(-d/2))*S*a\n",
    "\n",
    "#setting the number of components\n",
    "K = 2\n",
    "D = X.shape[1]\n",
    "U = np.random.rand(K, D) #means\n",
    "\n",
    "#guess for U\n",
    "U = np.array([[35,110, 200],[60, 140, 250]])\n",
    "S = np.random.rand(K, D, D)*50 #variances\n",
    "\n",
    "print(U)\n",
    "print(S)\n",
    "P = np.random.rand(K); P = np.exp(P); P = P/sum(P); #pi's\n",
    "N = X_train.shape[0]\n",
    "G = np.zeros((N,K))\n",
    "\n",
    "print(P)\n",
    "def gamma(n, k):\n",
    "    sum = 0;\n",
    "    for j in range(K):\n",
    "        sum += P[j]*Gauss(X_train[n], U[j, :], S[j, :, :]);\n",
    "        #print('sum = ', sum);\n",
    "    return P[k]*Gauss(X_train[n], U[k, :], S[k, :, :])/sum;\n",
    "\n",
    "l_old = -1\n",
    "thresh = 1e-3\n",
    "iterations = 0\n",
    "\n",
    "\n",
    "while(True):\n",
    "    #E_step\n",
    "    print('iter = {}, l = {}'.format(iterations, l_old))\n",
    "    for i in range(N):\n",
    "        for j in range(K):\n",
    "            G[i, j] = gamma(i, j)\n",
    "    \n",
    "    #M step\n",
    "    N_k = np.sum(G, axis = 0)\n",
    "    #print('G.T:{}, X:{}, N_k:{}'.format(G.T.shape, X_train.shape, N_k.shape))\n",
    "    U = (G.T @ X_train)/(N_k[:, np.newaxis])\n",
    "    for k in range(K): #improve by using broadcasting!\n",
    "        #print((X_train - U[k,:]).shape)\n",
    "        #print(G[:, k].shape)\n",
    "        S[k, :] = ((X_train - U[k, :]).T @ (G[:,k][:,np.newaxis]*(X_train - U[k, :])))/N_k[k]\n",
    "    P = N_k/N\n",
    "    \n",
    "    #computing likelihood\n",
    "    l = 0\n",
    "    for i in range(N):\n",
    "        s = 0\n",
    "        for j in range(K):\n",
    "            s += P[j]*Gauss(X_train[i], U[j, :], S[j, :, :])\n",
    "            #print(s)\n",
    "        l += np.log(s)\n",
    "    #input()\n",
    "    if np.abs(l - l_old) < thresh and iterations != 0:\n",
    "        break;\n",
    "    iterations += 1\n",
    "    l_old = l\n",
    "print('Done.')\n",
    "#EM complete!!\n",
    "'''"
   ]
  },
  {
   "cell_type": "code",
   "execution_count": 10,
   "metadata": {},
   "outputs": [],
   "source": [
    "import math\n",
    "\n",
    "def Gauss(x, u, s):\n",
    "    d = x.shape[0]\n",
    "\n",
    "    a = np.exp(-0.5*(x-u) @ np.linalg.inv(s) @ (x-u).T)\n",
    "    S = np.abs(np.linalg.det(s))**(-0.5)\n",
    "\n",
    "    return ((2*math.pi)**(-d/2))*S*a\n",
    "\n",
    "def GMM(X, K):\n",
    "    #Gaussian mixture model\n",
    "    #X:data, K:number of components\n",
    "\n",
    "    \n",
    "    D = X.shape[1] #dimenionality of the data\n",
    "    N = X.shape[0] #no of samples\n",
    "    U = X[np.random.choice(N, K)] #initializing means as some K points in the data\n",
    "    \n",
    "    cov = np.cov(X, rowvar=False)\n",
    "    \n",
    "    #S = np.random.rand(K, D, D)*50 #variances\n",
    "    S = np.stack([cov for k in range(K)], axis=0) #setting cov matrix of the data as guess for S\n",
    "    \n",
    "    #P = np.random.rand(K); P = np.exp(P); P = P/sum(P); #pi's, the contribution of each component\n",
    "    P = np.ones(K)/K\n",
    "    G = np.zeros((N,K))\n",
    "\n",
    "    def gamma(n, k):\n",
    "        sum = 0;\n",
    "        for j in range(K):\n",
    "            sum += P[j]*Gauss(X[n], U[j, :], S[j, :, :]);\n",
    "            #print('sum = ', sum);\n",
    "        return P[k]*Gauss(X[n], U[k, :], S[k, :, :])/sum;\n",
    "\n",
    "    l_old = -1\n",
    "    thresh = 1e-3\n",
    "    iterations = 0\n",
    "    loss_hist = []\n",
    "\n",
    "    while(True):\n",
    "        #E_step\n",
    "        #print('iter = {}, l = {}'.format(iterations, l_old))\n",
    "        for i in range(N):\n",
    "            for j in range(K):\n",
    "                #G[i, j] = gamma(i, j)\n",
    "                G[i, j] = P[j]*Gauss(X[i], U[j, :], S[j, :, :])\n",
    "        G = G/np.sum(G, axis=1)[:, np.newaxis]\n",
    "\n",
    "        #M step\n",
    "        N_k = np.sum(G, axis = 0)\n",
    "        #print('G.T:{}, X:{}, N_k:{}'.format(G.T.shape, X_train.shape, N_k.shape))\n",
    "        U = (G.T @ X)/(N_k[:, np.newaxis])\n",
    "        for k in range(K): #improve by using broadcasting!\n",
    "            #print((X_train - U[k,:]).shape)\n",
    "            #print(G[:, k].shape)\n",
    "            S[k, :] = ((X - U[k, :]).T @ (G[:,k][:,np.newaxis]*(X - U[k, :])))/N_k[k]\n",
    "        P = N_k/N\n",
    "\n",
    "        #computing likelihood\n",
    "        l = 0\n",
    "        for i in range(N):\n",
    "            s = 0\n",
    "            for j in range(K):\n",
    "                s += P[j]*Gauss(X[i], U[j, :], S[j, :, :])\n",
    "                #print(s)\n",
    "            l += np.log(s)\n",
    "        #input()\n",
    "        loss_hist.append(l)\n",
    "        if np.abs(l - l_old) < thresh and iterations != 0:\n",
    "            break;\n",
    "        iterations += 1\n",
    "        l_old = l\n",
    "    print('Done.')\n",
    "    return P, U, S, loss_hist\n",
    "\n",
    "#function to evaluate p(x) given parameters of GMM\n",
    "def calc_p_gmm(x, a):\n",
    "    #x: input point, a:parameters, returned from function GMM\n",
    "    P = a[0]\n",
    "    U = a[1]\n",
    "    S = a[2]\n",
    "    K = P.shape[0]\n",
    "    sum = 0\n",
    "    for k in range(K):\n",
    "        sum += P[k]*Gauss(x, U[k, :], S[k, :, :])\n",
    "    return sum"
   ]
  },
  {
   "cell_type": "code",
   "execution_count": 11,
   "metadata": {},
   "outputs": [
    {
     "name": "stdout",
     "output_type": "stream",
     "text": [
      "Done.\n",
      "Done.\n"
     ]
    },
    {
     "data": {
      "text/plain": [
       "Text(0.5, 1.0, 'EM for class 0')"
      ]
     },
     "execution_count": 11,
     "metadata": {},
     "output_type": "execute_result"
    },
    {
     "data": {
      "image/png": "[encoded data removed]",
      "text/plain": [
       "<Figure size 432x288 with 1 Axes>"
      ]
     },
     "metadata": {
      "needs_background": "light"
     },
     "output_type": "display_data"
    }
   ],
   "source": [
    "a0 = GMM(X_0, 2)\n",
    "a1 = GMM(X_1, 2)\n",
    "plt.plot(a0[3]);\n",
    "plt.xlabel('Iterations'); plt.ylabel('Likelihood');\n",
    "plt.title('EM for class 0')"
   ]
  },
  {
   "cell_type": "code",
   "execution_count": 12,
   "metadata": {},
   "outputs": [
    {
     "data": {
      "text/plain": [
       "Text(0.5, 1.0, 'EM for class 1')"
      ]
     },
     "execution_count": 12,
     "metadata": {},
     "output_type": "execute_result"
    },
    {
     "data": {
      "image/png": "[encoded data removed]",
      "text/plain": [
       "<Figure size 432x288 with 1 Axes>"
      ]
     },
     "metadata": {
      "needs_background": "light"
     },
     "output_type": "display_data"
    }
   ],
   "source": [
    "plt.plot(a1[3])\n",
    "plt.xlabel('Iterations'); plt.ylabel('Likelihood');\n",
    "plt.title('EM for class 1')"
   ]
  },
  {
   "cell_type": "code",
   "execution_count": 13,
   "metadata": {},
   "outputs": [
    {
     "name": "stdout",
     "output_type": "stream",
     "text": [
      "Accuracy = 0.8356940509915014, Precision = 0.7443181818181818, Recall = 0.9097222222222222, f1 = 0.81875\n",
      "Confusion Matrix = [[164.  13.]\n",
      " [ 45. 131.]]\n"
     ]
    }
   ],
   "source": [
    "#building the bayes classifier for this GMM.\n",
    "#how to choose priors?\n",
    "\n",
    "def g3(x, a0, a1, p0):\n",
    "    #a0, a1: parameters from EM for GMM. p0: prior probabilities\n",
    "    if(p0*calc_p_gmm(x, a0) > (1-p0)*calc_p_gmm(x, a1)):\n",
    "        return 0\n",
    "    else:\n",
    "        return 1\n",
    "\n",
    "#calculating accuracy on the test set.\n",
    "C = np.zeros((2,2)) #[[]]\n",
    "for i in range((X_test.shape[0])):\n",
    "    y_pred = g3(X_test[i], a0, a1, 0.5)\n",
    "    C[y_pred, Y_test[i]] += 1\n",
    "acc = (C[0,0] + C[1,1])/np.sum(C)\n",
    "prec = (C[1,1])/(C[1,1] + C[1,0])\n",
    "rec = C[1,1]/(C[1,1] + C[0,1])\n",
    "f1 = 2*prec*rec/(prec + rec)\n",
    "print(f'Accuracy = {acc}, Precision = {prec}, Recall = {rec}, f1 = {f1}')\n",
    "print(f'Confusion Matrix = {C}')\n",
    "\n",
    "#84 percent accuracy acheived. Almost Same as previous case. Maybe varying priors will give better results.\n",
    "\n",
    "#How to visualize these GMMs ??"
   ]
  },
  {
   "cell_type": "code",
   "execution_count": 14,
   "metadata": {},
   "outputs": [
    {
     "data": {
      "image/png": "[encoded data removed]",
      "text/plain": [
       "<Figure size 432x288 with 1 Axes>"
      ]
     },
     "metadata": {
      "needs_background": "light"
     },
     "output_type": "display_data"
    }
   ],
   "source": [
    "#plotting ROC curve.\n",
    "TP = []\n",
    "FP = []\n",
    "for p0 in np.linspace(0.000001,0.99,100):\n",
    "\n",
    "    C = np.zeros((2,2))\n",
    "    for i in range((X_test.shape[0])):\n",
    "        y_pred = g3(X_test[i], a0, a1, p0)\n",
    "        C[y_pred, Y_test[i]] += 1\n",
    "    \n",
    "    tpr = C[1,1]/(C[1,1] + C[0,1])\n",
    "    fpr = C[1,0]/(C[1,0] + C[0,0])\n",
    "    TP.append(tpr)\n",
    "    FP.append(fpr)\n",
    "\n",
    "plt.plot(FP, TP, '-')\n",
    "plt.xlabel('False Positive Rate'); plt.ylabel('True Positive Rate'); plt.title('ROC curve');"
   ]
  },
  {
   "cell_type": "markdown",
   "metadata": {},
   "source": [
    "#visualizing bias-variance trade off? Increasing model capacity(k) and then getting training and testing accuracies.\n",
    "train_accuracies = []\n",
    "train_loss = []\n",
    "\n",
    "test_accuracies = []\n",
    "test_loss = []\n",
    "\n",
    "#lets define... 0-1 loss\n",
    "def loss(y, y_):\n",
    "    return np.abs(y - y_)\n",
    "\n",
    "for k in range(2, 7):\n",
    "    a0 = GMM(X_0, k)\n",
    "    a1 = GMM(X_1, k)\n",
    "    \n",
    "    C = np.zeros((2,2)) #[[]]\n",
    "    l = 0\n",
    "    for i in range((X_test.shape[0])):\n",
    "        y_pred = g3(X_test[i], a0, a1, 0.5)\n",
    "        l += loss(y_pred, Y_test[i])\n",
    "        C[y_pred, Y_test[i]] += 1\n",
    "    acc = (C[0,0] + C[1,1])/np.sum(C)\n",
    "    test_accuracies.append(acc)\n",
    "    test_loss.append(l)\n",
    "    \n",
    "    \n",
    "    C = np.zeros((2,2)) #[[]]\n",
    "    l = 0\n",
    "    for i in range((X_train.shape[0])):\n",
    "        y_pred = g3(X_train[i], a0, a1, 0.5)\n",
    "        l += loss(y_pred, Y_train[i])\n",
    "        C[y_pred, Y_train[i]] += 1\n",
    "    acc = (C[0,0] + C[1,1])/np.sum(C)\n",
    "    train_accuracies.append(acc)\n",
    "    train_loss.append(l)   \n",
    "\n",
    "plt.plot(train_loss, 'b-');\n",
    "plt.plot(test_loss, 'r-');\n",
    "plt.xlabel('model capacity');\n",
    "plt.ylabel('loss');\n",
    "plt.title('Bias Variance Trade Off?');"
   ]
  },
  {
   "cell_type": "markdown",
   "metadata": {},
   "source": [
    "# MAP Estimation\n",
    "with guassian prior"
   ]
  },
  {
   "cell_type": "code",
   "execution_count": 15,
   "metadata": {},
   "outputs": [],
   "source": [
    "_X_ = np.copy(X)"
   ]
  },
  {
   "cell_type": "code",
   "execution_count": 16,
   "metadata": {},
   "outputs": [],
   "source": [
    "def MAP(X, mu_0, sigma_0):\n",
    "    #mu = np.zeros(X.shape[1])\n",
    "    sigma = np.cov(X, rowvar = False); #guess for cov matrix of X.\n",
    "\n",
    "    #prior_distribution\n",
    "    N = X.shape[0]\n",
    "\n",
    "    mu_n_ = np.sum(X, axis=0)/N\n",
    "    print(f'Sample mean = {mu_n_}')\n",
    "    \n",
    "    mu_n = sigma_0 @ np.linalg.inv(sigma_0 + sigma/N) @ mu_n_[:, np.newaxis] + sigma @ np.linalg.inv(sigma_0 + (sigma)/N) @ mu_0[:, np.newaxis]/N\n",
    "    sigma_n = sigma_0 @ np.linalg.inv(sigma_0 + sigma/N) @ sigma/N\n",
    "    \n",
    "    return mu_n, sigma + sigma_n\n",
    "    #p(x | D) ~ N(mu_n, sigma + sigma_n).\n",
    "    #p(mu | D) ~ N(mu_n, sigma_n).\n"
   ]
  },
  {
   "cell_type": "markdown",
   "metadata": {},
   "source": [
    "# How to choose bias\n",
    "\n",
    "We claim that for healthy people, the average age should be low. The resting blood pressure will also be low, and cholestrol will also be low. Reverse for unhealthy people."
   ]
  },
  {
   "cell_type": "code",
   "execution_count": 17,
   "metadata": {},
   "outputs": [
    {
     "data": {
      "image/png": "[encoded data removed]",
      "text/plain": [
       "<Figure size 432x288 with 6 Axes>"
      ]
     },
     "metadata": {
      "needs_background": "light"
     },
     "output_type": "display_data"
    }
   ],
   "source": [
    "fig, ax = plt.subplots(3, 2, gridspec_kw={'wspace':0.1, 'hspace':0.3})\n",
    "#plt.rcParams['figure.dpi'] = 200\n",
    "#plt.rcParams['figure.figsize'] = [15, 9]\n",
    "titles = ['Age', 'rbps', 'chol'];\n",
    "\n",
    "for i in range(3):\n",
    "    ax[i][0].hist(X_0[:,i]); ax[i][1].hist(X_1[:,i]); ax[i][0].set_xlabel(f'{titles[i]} for class 0'); ax[i][1].set_xlabel(f'{titles[i]} for class 1'); "
   ]
  },
  {
   "cell_type": "code",
   "execution_count": 18,
   "metadata": {},
   "outputs": [
    {
     "name": "stdout",
     "output_type": "stream",
     "text": [
      "Sample mean = [ 32.01915709 113.42145594 233.40996169]\n",
      "Sample mean = [ 55.14473684 140.65350877 288.85964912]\n"
     ]
    }
   ],
   "source": [
    "mu_guess_0 = np.array([25, 110, 220])\n",
    "mu_guess_1 = np.array([65, 140, 300])\n",
    "sigma_guess = np.array([[10,0,0],[0,20,0],[0,0,30]]) #uncerainty in the guess\n",
    "\n",
    "mu_0, s_0 = MAP(X_0, mu_guess_0, sigma_guess)\n",
    "mu_1, s_1 = MAP(X_1, mu_guess_1, sigma_guess)\n",
    "\n",
    "s_0 = np.linalg.inv(s_0)\n",
    "s_1 = np.linalg.inv(s_1)\n",
    "mu_0 = mu_0.reshape(-1)\n",
    "mu_1 = mu_1.reshape(-1)\n",
    "#print(mu_0, mu_1)\n",
    "#Assuming same covariance matrix, only mu_0, mu_1 are parameters.\n",
    "#let us build the classifier now."
   ]
  },
  {
   "cell_type": "code",
   "execution_count": 19,
   "metadata": {},
   "outputs": [
    {
     "name": "stdout",
     "output_type": "stream",
     "text": [
      "Accuracy = 0.8441926345609065, Precision = 0.7870967741935484, Recall = 0.8472222222222222, f1 = 0.8160535117056855\n",
      "Confusion Matrix = [[176.  22.]\n",
      " [ 33. 122.]]\n"
     ]
    }
   ],
   "source": [
    "s = 0.5*np.log(np.linalg.det(s_0)/np.linalg.det(s_1))\n",
    "\n",
    "def g_map(x, p0):\n",
    "    p = np.log(p0/(1-p0))\n",
    "    y = p + s -0.5*((x - mu_0) @ s_0 @ (x-mu_0).T - (x - mu_1) @ s_1 @ (x - mu_1))\n",
    "    #print(y)\n",
    "    if (y > 0): \n",
    "        return 0\n",
    "    else:return 1\n",
    "\n",
    "p0 = 0.5\n",
    "C = np.zeros((2,2)) #[[]]\n",
    "for i in range((X_test.shape[0])):\n",
    "    y_pred = g_map(X_test[i], p0)\n",
    "    C[y_pred, Y_test[i]] += 1\n",
    "    \n",
    "acc = (C[0,0] + C[1,1])/np.sum(C)\n",
    "prec = (C[1,1])/(C[1,1] + C[1,0])\n",
    "rec = C[1,1]/(C[1,1] + C[0,1])\n",
    "f1 = 2*prec*rec/(prec + rec)\n",
    "print(f'Accuracy = {acc}, Precision = {prec}, Recall = {rec}, f1 = {f1}')\n",
    "print(f'Confusion Matrix = {C}')\n",
    "#lets evaluate it now."
   ]
  },
  {
   "cell_type": "markdown",
   "metadata": {},
   "source": [
    "# Using PCA to visualize the input data\n",
    "\n",
    "PCA( _Principal Component Analysis_ ) is a technique that can be used to reduce the dimensions of the dataset. Here I will use it so that I can reduce the dimension of the input data(3) to 2 so that I can easily plot it on a 2-D graph for better visualization."
   ]
  },
  {
   "cell_type": "code",
   "execution_count": 20,
   "metadata": {},
   "outputs": [
    {
     "name": "stdout",
     "output_type": "stream",
     "text": [
      "[[0 0 0]\n",
      " [0 0 0]\n",
      " [0 0 0]\n",
      " ...\n",
      " [0 0 0]\n",
      " [0 0 0]\n",
      " [0 0 0]]\n"
     ]
    }
   ],
   "source": [
    "print(_X_ - X)"
   ]
  },
  {
   "cell_type": "code",
   "execution_count": 21,
   "metadata": {},
   "outputs": [],
   "source": [
    "#data visualization with PCA, so that i can reduce the number of dimensions to 2 and plot them easily.\n",
    "from sklearn.decomposition import PCA\n",
    "pca = PCA(n_components = 2, svd_solver = 'randomized', random_state = 1)\n",
    "X_ = pca.fit_transform(X);\n",
    "X_ = pca.fit_transform(X)"
   ]
  },
  {
   "cell_type": "code",
   "execution_count": 22,
   "metadata": {},
   "outputs": [
    {
     "data": {
      "text/plain": [
       "array([[ -18.62194575,  -18.26683414],\n",
       "       [-103.12017852,    1.46545713],\n",
       "       [ -36.03888279,  -14.4072617 ],\n",
       "       ...,\n",
       "       [ -36.08533882,    7.78732829],\n",
       "       [ -17.64415421,   -0.37499993],\n",
       "       [  -3.83772892,    6.83147592]])"
      ]
     },
     "execution_count": 22,
     "metadata": {},
     "output_type": "execute_result"
    }
   ],
   "source": [
    "X_.shape\n",
    "X_"
   ]
  },
  {
   "cell_type": "code",
   "execution_count": 23,
   "metadata": {},
   "outputs": [
    {
     "data": {
      "text/plain": [
       "array([[ -18.62194575,  -18.26683414],\n",
       "       [-103.12017852,    1.46545713],\n",
       "       [ -36.03888279,  -14.4072617 ],\n",
       "       ...,\n",
       "       [ -36.08533882,    7.78732829],\n",
       "       [ -17.64415421,   -0.37499993],\n",
       "       [  -3.83772892,    6.83147592]])"
      ]
     },
     "execution_count": 23,
     "metadata": {},
     "output_type": "execute_result"
    },
    {
     "data": {
      "image/png": "[encoded data removed]",
      "text/plain": [
       "<Figure size 432x288 with 1 Axes>"
      ]
     },
     "metadata": {
      "needs_background": "light"
     },
     "output_type": "display_data"
    }
   ],
   "source": [
    "X__0 = X_[Y==0]\n",
    "X__1 = X_[Y==1]\n",
    "plt.close()\n",
    "fig, ax = plt.subplots()\n",
    "#ax.set_xlim(left = -50,right = 50)\n",
    "ax.plot(X__0[:,0],X__0[:,1], 'r.');\n",
    "ax.plot(X__1[:,0],X__1[:,1], 'b.');\n",
    "ax.set_xlabel('First Principal Component')\n",
    "ax.set_ylabel('Second Principal Component')\n",
    "ax.set_title(\"Principal Compenent Analysis\")\n",
    "X_"
   ]
  },
  {
   "cell_type": "markdown",
   "metadata": {},
   "source": [
    "Note that the data is _nearly_ linearly separable in two dimensions. If we find out the eigen values of the covariance matrix, we find out that the PCA in two dimensions actually makes sense because one of the eigen values is negligible."
   ]
  },
  {
   "cell_type": "code",
   "execution_count": 24,
   "metadata": {},
   "outputs": [
    {
     "name": "stdout",
     "output_type": "stream",
     "text": [
      "(array([  40.23041129,  317.09909608, 3229.19618034]), array([[ 0.84214145,  0.50926223,  0.17734078],\n",
      "       [-0.53666212,  0.82369458,  0.18308746],\n",
      "       [-0.05283512, -0.24935762,  0.96696909]]))\n"
     ]
    }
   ],
   "source": [
    "a = np.linalg.eigh(np.cov(X, rowvar = False))\n",
    "print(a)\n",
    "#PCA seems to be a good method."
   ]
  },
  {
   "cell_type": "code",
   "execution_count": 25,
   "metadata": {},
   "outputs": [
    {
     "name": "stdout",
     "output_type": "stream",
     "text": [
      "Done.\n"
     ]
    },
    {
     "data": {
      "text/plain": [
       "[]"
      ]
     },
     "execution_count": 25,
     "metadata": {},
     "output_type": "execute_result"
    },
    {
     "data": {
      "image/png": "[encoded data removed]",
      "text/plain": [
       "<Figure size 432x288 with 1 Axes>"
      ]
     },
     "metadata": {
      "needs_background": "light"
     },
     "output_type": "display_data"
    }
   ],
   "source": [
    "from matplotlib.patches import Ellipse\n",
    "import matplotlib.transforms as transforms\n",
    "a_ = GMM(X__0, 3)\n",
    "U = a_[1]\n",
    "P = a_[0]\n",
    "S = a_[2]\n",
    "def confidence_ellipse(cov, u, ax, n_std=3.0, facecolor='none', **kwargs):\n",
    "\n",
    "    pearson = cov[0, 1]/np.sqrt(cov[0, 0] * cov[1, 1])\n",
    "    # Using a special case to obtain the eigenvalues of this\n",
    "    # two-dimensionl dataset.\n",
    "    ell_radius_x = np.sqrt(1 + pearson)\n",
    "    ell_radius_y = np.sqrt(1 - pearson)\n",
    "    ellipse = Ellipse((0, 0),\n",
    "        width=ell_radius_x * 2,\n",
    "        height=ell_radius_y * 2,\n",
    "        facecolor=facecolor,\n",
    "        **kwargs)\n",
    "\n",
    "    # Calculating the stdandard deviation of x from\n",
    "    # the squareroot of the variance and multiplying\n",
    "    # with the given number of standard deviations.\n",
    "    scale_x = np.sqrt(cov[0, 0]) * n_std\n",
    "    mean_x = u[0]\n",
    "\n",
    "    # calculating the stdandard deviation of y ...\n",
    "    scale_y = np.sqrt(cov[1, 1]) * n_std\n",
    "    mean_y = u[1]\n",
    "\n",
    "    transf = transforms.Affine2D() \\\n",
    "        .rotate_deg(45) \\\n",
    "        .scale(scale_x, scale_y) \\\n",
    "        .translate(mean_x, mean_y)\n",
    "\n",
    "    ellipse.set_transform(transf + ax.transData)\n",
    "    return ax.add_patch(ellipse)\n",
    "fig, ax = plt.subplots()\n",
    "ax.plot(X__0[:,0], X__0[:, 1], 'b.')\n",
    "\n",
    "for k in range(U.shape[0]):\n",
    "    ax.text(U[k][0], U[k][1], \"{}\".format(P[k]))\n",
    "    confidence_ellipse(S[k], U[k], ax, n_std=2.5, edgecolor='red')\n",
    "plt.plot()"
   ]
  },
  {
   "cell_type": "code",
   "execution_count": 26,
   "metadata": {},
   "outputs": [
    {
     "name": "stdout",
     "output_type": "stream",
     "text": [
      "0.17280453257790368\n"
     ]
    }
   ],
   "source": [
    "#Classification.\n",
    "thresh = 0.5\n",
    "W = np.linalg.inv(X_train.T @ X_train) @ X_train.T @ Y_train[:, np.newaxis]\n",
    "Y_pred = (X_test @ W ).reshape(-1)\n",
    "Y_pred[Y_pred > thresh] = 1\n",
    "Y_pred[Y_pred < thresh] = 0\n",
    "print(np.sum(np.abs(Y_test - Y_pred))/Y_test.shape[0])"
   ]
  },
  {
   "cell_type": "code",
   "execution_count": 27,
   "metadata": {},
   "outputs": [],
   "source": [
    "#Visualizing this in 2 dimensions\n",
    "W_ = np.linalg.inv(X_.T @ X_) @ X_.T @ Y[:, np.newaxis]"
   ]
  },
  {
   "cell_type": "code",
   "execution_count": 28,
   "metadata": {},
   "outputs": [
    {
     "data": {
      "text/plain": [
       "Text(0.5, 1.0, 'Visualization of descision boundary for MSE loss with threshold!')"
      ]
     },
     "execution_count": 28,
     "metadata": {},
     "output_type": "execute_result"
    },
    {
     "data": {
      "image/png": "[encoded data removed]",
      "text/plain": [
       "<Figure size 432x288 with 1 Axes>"
      ]
     },
     "metadata": {
      "needs_background": "light"
     },
     "output_type": "display_data"
    }
   ],
   "source": [
    "thresh = - 10\n",
    "plt.plot(X__0[:,0],X__0[:,1], 'r.');\n",
    "plt.plot(X__1[:,0],X__1[:,1], 'b.');\n",
    "x = np.linspace(-100, 100, 200);\n",
    "plt.plot(x, thresh-(W_[0][0]/W_[1][0])*x)\n",
    "plt.title('Visualization of descision boundary for MSE loss with threshold!')"
   ]
  },
  {
   "cell_type": "code",
   "execution_count": 29,
   "metadata": {},
   "outputs": [
    {
     "data": {
      "image/png": "[encoded data removed]",
      "text/plain": [
       "<Figure size 432x288 with 1 Axes>"
      ]
     },
     "metadata": {
      "needs_background": "light"
     },
     "output_type": "display_data"
    }
   ],
   "source": [
    "#plotting the ROC curve\n",
    "TP = []\n",
    "FP = []\n",
    "for thresh in np.linspace(-50, 50, 100):\n",
    "    \n",
    "    Y_pred = (X_test @ W ).reshape(-1)\n",
    "    Y_pred[Y_pred > thresh] = 1\n",
    "    Y_pred[Y_pred < thresh] = 0\n",
    "    \n",
    "    C = np.zeros((2,2))\n",
    "    for i in range(Y_pred.shape[0]):\n",
    "        C[int(Y_pred[i]), Y_test[i]] += 1\n",
    "    \n",
    "    tpr = C[1,1]/(C[1,1] + C[0,1])\n",
    "    fpr = C[1,0]/(C[1,0] + C[0,0])\n",
    "    TP.append(tpr)\n",
    "    FP.append(fpr)\n",
    "\n",
    "plt.plot(FP, TP, '-')\n",
    "plt.xlabel('False Positive Rate'); plt.ylabel('True Positive Rate'); plt.title('ROC curve');"
   ]
  },
  {
   "cell_type": "code",
   "execution_count": 30,
   "metadata": {},
   "outputs": [],
   "source": [
    "def grad_descent_mae(X, Y, lr = 1e-3, n_iter = 1000):\n",
    "    #shape of W: (X.shape[1], 1)\n",
    "    W = np.random.rand(X.shape[1], 1)\n",
    "    for i in range(n_iter):\n",
    "        # N*k @ k*1\n",
    "        grad = (np.sign(X @ W - Y[:, np.newaxis]).T @ X).T\n",
    "        W -= lr*grad\n",
    "    return W"
   ]
  },
  {
   "cell_type": "code",
   "execution_count": 31,
   "metadata": {},
   "outputs": [],
   "source": [
    "W_mae = grad_descent_mae(X_train, Y_train)"
   ]
  },
  {
   "cell_type": "code",
   "execution_count": 32,
   "metadata": {},
   "outputs": [
    {
     "name": "stdout",
     "output_type": "stream",
     "text": [
      "0.40793201133144474\n"
     ]
    }
   ],
   "source": [
    "Y_pred = (X_test @ W_mae).reshape(-1)\n",
    "Y_pred[Y_pred > thresh] = 1\n",
    "Y_pred[Y_pred < thresh] = 0\n",
    "print(np.sum(np.abs(Y_test - Y_pred))/Y_test.shape[0])"
   ]
  },
  {
   "cell_type": "code",
   "execution_count": 33,
   "metadata": {},
   "outputs": [
    {
     "data": {
      "text/plain": [
       "Text(0.5, 1.0, 'Visualization of descision boundary for MAE loss')"
      ]
     },
     "execution_count": 33,
     "metadata": {},
     "output_type": "execute_result"
    },
    {
     "data": {
      "image/png": "[encoded data removed]",
      "text/plain": [
       "<Figure size 432x288 with 1 Axes>"
      ]
     },
     "metadata": {
      "needs_background": "light"
     },
     "output_type": "display_data"
    }
   ],
   "source": [
    "thresh = - 10\n",
    "W_ = grad_descent_mae(X_, Y)\n",
    "plt.plot(X__0[:,0],X__0[:,1], 'r.');\n",
    "plt.plot(X__1[:,0],X__1[:,1], 'b.');\n",
    "x = np.linspace(-1, 1, 200);\n",
    "plt.plot(x, thresh-(W_[0][0]/W_[1][0])*x)\n",
    "plt.title('Visualization of descision boundary for MAE loss')"
   ]
  },
  {
   "cell_type": "code",
   "execution_count": 34,
   "metadata": {},
   "outputs": [],
   "source": [
    "#MAE with regularization?\n",
    "def grad_descent_mae_l2(X, Y, lr = 1e-3, reg_const= 1e-2, n_iter = 1000):\n",
    "    #shape of W: (X.shape[1], 1)\n",
    "    W = np.random.rand(X.shape[1], 1)\n",
    "    for i in range(n_iter):\n",
    "        # N*k @ k*1\n",
    "        grad = (np.sign(X @ W - Y[:, np.newaxis]).T @ X).T + reg_const*W\n",
    "        W -= lr*grad\n",
    "    return W\n",
    "\n",
    "def grad_descent_mae_l2(X, Y, lr = 1e-3, reg_const= 1e-2, n_iter = 1000):\n",
    "    #shape of W: (X.shape[1], 1)\n",
    "    W = np.random.rand(X.shape[1], 1)\n",
    "    for i in range(n_iter):\n",
    "        # N*k @ k*1\n",
    "        grad = (np.sign(X @ W - Y[:, np.newaxis]).T @ X).T + reg_const*np.sign(W)\n",
    "        W -= lr*grad\n",
    "    return W\n",
    "\n",
    "def grad_descent_mae_elastic(X, Y, lr = 1e-3, reg_consts= [1e-2, 1e-2], n_iter = 1000):\n",
    "    #shape of W: (X.shape[1], 1)\n",
    "    W = np.random.rand(X.shape[1], 1)\n",
    "    for i in range(n_iter):\n",
    "        # N*k @ k*1\n",
    "        grad = (np.sign(X @ W - Y[:, np.newaxis]).T @ X).T + reg_const[1]*np.sign(W) + reg_const[0]*W\n",
    "        W -= lr*grad\n",
    "    return W"
   ]
  },
  {
   "cell_type": "code",
   "execution_count": 35,
   "metadata": {},
   "outputs": [
    {
     "data": {
      "text/plain": [
       "Text(0.5, 1.0, 'F1 vs Thresh')"
      ]
     },
     "execution_count": 35,
     "metadata": {},
     "output_type": "execute_result"
    },
    {
     "data": {
      "image/png": "[encoded data removed]",
      "text/plain": [
       "<Figure size 432x288 with 4 Axes>"
      ]
     },
     "metadata": {
      "needs_background": "light"
     },
     "output_type": "display_data"
    }
   ],
   "source": [
    "thresh = 2\n",
    "W_mae_l2 = grad_descent_mae_l2(X_train, Y_train)\n",
    "Y_pred = (X_test @ W_mae_l2).reshape(-1)\n",
    "ACC = []\n",
    "REC = []\n",
    "PREC = []\n",
    "F1 = []\n",
    "\n",
    "for thresh in np.linspace(-10, 10, 20):\n",
    "    Y_temp = Y_pred\n",
    "    Y_temp[Y_temp > thresh] = 1\n",
    "    Y_temp[Y_temp < thresh] = 0\n",
    "    C = np.zeros((2,2))\n",
    "    for i in range(Y_pred.shape[0]):\n",
    "        C[int(Y_temp[i]), Y_test[i]] += 1\n",
    "    acc = (C[0,0] + C[1,1])/np.sum(C)\n",
    "    if(C[1,1] == 0 and (C[1,0] == 0 or C[0,1]==0)):\n",
    "        prec = 0.0\n",
    "        rec = 0.0\n",
    "        f1 = 0.0\n",
    "    else:\n",
    "        prec = (C[1,1])/(C[1,1] + C[1,0])\n",
    "        rec = C[1,1]/(C[1,1] + C[0,1])\n",
    "        f1 = 2*prec*rec/(prec + rec)\n",
    "\n",
    "    ACC.append(acc)\n",
    "    PREC.append(prec)\n",
    "    REC.append(rec)\n",
    "    F1.append(f1)\n",
    "\n",
    "fig, ax = plt.subplots(2, 2)\n",
    "ax[0][0].plot(np.linspace(-10, 10, 20), ACC); ax[0][0].set_title('Accuracy vs Thresh')\n",
    "ax[0][1].plot(np.linspace(-10, 10, 20), REC); ax[0][1].set_title('Recall vs Thresh')\n",
    "ax[1][0].plot(np.linspace(-10, 10, 20), PREC); ax[1][0].set_title('Precision vs Thresh')\n",
    "ax[1][1].plot(np.linspace(-10, 10, 20), F1); ax[1][1].set_title('F1 vs Thresh')\n"
   ]
  }
 ],
 "metadata": {
  "kernelspec": {
   "display_name": "Python 3",
   "language": "python",
   "name": "python3"
  },
  "language_info": {
   "codemirror_mode": {
    "name": "ipython",
    "version": 3
   },
   "file_extension": ".py",
   "mimetype": "text/x-python",
   "name": "python",
   "nbconvert_exporter": "python",
   "pygments_lexer": "ipython3",
   "version": "3.7.4"
  }
 },
 "nbformat": 4,
 "nbformat_minor": 2
}
